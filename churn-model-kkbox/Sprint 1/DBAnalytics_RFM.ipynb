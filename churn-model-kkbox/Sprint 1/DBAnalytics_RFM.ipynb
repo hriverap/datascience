{
 "cells": [
  {
   "cell_type": "markdown",
   "metadata": {},
   "source": [
    "# Magister en Ciencia de Datos - UDD\n",
    "## DBAnalytics (Ciencia de Datos aplicada)\n",
    "Sprint 1: Datos transformados I\n",
    "- Crear funciones que permitan construir los siguientes features para cada msno:\n",
    "    - Recencia: cantidad de días desde el último evento de la tabla user_logs.csv\n",
    "    - Frecuencia: cantidad de eventos entre los últimos N y N+M días de la tabla user_logs.csv\n",
    "    - Money: cantidad de dinero pagado entre los últimos N y N+M días de la tabla transactions.csv\n",
    "- Utilizar valores de N y M que capturen comportamiento en última semana, últimas 2 semanas, último mes y últimos 2 meses (queda abierto si se quiere utilizar más valores)."
   ]
  },
  {
   "cell_type": "markdown",
   "metadata": {},
   "source": [
    "* Cargamos archivos"
   ]
  },
  {
   "cell_type": "code",
   "execution_count": 1,
   "metadata": {},
   "outputs": [
    {
     "name": "stdout",
     "output_type": "stream",
     "text": [
      "         tableId           Type    Labels   Time Partitioning   Clustered Fields  \n",
      " ------------------------ ------- -------- ------------------- ------------------ \n",
      "  members_v3               TABLE                                                  \n",
      "  rfm_07                   TABLE                                                  \n",
      "  rfm_14                   TABLE                                                  \n",
      "  rfm_30                   TABLE                                                  \n",
      "  rfm_60                   TABLE                                                  \n",
      "  sample_submission_v2     TABLE                                                  \n",
      "  sample_submission_zero   TABLE                                                  \n",
      "  train_v2                 TABLE                                                  \n",
      "  transactions             TABLE                                                  \n",
      "  user_label_201702        TABLE                                                  \n",
      "  user_label_201703        TABLE                                                  \n",
      "  user_log_features        TABLE                                                  \n",
      "  user_logs                TABLE                                                  \n",
      "  user_logs_final          TABLE                                                  \n",
      "  user_logs_final2         TABLE                                                  \n"
     ]
    }
   ],
   "source": [
    "!bq ls DATASET"
   ]
  },
  {
   "cell_type": "markdown",
   "metadata": {},
   "source": [
    "* Obtenemos la fecha minima y maxima del dataset"
   ]
  },
  {
   "cell_type": "code",
   "execution_count": 2,
   "metadata": {},
   "outputs": [
    {
     "data": {
      "text/html": [
       "<div>\n",
       "<style scoped>\n",
       "    .dataframe tbody tr th:only-of-type {\n",
       "        vertical-align: middle;\n",
       "    }\n",
       "\n",
       "    .dataframe tbody tr th {\n",
       "        vertical-align: top;\n",
       "    }\n",
       "\n",
       "    .dataframe thead th {\n",
       "        text-align: right;\n",
       "    }\n",
       "</style>\n",
       "<table border=\"1\" class=\"dataframe\">\n",
       "  <thead>\n",
       "    <tr style=\"text-align: right;\">\n",
       "      <th></th>\n",
       "      <th>min</th>\n",
       "    </tr>\n",
       "  </thead>\n",
       "  <tbody>\n",
       "    <tr>\n",
       "      <th>0</th>\n",
       "      <td>20150101</td>\n",
       "    </tr>\n",
       "  </tbody>\n",
       "</table>\n",
       "</div>"
      ],
      "text/plain": [
       "        min\n",
       "0  20150101"
      ]
     },
     "execution_count": 2,
     "metadata": {},
     "output_type": "execute_result"
    }
   ],
   "source": [
    "%%bigquery\n",
    "select min(date) as min from DATASET.user_logs"
   ]
  },
  {
   "cell_type": "code",
   "execution_count": 3,
   "metadata": {},
   "outputs": [
    {
     "data": {
      "text/html": [
       "<div>\n",
       "<style scoped>\n",
       "    .dataframe tbody tr th:only-of-type {\n",
       "        vertical-align: middle;\n",
       "    }\n",
       "\n",
       "    .dataframe tbody tr th {\n",
       "        vertical-align: top;\n",
       "    }\n",
       "\n",
       "    .dataframe thead th {\n",
       "        text-align: right;\n",
       "    }\n",
       "</style>\n",
       "<table border=\"1\" class=\"dataframe\">\n",
       "  <thead>\n",
       "    <tr style=\"text-align: right;\">\n",
       "      <th></th>\n",
       "      <th>max</th>\n",
       "    </tr>\n",
       "  </thead>\n",
       "  <tbody>\n",
       "    <tr>\n",
       "      <th>0</th>\n",
       "      <td>20170331</td>\n",
       "    </tr>\n",
       "  </tbody>\n",
       "</table>\n",
       "</div>"
      ],
      "text/plain": [
       "        max\n",
       "0  20170331"
      ]
     },
     "execution_count": 3,
     "metadata": {},
     "output_type": "execute_result"
    }
   ],
   "source": [
    "%%bigquery\n",
    "select max(date) as max from DATASET.user_logs"
   ]
  },
  {
   "cell_type": "markdown",
   "metadata": {},
   "source": [
    "* Periodo: Ultima semana (7 dias)"
   ]
  },
  {
   "cell_type": "code",
   "execution_count": 5,
   "metadata": {},
   "outputs": [
    {
     "data": {
      "text/html": [
       "<div>\n",
       "<style scoped>\n",
       "    .dataframe tbody tr th:only-of-type {\n",
       "        vertical-align: middle;\n",
       "    }\n",
       "\n",
       "    .dataframe tbody tr th {\n",
       "        vertical-align: top;\n",
       "    }\n",
       "\n",
       "    .dataframe thead th {\n",
       "        text-align: right;\n",
       "    }\n",
       "</style>\n",
       "<table border=\"1\" class=\"dataframe\">\n",
       "  <thead>\n",
       "    <tr style=\"text-align: right;\">\n",
       "      <th></th>\n",
       "      <th>msno</th>\n",
       "      <th>frequency</th>\n",
       "      <th>recency</th>\n",
       "      <th>monetary</th>\n",
       "    </tr>\n",
       "  </thead>\n",
       "  <tbody>\n",
       "    <tr>\n",
       "      <th>0</th>\n",
       "      <td>KakuBkxzyceB0XjRytdq7ESWkgb8HcMq7OSL50658Es=</td>\n",
       "      <td>60</td>\n",
       "      <td>6</td>\n",
       "      <td>5940</td>\n",
       "    </tr>\n",
       "    <tr>\n",
       "      <th>1</th>\n",
       "      <td>Cf5af3IdVLbd9B1hDOShdJiAgCbnhRi7s5AcryUdeTM=</td>\n",
       "      <td>147</td>\n",
       "      <td>6</td>\n",
       "      <td>21903</td>\n",
       "    </tr>\n",
       "    <tr>\n",
       "      <th>2</th>\n",
       "      <td>NMg++xVyLL63kg43qA0froU3HbWojZWImtZI3/hruOo=</td>\n",
       "      <td>98</td>\n",
       "      <td>6</td>\n",
       "      <td>9702</td>\n",
       "    </tr>\n",
       "    <tr>\n",
       "      <th>3</th>\n",
       "      <td>imHIVHfKWJYZhiQET9E8X/ua7yZfCZnSJ6PiQyT0BlM=</td>\n",
       "      <td>240</td>\n",
       "      <td>5</td>\n",
       "      <td>33060</td>\n",
       "    </tr>\n",
       "    <tr>\n",
       "      <th>4</th>\n",
       "      <td>+BlrA8VC0GNzwm5eCZCBdr4FcgJmE6sp5Falzq8nl6M=</td>\n",
       "      <td>120</td>\n",
       "      <td>5</td>\n",
       "      <td>17880</td>\n",
       "    </tr>\n",
       "    <tr>\n",
       "      <th>5</th>\n",
       "      <td>WTl8on5kiU1iMo6470QUTr0LieEKSC04za5ftoUKHnY=</td>\n",
       "      <td>54</td>\n",
       "      <td>1</td>\n",
       "      <td>8046</td>\n",
       "    </tr>\n",
       "    <tr>\n",
       "      <th>6</th>\n",
       "      <td>xJpTQRBsnlQhtApj+9yvZQ5Jfd0KQzKTFoBLagH28lU=</td>\n",
       "      <td>161</td>\n",
       "      <td>6</td>\n",
       "      <td>23989</td>\n",
       "    </tr>\n",
       "    <tr>\n",
       "      <th>7</th>\n",
       "      <td>7Hrwd3ehrMexcTMKPwGtvF4rkbct85jS2Mty+7x120I=</td>\n",
       "      <td>203</td>\n",
       "      <td>6</td>\n",
       "      <td>30247</td>\n",
       "    </tr>\n",
       "    <tr>\n",
       "      <th>8</th>\n",
       "      <td>uNZLvt/aQ7Z7LUa2QU9+RjplL2xQnLIqFT1q+laH/yc=</td>\n",
       "      <td>55</td>\n",
       "      <td>5</td>\n",
       "      <td>5445</td>\n",
       "    </tr>\n",
       "    <tr>\n",
       "      <th>9</th>\n",
       "      <td>xZw98iaPMseK3+g0AasOmWWBGRngq2txA3A1MXgq0cU=</td>\n",
       "      <td>147</td>\n",
       "      <td>6</td>\n",
       "      <td>14567</td>\n",
       "    </tr>\n",
       "  </tbody>\n",
       "</table>\n",
       "</div>"
      ],
      "text/plain": [
       "                                           msno  frequency  recency  monetary\n",
       "0  KakuBkxzyceB0XjRytdq7ESWkgb8HcMq7OSL50658Es=         60        6      5940\n",
       "1  Cf5af3IdVLbd9B1hDOShdJiAgCbnhRi7s5AcryUdeTM=        147        6     21903\n",
       "2  NMg++xVyLL63kg43qA0froU3HbWojZWImtZI3/hruOo=         98        6      9702\n",
       "3  imHIVHfKWJYZhiQET9E8X/ua7yZfCZnSJ6PiQyT0BlM=        240        5     33060\n",
       "4  +BlrA8VC0GNzwm5eCZCBdr4FcgJmE6sp5Falzq8nl6M=        120        5     17880\n",
       "5  WTl8on5kiU1iMo6470QUTr0LieEKSC04za5ftoUKHnY=         54        1      8046\n",
       "6  xJpTQRBsnlQhtApj+9yvZQ5Jfd0KQzKTFoBLagH28lU=        161        6     23989\n",
       "7  7Hrwd3ehrMexcTMKPwGtvF4rkbct85jS2Mty+7x120I=        203        6     30247\n",
       "8  uNZLvt/aQ7Z7LUa2QU9+RjplL2xQnLIqFT1q+laH/yc=         55        5      5445\n",
       "9  xZw98iaPMseK3+g0AasOmWWBGRngq2txA3A1MXgq0cU=        147        6     14567"
      ]
     },
     "execution_count": 5,
     "metadata": {},
     "output_type": "execute_result"
    }
   ],
   "source": [
    "%%bigquery\n",
    "with table_date as (SELECT DATE_SUB(DATE \"2017-03-31\", INTERVAL 7 DAY) as days_ago)\n",
    "SELECT \n",
    "tb_log.msno, \n",
    "count(tb_log.msno) as frequency, \n",
    "date_diff(PARSE_DATE('%Y%m%d', CAST(max(tb_log.date) AS STRING)), PARSE_DATE('%Y%m%d', CAST(min(tb_log.date) AS STRING)), DAY) as recency, \n",
    "sum(tb_trx.actual_amount_paid) as monetary \n",
    "FROM DATASET.user_logs as tb_log, table_date as tb_date \n",
    "INNER JOIN DATASET.transactions as tb_trx\n",
    "ON tb_log.msno = tb_trx.msno \n",
    "where PARSE_DATE('%Y%m%d', CAST(tb_log.date AS STRING)) > tb_date.days_ago\n",
    "group by tb_log.msno\n",
    "limit 10"
   ]
  },
  {
   "cell_type": "code",
   "execution_count": 6,
   "metadata": {},
   "outputs": [],
   "source": [
    "!bq rm -f 'kk-churn:DATASET.rfm_07'"
   ]
  },
  {
   "cell_type": "code",
   "execution_count": 7,
   "metadata": {},
   "outputs": [
    {
     "data": {
      "text/html": [
       "<div>\n",
       "<style scoped>\n",
       "    .dataframe tbody tr th:only-of-type {\n",
       "        vertical-align: middle;\n",
       "    }\n",
       "\n",
       "    .dataframe tbody tr th {\n",
       "        vertical-align: top;\n",
       "    }\n",
       "\n",
       "    .dataframe thead th {\n",
       "        text-align: right;\n",
       "    }\n",
       "</style>\n",
       "<table border=\"1\" class=\"dataframe\">\n",
       "  <thead>\n",
       "    <tr style=\"text-align: right;\">\n",
       "      <th></th>\n",
       "    </tr>\n",
       "  </thead>\n",
       "  <tbody>\n",
       "  </tbody>\n",
       "</table>\n",
       "</div>"
      ],
      "text/plain": [
       "Empty DataFrame\n",
       "Columns: []\n",
       "Index: []"
      ]
     },
     "execution_count": 7,
     "metadata": {},
     "output_type": "execute_result"
    }
   ],
   "source": [
    "%%bigquery\n",
    "create table `kk-churn.DATASET.rfm_07` as\n",
    "with table_date as (SELECT DATE_SUB(DATE \"2017-03-31\", INTERVAL 7 DAY) as days_ago)\n",
    "SELECT \n",
    "tb_log.msno, \n",
    "count(tb_log.msno) as frequency, \n",
    "date_diff(PARSE_DATE('%Y%m%d', CAST(max(tb_log.date) AS STRING)), PARSE_DATE('%Y%m%d', CAST(min(tb_log.date) AS STRING)), DAY) as recency, \n",
    "sum(tb_trx.actual_amount_paid) as monetary \n",
    "FROM DATASET.user_logs as tb_log, table_date as tb_date \n",
    "INNER JOIN DATASET.transactions as tb_trx\n",
    "ON tb_log.msno = tb_trx.msno \n",
    "where PARSE_DATE('%Y%m%d', CAST(tb_log.date AS STRING)) > tb_date.days_ago\n",
    "group by tb_log.msno"
   ]
  },
  {
   "cell_type": "code",
   "execution_count": 8,
   "metadata": {},
   "outputs": [
    {
     "data": {
      "text/html": [
       "<div>\n",
       "<style scoped>\n",
       "    .dataframe tbody tr th:only-of-type {\n",
       "        vertical-align: middle;\n",
       "    }\n",
       "\n",
       "    .dataframe tbody tr th {\n",
       "        vertical-align: top;\n",
       "    }\n",
       "\n",
       "    .dataframe thead th {\n",
       "        text-align: right;\n",
       "    }\n",
       "</style>\n",
       "<table border=\"1\" class=\"dataframe\">\n",
       "  <thead>\n",
       "    <tr style=\"text-align: right;\">\n",
       "      <th></th>\n",
       "      <th>msno</th>\n",
       "      <th>frequency</th>\n",
       "      <th>recency</th>\n",
       "      <th>monetary</th>\n",
       "    </tr>\n",
       "  </thead>\n",
       "  <tbody>\n",
       "    <tr>\n",
       "      <th>0</th>\n",
       "      <td>o+afEaOHakGCpKwyZgPdQ+w4a1kahZvQlmqCgpITRB0=</td>\n",
       "      <td>1</td>\n",
       "      <td>0</td>\n",
       "      <td>0</td>\n",
       "    </tr>\n",
       "    <tr>\n",
       "      <th>1</th>\n",
       "      <td>oyL1Yv3oa+GljYSpIVN1SqSY5xUmFxvyG2FutjyDQWw=</td>\n",
       "      <td>91</td>\n",
       "      <td>0</td>\n",
       "      <td>0</td>\n",
       "    </tr>\n",
       "    <tr>\n",
       "      <th>2</th>\n",
       "      <td>hFwwv+eBY22hTUYU8NcxbCzLcbqmBV+fQYydesTspyc=</td>\n",
       "      <td>1</td>\n",
       "      <td>0</td>\n",
       "      <td>0</td>\n",
       "    </tr>\n",
       "    <tr>\n",
       "      <th>3</th>\n",
       "      <td>pJhAcaoQFn30oM2A0eQ/2qxDN/Uavo5sK8+5/SKVwvU=</td>\n",
       "      <td>5</td>\n",
       "      <td>0</td>\n",
       "      <td>0</td>\n",
       "    </tr>\n",
       "    <tr>\n",
       "      <th>4</th>\n",
       "      <td>GwnoPP/YzUGqivejdL0taNYNjCNWa8Va4pr/NjyJLN0=</td>\n",
       "      <td>1</td>\n",
       "      <td>0</td>\n",
       "      <td>0</td>\n",
       "    </tr>\n",
       "  </tbody>\n",
       "</table>\n",
       "</div>"
      ],
      "text/plain": [
       "                                           msno  frequency  recency  monetary\n",
       "0  o+afEaOHakGCpKwyZgPdQ+w4a1kahZvQlmqCgpITRB0=          1        0         0\n",
       "1  oyL1Yv3oa+GljYSpIVN1SqSY5xUmFxvyG2FutjyDQWw=         91        0         0\n",
       "2  hFwwv+eBY22hTUYU8NcxbCzLcbqmBV+fQYydesTspyc=          1        0         0\n",
       "3  pJhAcaoQFn30oM2A0eQ/2qxDN/Uavo5sK8+5/SKVwvU=          5        0         0\n",
       "4  GwnoPP/YzUGqivejdL0taNYNjCNWa8Va4pr/NjyJLN0=          1        0         0"
      ]
     },
     "execution_count": 8,
     "metadata": {},
     "output_type": "execute_result"
    }
   ],
   "source": [
    "%%bigquery\n",
    "select * from DATASET.rfm_07 limit 5"
   ]
  },
  {
   "cell_type": "markdown",
   "metadata": {},
   "source": [
    "* Periodo: Ultima 2 semanas (14 dias)"
   ]
  },
  {
   "cell_type": "code",
   "execution_count": 9,
   "metadata": {},
   "outputs": [],
   "source": [
    "!bq rm -f 'kk-churn:DATASET.rfm_14'"
   ]
  },
  {
   "cell_type": "code",
   "execution_count": 10,
   "metadata": {},
   "outputs": [
    {
     "data": {
      "text/html": [
       "<div>\n",
       "<style scoped>\n",
       "    .dataframe tbody tr th:only-of-type {\n",
       "        vertical-align: middle;\n",
       "    }\n",
       "\n",
       "    .dataframe tbody tr th {\n",
       "        vertical-align: top;\n",
       "    }\n",
       "\n",
       "    .dataframe thead th {\n",
       "        text-align: right;\n",
       "    }\n",
       "</style>\n",
       "<table border=\"1\" class=\"dataframe\">\n",
       "  <thead>\n",
       "    <tr style=\"text-align: right;\">\n",
       "      <th></th>\n",
       "    </tr>\n",
       "  </thead>\n",
       "  <tbody>\n",
       "  </tbody>\n",
       "</table>\n",
       "</div>"
      ],
      "text/plain": [
       "Empty DataFrame\n",
       "Columns: []\n",
       "Index: []"
      ]
     },
     "execution_count": 10,
     "metadata": {},
     "output_type": "execute_result"
    }
   ],
   "source": [
    "%%bigquery\n",
    "create table `kk-churn.DATASET.rfm_14` as\n",
    "with table_date as (SELECT DATE_SUB(DATE \"2017-03-31\", INTERVAL 14 DAY) as days_ago)\n",
    "SELECT \n",
    "tb_log.msno, \n",
    "count(tb_log.msno) as frequency, \n",
    "date_diff(PARSE_DATE('%Y%m%d', CAST(max(tb_log.date) AS STRING)), PARSE_DATE('%Y%m%d', CAST(min(tb_log.date) AS STRING)), DAY) as recency, \n",
    "sum(tb_trx.actual_amount_paid) as monetary \n",
    "FROM DATASET.user_logs as tb_log, table_date as tb_date \n",
    "INNER JOIN DATASET.transactions as tb_trx\n",
    "ON tb_log.msno = tb_trx.msno \n",
    "where PARSE_DATE('%Y%m%d', CAST(tb_log.date AS STRING)) > tb_date.days_ago\n",
    "group by tb_log.msno"
   ]
  },
  {
   "cell_type": "code",
   "execution_count": 11,
   "metadata": {},
   "outputs": [
    {
     "data": {
      "text/html": [
       "<div>\n",
       "<style scoped>\n",
       "    .dataframe tbody tr th:only-of-type {\n",
       "        vertical-align: middle;\n",
       "    }\n",
       "\n",
       "    .dataframe tbody tr th {\n",
       "        vertical-align: top;\n",
       "    }\n",
       "\n",
       "    .dataframe thead th {\n",
       "        text-align: right;\n",
       "    }\n",
       "</style>\n",
       "<table border=\"1\" class=\"dataframe\">\n",
       "  <thead>\n",
       "    <tr style=\"text-align: right;\">\n",
       "      <th></th>\n",
       "      <th>msno</th>\n",
       "      <th>frequency</th>\n",
       "      <th>recency</th>\n",
       "      <th>monetary</th>\n",
       "    </tr>\n",
       "  </thead>\n",
       "  <tbody>\n",
       "    <tr>\n",
       "      <th>0</th>\n",
       "      <td>5Vaw6CSLzlDHTn2iM2GyYY4sWRVZMJs74gaaCSAn+GQ=</td>\n",
       "      <td>1</td>\n",
       "      <td>0</td>\n",
       "      <td>0</td>\n",
       "    </tr>\n",
       "    <tr>\n",
       "      <th>1</th>\n",
       "      <td>Qc4NB1rmxo6knzlKR2pn52G5MwmOQkEDyeYRmbNE3oc=</td>\n",
       "      <td>3</td>\n",
       "      <td>0</td>\n",
       "      <td>0</td>\n",
       "    </tr>\n",
       "    <tr>\n",
       "      <th>2</th>\n",
       "      <td>saCd8bzO0dZdDwZkxCEbbNqqfKl6m+hC0qcpkkJ31/c=</td>\n",
       "      <td>1</td>\n",
       "      <td>0</td>\n",
       "      <td>0</td>\n",
       "    </tr>\n",
       "    <tr>\n",
       "      <th>3</th>\n",
       "      <td>FngneXATnByMuX4nlgPrgvQ1AsdBp2bb4ZQ3FapzqXw=</td>\n",
       "      <td>1</td>\n",
       "      <td>0</td>\n",
       "      <td>0</td>\n",
       "    </tr>\n",
       "    <tr>\n",
       "      <th>4</th>\n",
       "      <td>NcaWaVULMQDiyNmRKESxYrsglXppv/38EhBll+7CgDg=</td>\n",
       "      <td>1</td>\n",
       "      <td>0</td>\n",
       "      <td>0</td>\n",
       "    </tr>\n",
       "  </tbody>\n",
       "</table>\n",
       "</div>"
      ],
      "text/plain": [
       "                                           msno  frequency  recency  monetary\n",
       "0  5Vaw6CSLzlDHTn2iM2GyYY4sWRVZMJs74gaaCSAn+GQ=          1        0         0\n",
       "1  Qc4NB1rmxo6knzlKR2pn52G5MwmOQkEDyeYRmbNE3oc=          3        0         0\n",
       "2  saCd8bzO0dZdDwZkxCEbbNqqfKl6m+hC0qcpkkJ31/c=          1        0         0\n",
       "3  FngneXATnByMuX4nlgPrgvQ1AsdBp2bb4ZQ3FapzqXw=          1        0         0\n",
       "4  NcaWaVULMQDiyNmRKESxYrsglXppv/38EhBll+7CgDg=          1        0         0"
      ]
     },
     "execution_count": 11,
     "metadata": {},
     "output_type": "execute_result"
    }
   ],
   "source": [
    "%%bigquery\n",
    "select * from DATASET.rfm_14 limit 5"
   ]
  },
  {
   "cell_type": "markdown",
   "metadata": {},
   "source": [
    "* Periodo: Ultimo Mes (30 dias)"
   ]
  },
  {
   "cell_type": "code",
   "execution_count": 12,
   "metadata": {},
   "outputs": [],
   "source": [
    "!bq rm -f 'kk-churn:DATASET.rfm_30'"
   ]
  },
  {
   "cell_type": "code",
   "execution_count": 13,
   "metadata": {},
   "outputs": [
    {
     "data": {
      "text/html": [
       "<div>\n",
       "<style scoped>\n",
       "    .dataframe tbody tr th:only-of-type {\n",
       "        vertical-align: middle;\n",
       "    }\n",
       "\n",
       "    .dataframe tbody tr th {\n",
       "        vertical-align: top;\n",
       "    }\n",
       "\n",
       "    .dataframe thead th {\n",
       "        text-align: right;\n",
       "    }\n",
       "</style>\n",
       "<table border=\"1\" class=\"dataframe\">\n",
       "  <thead>\n",
       "    <tr style=\"text-align: right;\">\n",
       "      <th></th>\n",
       "    </tr>\n",
       "  </thead>\n",
       "  <tbody>\n",
       "  </tbody>\n",
       "</table>\n",
       "</div>"
      ],
      "text/plain": [
       "Empty DataFrame\n",
       "Columns: []\n",
       "Index: []"
      ]
     },
     "execution_count": 13,
     "metadata": {},
     "output_type": "execute_result"
    }
   ],
   "source": [
    "%%bigquery\n",
    "create table `kk-churn.DATASET.rfm_30` as\n",
    "with table_date as (SELECT DATE_SUB(DATE \"2017-03-31\", INTERVAL 30 DAY) as days_ago)\n",
    "SELECT \n",
    "tb_log.msno, \n",
    "count(tb_log.msno) as frequency, \n",
    "date_diff(PARSE_DATE('%Y%m%d', CAST(max(tb_log.date) AS STRING)), PARSE_DATE('%Y%m%d', CAST(min(tb_log.date) AS STRING)), DAY) as recency, \n",
    "sum(tb_trx.actual_amount_paid) as monetary \n",
    "FROM DATASET.user_logs as tb_log, table_date as tb_date \n",
    "INNER JOIN DATASET.transactions as tb_trx\n",
    "ON tb_log.msno = tb_trx.msno \n",
    "where PARSE_DATE('%Y%m%d', CAST(tb_log.date AS STRING)) > tb_date.days_ago\n",
    "group by tb_log.msno"
   ]
  },
  {
   "cell_type": "code",
   "execution_count": 14,
   "metadata": {},
   "outputs": [
    {
     "data": {
      "text/html": [
       "<div>\n",
       "<style scoped>\n",
       "    .dataframe tbody tr th:only-of-type {\n",
       "        vertical-align: middle;\n",
       "    }\n",
       "\n",
       "    .dataframe tbody tr th {\n",
       "        vertical-align: top;\n",
       "    }\n",
       "\n",
       "    .dataframe thead th {\n",
       "        text-align: right;\n",
       "    }\n",
       "</style>\n",
       "<table border=\"1\" class=\"dataframe\">\n",
       "  <thead>\n",
       "    <tr style=\"text-align: right;\">\n",
       "      <th></th>\n",
       "      <th>msno</th>\n",
       "      <th>frequency</th>\n",
       "      <th>recency</th>\n",
       "      <th>monetary</th>\n",
       "    </tr>\n",
       "  </thead>\n",
       "  <tbody>\n",
       "    <tr>\n",
       "      <th>0</th>\n",
       "      <td>QOQGpkdrvoiGaIc2TJ2hnMVyAAz51zMu/xy8PAFEzh4=</td>\n",
       "      <td>1</td>\n",
       "      <td>0</td>\n",
       "      <td>0</td>\n",
       "    </tr>\n",
       "    <tr>\n",
       "      <th>1</th>\n",
       "      <td>oKqAmyYARAOh3VuD4tjW4Oq5OvhgT+dHEN5C5wHyZA8=</td>\n",
       "      <td>17</td>\n",
       "      <td>0</td>\n",
       "      <td>2235</td>\n",
       "    </tr>\n",
       "    <tr>\n",
       "      <th>2</th>\n",
       "      <td>9HacyTUf6hQZ2kEzU4Zm89+YPweIfw+GdU5FkslfnMg=</td>\n",
       "      <td>1</td>\n",
       "      <td>0</td>\n",
       "      <td>180</td>\n",
       "    </tr>\n",
       "    <tr>\n",
       "      <th>3</th>\n",
       "      <td>Sc9uns1WPwa1VuEeCRMAGYyA2QDp8RPYQCvrc7OqdG4=</td>\n",
       "      <td>9</td>\n",
       "      <td>0</td>\n",
       "      <td>891</td>\n",
       "    </tr>\n",
       "    <tr>\n",
       "      <th>4</th>\n",
       "      <td>0qauGIU+xpvIvEzt2h2vdZxVqbIVq1Tap3/5IKxOSIs=</td>\n",
       "      <td>22</td>\n",
       "      <td>0</td>\n",
       "      <td>3038</td>\n",
       "    </tr>\n",
       "  </tbody>\n",
       "</table>\n",
       "</div>"
      ],
      "text/plain": [
       "                                           msno  frequency  recency  monetary\n",
       "0  QOQGpkdrvoiGaIc2TJ2hnMVyAAz51zMu/xy8PAFEzh4=          1        0         0\n",
       "1  oKqAmyYARAOh3VuD4tjW4Oq5OvhgT+dHEN5C5wHyZA8=         17        0      2235\n",
       "2  9HacyTUf6hQZ2kEzU4Zm89+YPweIfw+GdU5FkslfnMg=          1        0       180\n",
       "3  Sc9uns1WPwa1VuEeCRMAGYyA2QDp8RPYQCvrc7OqdG4=          9        0       891\n",
       "4  0qauGIU+xpvIvEzt2h2vdZxVqbIVq1Tap3/5IKxOSIs=         22        0      3038"
      ]
     },
     "execution_count": 14,
     "metadata": {},
     "output_type": "execute_result"
    }
   ],
   "source": [
    "%%bigquery\n",
    "select * from DATASET.rfm_30 limit 5"
   ]
  },
  {
   "cell_type": "markdown",
   "metadata": {},
   "source": [
    "* Periodo: Ultimo 2 Mes (60 dias)"
   ]
  },
  {
   "cell_type": "code",
   "execution_count": 15,
   "metadata": {},
   "outputs": [],
   "source": [
    "!bq rm -f 'kk-churn:DATASET.rfm_60'"
   ]
  },
  {
   "cell_type": "code",
   "execution_count": 16,
   "metadata": {},
   "outputs": [
    {
     "data": {
      "text/html": [
       "<div>\n",
       "<style scoped>\n",
       "    .dataframe tbody tr th:only-of-type {\n",
       "        vertical-align: middle;\n",
       "    }\n",
       "\n",
       "    .dataframe tbody tr th {\n",
       "        vertical-align: top;\n",
       "    }\n",
       "\n",
       "    .dataframe thead th {\n",
       "        text-align: right;\n",
       "    }\n",
       "</style>\n",
       "<table border=\"1\" class=\"dataframe\">\n",
       "  <thead>\n",
       "    <tr style=\"text-align: right;\">\n",
       "      <th></th>\n",
       "    </tr>\n",
       "  </thead>\n",
       "  <tbody>\n",
       "  </tbody>\n",
       "</table>\n",
       "</div>"
      ],
      "text/plain": [
       "Empty DataFrame\n",
       "Columns: []\n",
       "Index: []"
      ]
     },
     "execution_count": 16,
     "metadata": {},
     "output_type": "execute_result"
    }
   ],
   "source": [
    "%%bigquery\n",
    "create table `kk-churn.DATASET.rfm_60` as\n",
    "with table_date as (SELECT DATE_SUB(DATE \"2017-03-31\", INTERVAL 60 DAY) as days_ago)\n",
    "SELECT \n",
    "tb_log.msno, \n",
    "count(tb_log.msno) as frequency, \n",
    "date_diff(PARSE_DATE('%Y%m%d', CAST(max(tb_log.date) AS STRING)), PARSE_DATE('%Y%m%d', CAST(min(tb_log.date) AS STRING)), DAY) as recency, \n",
    "sum(tb_trx.actual_amount_paid) as monetary \n",
    "FROM DATASET.user_logs as tb_log, table_date as tb_date \n",
    "INNER JOIN DATASET.transactions as tb_trx\n",
    "ON tb_log.msno = tb_trx.msno \n",
    "where PARSE_DATE('%Y%m%d', CAST(tb_log.date AS STRING)) > tb_date.days_ago\n",
    "group by tb_log.msno"
   ]
  },
  {
   "cell_type": "code",
   "execution_count": 17,
   "metadata": {},
   "outputs": [
    {
     "data": {
      "text/html": [
       "<div>\n",
       "<style scoped>\n",
       "    .dataframe tbody tr th:only-of-type {\n",
       "        vertical-align: middle;\n",
       "    }\n",
       "\n",
       "    .dataframe tbody tr th {\n",
       "        vertical-align: top;\n",
       "    }\n",
       "\n",
       "    .dataframe thead th {\n",
       "        text-align: right;\n",
       "    }\n",
       "</style>\n",
       "<table border=\"1\" class=\"dataframe\">\n",
       "  <thead>\n",
       "    <tr style=\"text-align: right;\">\n",
       "      <th></th>\n",
       "      <th>msno</th>\n",
       "      <th>frequency</th>\n",
       "      <th>recency</th>\n",
       "      <th>monetary</th>\n",
       "    </tr>\n",
       "  </thead>\n",
       "  <tbody>\n",
       "    <tr>\n",
       "      <th>0</th>\n",
       "      <td>Mr0LovH2wvBvP1B/OENvz3PSmafI2KU7vdzgeWEuqEk=</td>\n",
       "      <td>14</td>\n",
       "      <td>24</td>\n",
       "      <td>1806</td>\n",
       "    </tr>\n",
       "    <tr>\n",
       "      <th>1</th>\n",
       "      <td>ixT0UBE3SHEtsxn5PiB0JZaAyMA45sU52ddsxKIWMfM=</td>\n",
       "      <td>10</td>\n",
       "      <td>15</td>\n",
       "      <td>1490</td>\n",
       "    </tr>\n",
       "    <tr>\n",
       "      <th>2</th>\n",
       "      <td>enkDOLaPD1y6m7ZwYSksumoXDEqZ+5TSWCao8OLTuhE=</td>\n",
       "      <td>36</td>\n",
       "      <td>4</td>\n",
       "      <td>4884</td>\n",
       "    </tr>\n",
       "    <tr>\n",
       "      <th>3</th>\n",
       "      <td>5W5mKXaZu6hQ8arknwKnF5OZRI7WxgkVeoJi3t2GBbk=</td>\n",
       "      <td>36</td>\n",
       "      <td>11</td>\n",
       "      <td>11484</td>\n",
       "    </tr>\n",
       "    <tr>\n",
       "      <th>4</th>\n",
       "      <td>sa59zckBLKHy6KWUAAGkSMBp01dXtvTHOBrjTGQZxJg=</td>\n",
       "      <td>2</td>\n",
       "      <td>2</td>\n",
       "      <td>200</td>\n",
       "    </tr>\n",
       "  </tbody>\n",
       "</table>\n",
       "</div>"
      ],
      "text/plain": [
       "                                           msno  frequency  recency  monetary\n",
       "0  Mr0LovH2wvBvP1B/OENvz3PSmafI2KU7vdzgeWEuqEk=         14       24      1806\n",
       "1  ixT0UBE3SHEtsxn5PiB0JZaAyMA45sU52ddsxKIWMfM=         10       15      1490\n",
       "2  enkDOLaPD1y6m7ZwYSksumoXDEqZ+5TSWCao8OLTuhE=         36        4      4884\n",
       "3  5W5mKXaZu6hQ8arknwKnF5OZRI7WxgkVeoJi3t2GBbk=         36       11     11484\n",
       "4  sa59zckBLKHy6KWUAAGkSMBp01dXtvTHOBrjTGQZxJg=          2        2       200"
      ]
     },
     "execution_count": 17,
     "metadata": {},
     "output_type": "execute_result"
    }
   ],
   "source": [
    "%%bigquery\n",
    "select * from DATASET.rfm_60 limit 5"
   ]
  },
  {
   "cell_type": "markdown",
   "metadata": {},
   "source": [
    "* Periodo de 3 meses (90 dias)"
   ]
  },
  {
   "cell_type": "code",
   "execution_count": 19,
   "metadata": {},
   "outputs": [],
   "source": [
    "!bq rm -f 'kk-churn:DATASET.rfm_90'"
   ]
  },
  {
   "cell_type": "code",
   "execution_count": 20,
   "metadata": {},
   "outputs": [
    {
     "data": {
      "text/html": [
       "<div>\n",
       "<style scoped>\n",
       "    .dataframe tbody tr th:only-of-type {\n",
       "        vertical-align: middle;\n",
       "    }\n",
       "\n",
       "    .dataframe tbody tr th {\n",
       "        vertical-align: top;\n",
       "    }\n",
       "\n",
       "    .dataframe thead th {\n",
       "        text-align: right;\n",
       "    }\n",
       "</style>\n",
       "<table border=\"1\" class=\"dataframe\">\n",
       "  <thead>\n",
       "    <tr style=\"text-align: right;\">\n",
       "      <th></th>\n",
       "    </tr>\n",
       "  </thead>\n",
       "  <tbody>\n",
       "  </tbody>\n",
       "</table>\n",
       "</div>"
      ],
      "text/plain": [
       "Empty DataFrame\n",
       "Columns: []\n",
       "Index: []"
      ]
     },
     "execution_count": 20,
     "metadata": {},
     "output_type": "execute_result"
    }
   ],
   "source": [
    "%%bigquery\n",
    "create table `kk-churn.DATASET.rfm_90` as\n",
    "with table_date as (SELECT DATE_SUB(DATE \"2017-03-31\", INTERVAL 90 DAY) as days_ago)\n",
    "SELECT \n",
    "tb_log.msno, \n",
    "count(tb_log.msno) as frequency, \n",
    "date_diff(PARSE_DATE('%Y%m%d', CAST(max(tb_log.date) AS STRING)), PARSE_DATE('%Y%m%d', CAST(min(tb_log.date) AS STRING)), DAY) as recency, \n",
    "sum(tb_trx.actual_amount_paid) as monetary \n",
    "FROM DATASET.user_logs as tb_log, table_date as tb_date \n",
    "INNER JOIN DATASET.transactions as tb_trx\n",
    "ON tb_log.msno = tb_trx.msno \n",
    "where PARSE_DATE('%Y%m%d', CAST(tb_log.date AS STRING)) > tb_date.days_ago\n",
    "group by tb_log.msno"
   ]
  },
  {
   "cell_type": "code",
   "execution_count": 21,
   "metadata": {},
   "outputs": [
    {
     "data": {
      "text/html": [
       "<div>\n",
       "<style scoped>\n",
       "    .dataframe tbody tr th:only-of-type {\n",
       "        vertical-align: middle;\n",
       "    }\n",
       "\n",
       "    .dataframe tbody tr th {\n",
       "        vertical-align: top;\n",
       "    }\n",
       "\n",
       "    .dataframe thead th {\n",
       "        text-align: right;\n",
       "    }\n",
       "</style>\n",
       "<table border=\"1\" class=\"dataframe\">\n",
       "  <thead>\n",
       "    <tr style=\"text-align: right;\">\n",
       "      <th></th>\n",
       "      <th>msno</th>\n",
       "      <th>frequency</th>\n",
       "      <th>recency</th>\n",
       "      <th>monetary</th>\n",
       "    </tr>\n",
       "  </thead>\n",
       "  <tbody>\n",
       "    <tr>\n",
       "      <th>0</th>\n",
       "      <td>zzjLV7W+Yjo8sMtfqXgCYQiWMN5K3puQJgZHyWsF92E=</td>\n",
       "      <td>96</td>\n",
       "      <td>57</td>\n",
       "      <td>9504</td>\n",
       "    </tr>\n",
       "    <tr>\n",
       "      <th>1</th>\n",
       "      <td>LR4YCT91abGPJQpqGE0mJMw8wuBNmJBMExgkKRAUTU8=</td>\n",
       "      <td>72</td>\n",
       "      <td>41</td>\n",
       "      <td>7128</td>\n",
       "    </tr>\n",
       "    <tr>\n",
       "      <th>2</th>\n",
       "      <td>HGbUZw24EWhcKCWTyygb1WPOWgH75DwDp9Bletpik1s=</td>\n",
       "      <td>12</td>\n",
       "      <td>11</td>\n",
       "      <td>1788</td>\n",
       "    </tr>\n",
       "    <tr>\n",
       "      <th>3</th>\n",
       "      <td>ZbdK86SBYIXccIlHu4K23sKi3qXPGc1BKUcg7dg18jU=</td>\n",
       "      <td>26</td>\n",
       "      <td>48</td>\n",
       "      <td>2574</td>\n",
       "    </tr>\n",
       "    <tr>\n",
       "      <th>4</th>\n",
       "      <td>F/3BKckBhfmMmnM2fSJbZJqOBPev8C8WS1o55r74Li8=</td>\n",
       "      <td>150</td>\n",
       "      <td>58</td>\n",
       "      <td>19370</td>\n",
       "    </tr>\n",
       "  </tbody>\n",
       "</table>\n",
       "</div>"
      ],
      "text/plain": [
       "                                           msno  frequency  recency  monetary\n",
       "0  zzjLV7W+Yjo8sMtfqXgCYQiWMN5K3puQJgZHyWsF92E=         96       57      9504\n",
       "1  LR4YCT91abGPJQpqGE0mJMw8wuBNmJBMExgkKRAUTU8=         72       41      7128\n",
       "2  HGbUZw24EWhcKCWTyygb1WPOWgH75DwDp9Bletpik1s=         12       11      1788\n",
       "3  ZbdK86SBYIXccIlHu4K23sKi3qXPGc1BKUcg7dg18jU=         26       48      2574\n",
       "4  F/3BKckBhfmMmnM2fSJbZJqOBPev8C8WS1o55r74Li8=        150       58     19370"
      ]
     },
     "execution_count": 21,
     "metadata": {},
     "output_type": "execute_result"
    }
   ],
   "source": [
    "%%bigquery\n",
    "select * from DATASET.rfm_90 limit 5"
   ]
  },
  {
   "cell_type": "code",
   "execution_count": 22,
   "metadata": {},
   "outputs": [
    {
     "name": "stdout",
     "output_type": "stream",
     "text": [
      "         tableId           Type    Labels   Time Partitioning   Clustered Fields  \n",
      " ------------------------ ------- -------- ------------------- ------------------ \n",
      "  members_v3               TABLE                                                  \n",
      "  rfm_07                   TABLE                                                  \n",
      "  rfm_14                   TABLE                                                  \n",
      "  rfm_30                   TABLE                                                  \n",
      "  rfm_60                   TABLE                                                  \n",
      "  rfm_90                   TABLE                                                  \n",
      "  sample_submission_v2     TABLE                                                  \n",
      "  sample_submission_zero   TABLE                                                  \n",
      "  train_v2                 TABLE                                                  \n",
      "  transactions             TABLE                                                  \n",
      "  user_label_201702        TABLE                                                  \n",
      "  user_label_201703        TABLE                                                  \n",
      "  user_log_features        TABLE                                                  \n",
      "  user_logs                TABLE                                                  \n",
      "  user_logs_final          TABLE                                                  \n",
      "  user_logs_final2         TABLE                                                  \n"
     ]
    }
   ],
   "source": [
    "!bq ls DATASET"
   ]
  },
  {
   "cell_type": "code",
   "execution_count": null,
   "metadata": {},
   "outputs": [],
   "source": []
  }
 ],
 "metadata": {
  "kernelspec": {
   "display_name": "Python 3",
   "language": "python",
   "name": "python3"
  },
  "language_info": {
   "codemirror_mode": {
    "name": "ipython",
    "version": 3
   },
   "file_extension": ".py",
   "mimetype": "text/x-python",
   "name": "python",
   "nbconvert_exporter": "python",
   "pygments_lexer": "ipython3",
   "version": "3.5.3"
  }
 },
 "nbformat": 4,
 "nbformat_minor": 2
}
