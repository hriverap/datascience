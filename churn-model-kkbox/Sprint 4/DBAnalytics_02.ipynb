{
 "cells": [
  {
   "cell_type": "markdown",
   "metadata": {},
   "source": [
    "# Magister en Ciencia de Datos - UDD\n",
    "## DBAnalytics (Ciencia de Datos aplicada)\n",
    "### Sprint 2: Datos transformados II\n",
    "\n",
    "Realizar una búsqueda de hiper-parámetros para entrenar el modelo usando el algoritmo Gradient Boosting Trees.<br>\n",
    "Explorar el impacto de cada feature en el modelo, de dos maneras: <br>\n",
    "Tests KS univariados comparando las poblaciones Churn vs No-Churn <br>\n",
    "Performance del modelo entrenado con y sin el feature (sensibilidad) <br>\n",
    "Calcular el uplift del resultado final para el segmento de los top 10K msno’s. (%churn rate top 10K vs %churn rate total)<br>"
   ]
  },
  {
   "cell_type": "code",
   "execution_count": 1,
   "metadata": {},
   "outputs": [],
   "source": [
    "import pandas as pd"
   ]
  },
  {
   "cell_type": "markdown",
   "metadata": {},
   "source": [
    "* Lectura de archivo de entrenamiento"
   ]
  },
  {
   "cell_type": "code",
   "execution_count": 2,
   "metadata": {},
   "outputs": [
    {
     "name": "stdout",
     "output_type": "stream",
     "text": [
      "gs://kk_data_udd/day_listen.csv#1564861559107461\n",
      "gs://kk_data_udd/df_test.csv#1565240427109815\n",
      "gs://kk_data_udd/df_train.csv#1565240406697715\n",
      "gs://kk_data_udd/fea_rank.csv#1565661603594903\n",
      "gs://kk_data_udd/members_v3.csv#1563566790239785\n",
      "gs://kk_data_udd/sample_submission_v2.csv#1563580288727022\n",
      "gs://kk_data_udd/sample_submission_zero.csv#1563580145138161\n",
      "gs://kk_data_udd/sub_age_xgb_pred.csv#1565055727433942\n",
      "gs://kk_data_udd/sub_day_listen.csv#1564861658307683\n",
      "gs://kk_data_udd/sub_reg_via_xgb_pred.csv#1565055581900599\n",
      "gs://kk_data_udd/sub_user_satisfaction.cvs#1564861608790636\n",
      "gs://kk_data_udd/test_sorted_v1.csv#1565242819914404\n",
      "gs://kk_data_udd/train.csv#1563565831541482\n",
      "gs://kk_data_udd/train_sorted_v1.csv#1565243444686022\n",
      "gs://kk_data_udd/train_sorted_v2.csv#1565583113260731\n",
      "gs://kk_data_udd/train_v2.csv#1563580263806878\n",
      "gs://kk_data_udd/transactions.csv#1563580088583483\n",
      "gs://kk_data_udd/transactions_v2.csv#1563580288931202\n",
      "gs://kk_data_udd/user_label_201702.csv#1563681052454642\n",
      "gs://kk_data_udd/user_label_201703.csv#1563681061521361\n",
      "gs://kk_data_udd/user_latent_satisfaction.csv#1564861506322352\n",
      "gs://kk_data_udd/user_logs.csv#1563642063874891\n",
      "gs://kk_data_udd/user_logs_v2.csv#1563580748443816\n",
      "gs://kk_data_udd/submission/\n"
     ]
    }
   ],
   "source": [
    "!gsutil ls -a gs://kk_data_udd"
   ]
  },
  {
   "cell_type": "code",
   "execution_count": 3,
   "metadata": {},
   "outputs": [],
   "source": [
    "df_train = pd.read_csv(\"gs://kk_data_udd/train_sorted_v2.csv\", nrows=10000)"
   ]
  },
  {
   "cell_type": "code",
   "execution_count": 4,
   "metadata": {},
   "outputs": [
    {
     "data": {
      "text/html": [
       "<div>\n",
       "<style scoped>\n",
       "    .dataframe tbody tr th:only-of-type {\n",
       "        vertical-align: middle;\n",
       "    }\n",
       "\n",
       "    .dataframe tbody tr th {\n",
       "        vertical-align: top;\n",
       "    }\n",
       "\n",
       "    .dataframe thead th {\n",
       "        text-align: right;\n",
       "    }\n",
       "</style>\n",
       "<table border=\"1\" class=\"dataframe\">\n",
       "  <thead>\n",
       "    <tr style=\"text-align: right;\">\n",
       "      <th></th>\n",
       "      <th>msno</th>\n",
       "      <th>is_churn</th>\n",
       "      <th>city</th>\n",
       "      <th>bd</th>\n",
       "      <th>gender</th>\n",
       "      <th>registered_via</th>\n",
       "      <th>registration_init_time</th>\n",
       "      <th>payment_method_id</th>\n",
       "      <th>payment_plan_days</th>\n",
       "      <th>plan_list_price</th>\n",
       "      <th>...</th>\n",
       "      <th>discount_120</th>\n",
       "      <th>discount_149</th>\n",
       "      <th>discount_180</th>\n",
       "      <th>discount_20</th>\n",
       "      <th>discount_30</th>\n",
       "      <th>discount_50</th>\n",
       "      <th>md_-1</th>\n",
       "      <th>md_0</th>\n",
       "      <th>day_listen</th>\n",
       "      <th>user_latent_satisfaction</th>\n",
       "    </tr>\n",
       "  </thead>\n",
       "  <tbody>\n",
       "    <tr>\n",
       "      <th>0</th>\n",
       "      <td>QA7uiXy8vIbUSPOkCf9RwQ3FsT8jVq2OxDr8zqa7bRQ=</td>\n",
       "      <td>1</td>\n",
       "      <td>10.0</td>\n",
       "      <td>38.0</td>\n",
       "      <td>1.0</td>\n",
       "      <td>9.0</td>\n",
       "      <td>2005.0</td>\n",
       "      <td>39</td>\n",
       "      <td>30</td>\n",
       "      <td>149</td>\n",
       "      <td>...</td>\n",
       "      <td>0</td>\n",
       "      <td>0</td>\n",
       "      <td>0</td>\n",
       "      <td>0</td>\n",
       "      <td>0</td>\n",
       "      <td>0</td>\n",
       "      <td>0</td>\n",
       "      <td>1</td>\n",
       "      <td>33.0</td>\n",
       "      <td>0.820694</td>\n",
       "    </tr>\n",
       "    <tr>\n",
       "      <th>1</th>\n",
       "      <td>QA7uiXy8vIbUSPOkCf9RwQ3FsT8jVq2OxDr8zqa7bRQ=</td>\n",
       "      <td>1</td>\n",
       "      <td>10.0</td>\n",
       "      <td>38.0</td>\n",
       "      <td>1.0</td>\n",
       "      <td>9.0</td>\n",
       "      <td>2005.0</td>\n",
       "      <td>39</td>\n",
       "      <td>30</td>\n",
       "      <td>149</td>\n",
       "      <td>...</td>\n",
       "      <td>0</td>\n",
       "      <td>0</td>\n",
       "      <td>0</td>\n",
       "      <td>0</td>\n",
       "      <td>0</td>\n",
       "      <td>0</td>\n",
       "      <td>0</td>\n",
       "      <td>1</td>\n",
       "      <td>33.0</td>\n",
       "      <td>0.820694</td>\n",
       "    </tr>\n",
       "    <tr>\n",
       "      <th>2</th>\n",
       "      <td>Nb1ZGEmagQeba5E+nQj8VlQoWl+8SFmLZu+Y8ytIamw=</td>\n",
       "      <td>1</td>\n",
       "      <td>18.0</td>\n",
       "      <td>22.0</td>\n",
       "      <td>2.0</td>\n",
       "      <td>9.0</td>\n",
       "      <td>2006.0</td>\n",
       "      <td>38</td>\n",
       "      <td>30</td>\n",
       "      <td>149</td>\n",
       "      <td>...</td>\n",
       "      <td>0</td>\n",
       "      <td>0</td>\n",
       "      <td>0</td>\n",
       "      <td>0</td>\n",
       "      <td>0</td>\n",
       "      <td>0</td>\n",
       "      <td>0</td>\n",
       "      <td>1</td>\n",
       "      <td>152.0</td>\n",
       "      <td>0.919394</td>\n",
       "    </tr>\n",
       "    <tr>\n",
       "      <th>3</th>\n",
       "      <td>Nb1ZGEmagQeba5E+nQj8VlQoWl+8SFmLZu+Y8ytIamw=</td>\n",
       "      <td>0</td>\n",
       "      <td>18.0</td>\n",
       "      <td>22.0</td>\n",
       "      <td>2.0</td>\n",
       "      <td>9.0</td>\n",
       "      <td>2006.0</td>\n",
       "      <td>38</td>\n",
       "      <td>30</td>\n",
       "      <td>149</td>\n",
       "      <td>...</td>\n",
       "      <td>0</td>\n",
       "      <td>0</td>\n",
       "      <td>0</td>\n",
       "      <td>0</td>\n",
       "      <td>0</td>\n",
       "      <td>0</td>\n",
       "      <td>0</td>\n",
       "      <td>1</td>\n",
       "      <td>152.0</td>\n",
       "      <td>0.919394</td>\n",
       "    </tr>\n",
       "    <tr>\n",
       "      <th>4</th>\n",
       "      <td>MkuWz0Nq6/Oq5fKqRddWL7oh2SLUSRe3/g+XmAWqW1Q=</td>\n",
       "      <td>1</td>\n",
       "      <td>11.0</td>\n",
       "      <td>31.0</td>\n",
       "      <td>2.0</td>\n",
       "      <td>9.0</td>\n",
       "      <td>2006.0</td>\n",
       "      <td>38</td>\n",
       "      <td>30</td>\n",
       "      <td>149</td>\n",
       "      <td>...</td>\n",
       "      <td>0</td>\n",
       "      <td>0</td>\n",
       "      <td>0</td>\n",
       "      <td>0</td>\n",
       "      <td>0</td>\n",
       "      <td>0</td>\n",
       "      <td>0</td>\n",
       "      <td>1</td>\n",
       "      <td>4.0</td>\n",
       "      <td>1.000000</td>\n",
       "    </tr>\n",
       "  </tbody>\n",
       "</table>\n",
       "<p>5 rows × 219 columns</p>\n",
       "</div>"
      ],
      "text/plain": [
       "                                           msno  is_churn  city    bd  gender  \\\n",
       "0  QA7uiXy8vIbUSPOkCf9RwQ3FsT8jVq2OxDr8zqa7bRQ=         1  10.0  38.0     1.0   \n",
       "1  QA7uiXy8vIbUSPOkCf9RwQ3FsT8jVq2OxDr8zqa7bRQ=         1  10.0  38.0     1.0   \n",
       "2  Nb1ZGEmagQeba5E+nQj8VlQoWl+8SFmLZu+Y8ytIamw=         1  18.0  22.0     2.0   \n",
       "3  Nb1ZGEmagQeba5E+nQj8VlQoWl+8SFmLZu+Y8ytIamw=         0  18.0  22.0     2.0   \n",
       "4  MkuWz0Nq6/Oq5fKqRddWL7oh2SLUSRe3/g+XmAWqW1Q=         1  11.0  31.0     2.0   \n",
       "\n",
       "   registered_via  registration_init_time  payment_method_id  \\\n",
       "0             9.0                  2005.0                 39   \n",
       "1             9.0                  2005.0                 39   \n",
       "2             9.0                  2006.0                 38   \n",
       "3             9.0                  2006.0                 38   \n",
       "4             9.0                  2006.0                 38   \n",
       "\n",
       "   payment_plan_days  plan_list_price  ...  discount_120  discount_149  \\\n",
       "0                 30              149  ...             0             0   \n",
       "1                 30              149  ...             0             0   \n",
       "2                 30              149  ...             0             0   \n",
       "3                 30              149  ...             0             0   \n",
       "4                 30              149  ...             0             0   \n",
       "\n",
       "   discount_180  discount_20  discount_30  discount_50  md_-1  md_0  \\\n",
       "0             0            0            0            0      0     1   \n",
       "1             0            0            0            0      0     1   \n",
       "2             0            0            0            0      0     1   \n",
       "3             0            0            0            0      0     1   \n",
       "4             0            0            0            0      0     1   \n",
       "\n",
       "   day_listen  user_latent_satisfaction  \n",
       "0        33.0                  0.820694  \n",
       "1        33.0                  0.820694  \n",
       "2       152.0                  0.919394  \n",
       "3       152.0                  0.919394  \n",
       "4         4.0                  1.000000  \n",
       "\n",
       "[5 rows x 219 columns]"
      ]
     },
     "execution_count": 4,
     "metadata": {},
     "output_type": "execute_result"
    }
   ],
   "source": [
    "df_train.head()"
   ]
  },
  {
   "cell_type": "code",
   "execution_count": 5,
   "metadata": {},
   "outputs": [],
   "source": [
    "df_train = df_train.drop(['transaction_date', 'membership_expire_date', 'registration_init_time'], axis=1)"
   ]
  },
  {
   "cell_type": "markdown",
   "metadata": {},
   "source": [
    "* Importacion de librerias para modelamiento"
   ]
  },
  {
   "cell_type": "code",
   "execution_count": 6,
   "metadata": {},
   "outputs": [],
   "source": [
    "import pandas as pd\n",
    "import sklearn\n",
    "import xgboost as xgb\n",
    "from sklearn.model_selection import GridSearchCV\n",
    "from sklearn.model_selection import RandomizedSearchCV\n",
    "from sklearn.model_selection import StratifiedKFold\n",
    "from sklearn.model_selection import train_test_split"
   ]
  },
  {
   "cell_type": "code",
   "execution_count": 7,
   "metadata": {},
   "outputs": [],
   "source": [
    "import gc\n",
    "import warnings\n",
    "from datetime import datetime"
   ]
  },
  {
   "cell_type": "code",
   "execution_count": 8,
   "metadata": {},
   "outputs": [],
   "source": [
    "gc.enable()\n",
    "warnings.filterwarnings('ignore')"
   ]
  },
  {
   "cell_type": "markdown",
   "metadata": {},
   "source": [
    "* Definimos funciones"
   ]
  },
  {
   "cell_type": "code",
   "execution_count": 9,
   "metadata": {},
   "outputs": [],
   "source": [
    "def timer(start_time=None):\n",
    "    if not start_time:\n",
    "        start_time = datetime.now()\n",
    "        return start_time\n",
    "    elif start_time:\n",
    "        thour, temp_sec = divmod((datetime.now() - start_time).total_seconds(), 3600)\n",
    "        tmin, tsec = divmod(temp_sec, 60)\n",
    "        print('\\n Time taken: %i hours %i minutes and %s seconds.' % (thour, tmin, round(tsec, 2)))"
   ]
  },
  {
   "cell_type": "code",
   "execution_count": 10,
   "metadata": {},
   "outputs": [],
   "source": [
    "def xgb_score(preds, dtrain):\n",
    "    labels = dtrain.get_label()\n",
    "    return 'log_loss', sklearn.metrics.log_loss(labels, preds)"
   ]
  },
  {
   "cell_type": "markdown",
   "metadata": {},
   "source": [
    "* Generamos fetures de entrenamiento"
   ]
  },
  {
   "cell_type": "code",
   "execution_count": 11,
   "metadata": {},
   "outputs": [],
   "source": [
    "cols = [c for c in df_train.columns if c not in ['is_churn', 'msno']]"
   ]
  },
  {
   "cell_type": "code",
   "execution_count": 12,
   "metadata": {},
   "outputs": [],
   "source": [
    "df_train = df_train.fillna(0)"
   ]
  },
  {
   "cell_type": "code",
   "execution_count": 13,
   "metadata": {},
   "outputs": [],
   "source": [
    "Y = df_train['is_churn'].values\n",
    "X = df_train[cols]"
   ]
  },
  {
   "cell_type": "markdown",
   "metadata": {},
   "source": [
    "* Creamos dataset de entrenamiento y test desde ek tablon"
   ]
  },
  {
   "cell_type": "code",
   "execution_count": 14,
   "metadata": {},
   "outputs": [],
   "source": [
    "X_train, X_test, y_train, y_test = train_test_split(X, Y, test_size=0.3, random_state=42)"
   ]
  },
  {
   "cell_type": "markdown",
   "metadata": {},
   "source": [
    "* Se define los hyperametros para el finetuning"
   ]
  },
  {
   "cell_type": "code",
   "execution_count": 15,
   "metadata": {},
   "outputs": [],
   "source": [
    "params = {\n",
    "    'min_child_weight': [1, 5, 10],\n",
    "    'gamma': [0.5, 1, 1.5, 2, 5],\n",
    "    'colsample_bytree': [0.6, 0.8, 1.0],\n",
    "    'max_depth': [3, 4, 5, 6, 7],\n",
    "    'subsample': [0.7, 0.75, 0.8]\n",
    "}"
   ]
  },
  {
   "cell_type": "markdown",
   "metadata": {},
   "source": [
    "* Se activa modelo con los valores por defecto"
   ]
  },
  {
   "cell_type": "code",
   "execution_count": 16,
   "metadata": {},
   "outputs": [],
   "source": [
    "model = xgb.XGBClassifier(learning_rate=0.002, n_estimators=600, objective='binary:logistic', silent=True, nthread=1)"
   ]
  },
  {
   "cell_type": "code",
   "execution_count": 17,
   "metadata": {},
   "outputs": [],
   "source": [
    "folds = 3\n",
    "param_comb = 5"
   ]
  },
  {
   "cell_type": "code",
   "execution_count": 18,
   "metadata": {},
   "outputs": [],
   "source": [
    "skf = StratifiedKFold(n_splits=folds, shuffle=True, random_state=1001)"
   ]
  },
  {
   "cell_type": "code",
   "execution_count": 19,
   "metadata": {},
   "outputs": [],
   "source": [
    "random_search = RandomizedSearchCV(model, \n",
    "                                   param_distributions=params, \n",
    "                                   n_iter=param_comb, \n",
    "                                   scoring='neg_log_loss', \n",
    "                                   n_jobs=4,\n",
    "                                   cv=skf.split(X_train, y_train), \n",
    "                                   verbose=3, \n",
    "                                   random_state=1001)"
   ]
  },
  {
   "cell_type": "markdown",
   "metadata": {},
   "source": [
    "* Se comienza el proceso de busqueda de hyperparametros"
   ]
  },
  {
   "cell_type": "code",
   "execution_count": 20,
   "metadata": {},
   "outputs": [
    {
     "name": "stdout",
     "output_type": "stream",
     "text": [
      "Fitting 3 folds for each of 5 candidates, totalling 15 fits\n",
      "[CV] max_depth=4, colsample_bytree=0.6, gamma=5, subsample=0.7, min_child_weight=1 \n",
      "[CV] max_depth=4, colsample_bytree=0.6, gamma=5, subsample=0.7, min_child_weight=1 \n",
      "[CV] max_depth=4, colsample_bytree=0.6, gamma=5, subsample=0.7, min_child_weight=1 \n",
      "[CV] max_depth=4, colsample_bytree=0.8, gamma=1, subsample=0.75, min_child_weight=10 \n",
      "[CV]  max_depth=4, colsample_bytree=0.6, gamma=5, subsample=0.7, min_child_weight=1, score=-0.5068190921492399, total=  21.9s\n",
      "[CV] max_depth=4, colsample_bytree=0.8, gamma=1, subsample=0.75, min_child_weight=10 \n",
      "[CV]  max_depth=4, colsample_bytree=0.6, gamma=5, subsample=0.7, min_child_weight=1, score=-0.505730340322727, total=  22.1s\n",
      "[CV] max_depth=4, colsample_bytree=0.8, gamma=1, subsample=0.75, min_child_weight=10 \n",
      "[CV]  max_depth=4, colsample_bytree=0.6, gamma=5, subsample=0.7, min_child_weight=1, score=-0.5081240729334219, total=  22.3s\n",
      "[CV] max_depth=6, colsample_bytree=1.0, gamma=1, subsample=0.75, min_child_weight=5 \n",
      "[CV]  max_depth=4, colsample_bytree=0.8, gamma=1, subsample=0.75, min_child_weight=10, score=-0.5044396705957387, total=  27.5s\n",
      "[CV] max_depth=6, colsample_bytree=1.0, gamma=1, subsample=0.75, min_child_weight=5 \n",
      "[CV]  max_depth=4, colsample_bytree=0.8, gamma=1, subsample=0.75, min_child_weight=10, score=-0.5058191889123348, total=  28.3s\n",
      "[CV] max_depth=6, colsample_bytree=1.0, gamma=1, subsample=0.75, min_child_weight=5 \n",
      "[CV]  max_depth=4, colsample_bytree=0.8, gamma=1, subsample=0.75, min_child_weight=10, score=-0.5078948960378862, total=  28.3s\n",
      "[CV] max_depth=3, colsample_bytree=0.8, gamma=0.5, subsample=0.8, min_child_weight=1 \n",
      "[CV]  max_depth=3, colsample_bytree=0.8, gamma=0.5, subsample=0.8, min_child_weight=1, score=-0.5038548012382982, total=  21.6s\n",
      "[CV] max_depth=3, colsample_bytree=0.8, gamma=0.5, subsample=0.8, min_child_weight=1 \n",
      "[CV]  max_depth=6, colsample_bytree=1.0, gamma=1, subsample=0.75, min_child_weight=5, score=-0.510715212988976, total=  50.3s\n",
      "[CV] max_depth=3, colsample_bytree=0.8, gamma=0.5, subsample=0.8, min_child_weight=1 \n",
      "[CV]  max_depth=6, colsample_bytree=1.0, gamma=1, subsample=0.75, min_child_weight=5, score=-0.5120312284615947, total=  49.3s\n",
      "[CV] max_depth=3, colsample_bytree=0.8, gamma=1, subsample=0.7, min_child_weight=1 \n",
      "[CV]  max_depth=3, colsample_bytree=0.8, gamma=0.5, subsample=0.8, min_child_weight=1, score=-0.5045853702553443, total=  21.4s\n",
      "[CV] max_depth=3, colsample_bytree=0.8, gamma=1, subsample=0.7, min_child_weight=1 \n",
      "[CV]  max_depth=3, colsample_bytree=0.8, gamma=0.5, subsample=0.8, min_child_weight=1, score=-0.5068683306444268, total=  21.9s\n",
      "[CV] max_depth=3, colsample_bytree=0.8, gamma=1, subsample=0.7, min_child_weight=1 \n",
      "[CV]  max_depth=3, colsample_bytree=0.8, gamma=1, subsample=0.7, min_child_weight=1, score=-0.503763742125637, total=  21.9s\n",
      "[CV]  max_depth=6, colsample_bytree=1.0, gamma=1, subsample=0.75, min_child_weight=5, score=-0.5153644617552723, total=  50.0s\n",
      "[CV]  max_depth=3, colsample_bytree=0.8, gamma=1, subsample=0.7, min_child_weight=1, score=-0.5047853345133642, total=  16.7s\n",
      "[CV]  max_depth=3, colsample_bytree=0.8, gamma=1, subsample=0.7, min_child_weight=1, score=-0.5069547346603498, total=  16.9s\n"
     ]
    },
    {
     "name": "stderr",
     "output_type": "stream",
     "text": [
      "[Parallel(n_jobs=4)]: Done  15 out of  15 | elapsed:  1.9min finished\n"
     ]
    },
    {
     "name": "stdout",
     "output_type": "stream",
     "text": [
      "\n",
      " Time taken: 0 hours 2 minutes and 13.28 seconds.\n"
     ]
    }
   ],
   "source": [
    "start_time = timer(None)  \n",
    "random_search.fit(X_train, y_train)\n",
    "timer(start_time)  "
   ]
  },
  {
   "cell_type": "markdown",
   "metadata": {},
   "source": [
    "* Revisamos los resultados"
   ]
  },
  {
   "cell_type": "markdown",
   "metadata": {},
   "source": [
    "1. Mejores estimadores"
   ]
  },
  {
   "cell_type": "code",
   "execution_count": 21,
   "metadata": {},
   "outputs": [
    {
     "data": {
      "text/plain": [
       "XGBClassifier(base_score=0.5, booster='gbtree', colsample_bylevel=1,\n",
       "       colsample_bynode=1, colsample_bytree=0.8, gamma=0.5,\n",
       "       learning_rate=0.002, max_delta_step=0, max_depth=3,\n",
       "       min_child_weight=1, missing=None, n_estimators=600, n_jobs=1,\n",
       "       nthread=1, objective='binary:logistic', random_state=0, reg_alpha=0,\n",
       "       reg_lambda=1, scale_pos_weight=1, seed=None, silent=True,\n",
       "       subsample=0.8, verbosity=1)"
      ]
     },
     "execution_count": 21,
     "metadata": {},
     "output_type": "execute_result"
    }
   ],
   "source": [
    "random_search.best_estimator_"
   ]
  },
  {
   "cell_type": "code",
   "execution_count": 22,
   "metadata": {},
   "outputs": [
    {
     "name": "stdout",
     "output_type": "stream",
     "text": [
      "2. Gini score para 3-fold encontrado con 5 parametros de combinación\n"
     ]
    }
   ],
   "source": [
    "print('2. Gini score para %d-fold encontrado con %d parametros de combinación' % (folds, param_comb))"
   ]
  },
  {
   "cell_type": "code",
   "execution_count": 23,
   "metadata": {},
   "outputs": [
    {
     "data": {
      "text/plain": [
       "-2.0102053115112444"
      ]
     },
     "execution_count": 23,
     "metadata": {},
     "output_type": "execute_result"
    }
   ],
   "source": [
    "random_search.best_score_ * 2 - 1"
   ]
  },
  {
   "cell_type": "markdown",
   "metadata": {},
   "source": [
    "3. Best hyperparameters:"
   ]
  },
  {
   "cell_type": "code",
   "execution_count": 24,
   "metadata": {},
   "outputs": [
    {
     "data": {
      "text/plain": [
       "{'colsample_bytree': 0.8,\n",
       " 'gamma': 0.5,\n",
       " 'max_depth': 3,\n",
       " 'min_child_weight': 1,\n",
       " 'subsample': 0.8}"
      ]
     },
     "execution_count": 24,
     "metadata": {},
     "output_type": "execute_result"
    }
   ],
   "source": [
    "random_search.best_params_"
   ]
  },
  {
   "cell_type": "markdown",
   "metadata": {},
   "source": [
    "4. Guardamos los resultados"
   ]
  },
  {
   "cell_type": "code",
   "execution_count": 25,
   "metadata": {},
   "outputs": [],
   "source": [
    "results = pd.DataFrame(random_search.cv_results_)\n",
    "results.to_csv('xgboost_random_grid_search_results_01.csv', index=False)"
   ]
  },
  {
   "cell_type": "markdown",
   "metadata": {},
   "source": [
    "* Chequeamos modelo"
   ]
  },
  {
   "cell_type": "code",
   "execution_count": 26,
   "metadata": {},
   "outputs": [
    {
     "ename": "XGBoostError",
     "evalue": "need to call fit or load_model beforehand",
     "output_type": "error",
     "traceback": [
      "\u001b[0;31m---------------------------------------------------------------------------\u001b[0m",
      "\u001b[0;31mXGBoostError\u001b[0m                              Traceback (most recent call last)",
      "\u001b[0;32m<ipython-input-26-0e147a3957b1>\u001b[0m in \u001b[0;36m<module>\u001b[0;34m\u001b[0m\n\u001b[0;32m----> 1\u001b[0;31m \u001b[0mpredictions\u001b[0m \u001b[0;34m=\u001b[0m \u001b[0mmodel\u001b[0m\u001b[0;34m.\u001b[0m\u001b[0mpredict\u001b[0m\u001b[0;34m(\u001b[0m\u001b[0mX_test\u001b[0m\u001b[0;34m)\u001b[0m\u001b[0;34m\u001b[0m\u001b[0m\n\u001b[0m",
      "\u001b[0;32m~/.local/lib/python3.5/site-packages/xgboost/sklearn.py\u001b[0m in \u001b[0;36mpredict\u001b[0;34m(self, data, output_margin, ntree_limit, validate_features)\u001b[0m\n\u001b[1;32m    786\u001b[0m         \u001b[0;32mif\u001b[0m \u001b[0mntree_limit\u001b[0m \u001b[0;32mis\u001b[0m \u001b[0;32mNone\u001b[0m\u001b[0;34m:\u001b[0m\u001b[0;34m\u001b[0m\u001b[0m\n\u001b[1;32m    787\u001b[0m             \u001b[0mntree_limit\u001b[0m \u001b[0;34m=\u001b[0m \u001b[0mgetattr\u001b[0m\u001b[0;34m(\u001b[0m\u001b[0mself\u001b[0m\u001b[0;34m,\u001b[0m \u001b[0;34m\"best_ntree_limit\"\u001b[0m\u001b[0;34m,\u001b[0m \u001b[0;36m0\u001b[0m\u001b[0;34m)\u001b[0m\u001b[0;34m\u001b[0m\u001b[0m\n\u001b[0;32m--> 788\u001b[0;31m         class_probs = self.get_booster().predict(test_dmatrix,\n\u001b[0m\u001b[1;32m    789\u001b[0m                                                  \u001b[0moutput_margin\u001b[0m\u001b[0;34m=\u001b[0m\u001b[0moutput_margin\u001b[0m\u001b[0;34m,\u001b[0m\u001b[0;34m\u001b[0m\u001b[0m\n\u001b[1;32m    790\u001b[0m                                                  \u001b[0mntree_limit\u001b[0m\u001b[0;34m=\u001b[0m\u001b[0mntree_limit\u001b[0m\u001b[0;34m,\u001b[0m\u001b[0;34m\u001b[0m\u001b[0m\n",
      "\u001b[0;32m~/.local/lib/python3.5/site-packages/xgboost/sklearn.py\u001b[0m in \u001b[0;36mget_booster\u001b[0;34m(self)\u001b[0m\n\u001b[1;32m    191\u001b[0m         \"\"\"\n\u001b[1;32m    192\u001b[0m         \u001b[0;32mif\u001b[0m \u001b[0mself\u001b[0m\u001b[0;34m.\u001b[0m\u001b[0m_Booster\u001b[0m \u001b[0;32mis\u001b[0m \u001b[0;32mNone\u001b[0m\u001b[0;34m:\u001b[0m\u001b[0;34m\u001b[0m\u001b[0m\n\u001b[0;32m--> 193\u001b[0;31m             \u001b[0;32mraise\u001b[0m \u001b[0mXGBoostError\u001b[0m\u001b[0;34m(\u001b[0m\u001b[0;34m'need to call fit or load_model beforehand'\u001b[0m\u001b[0;34m)\u001b[0m\u001b[0;34m\u001b[0m\u001b[0m\n\u001b[0m\u001b[1;32m    194\u001b[0m         \u001b[0;32mreturn\u001b[0m \u001b[0mself\u001b[0m\u001b[0;34m.\u001b[0m\u001b[0m_Booster\u001b[0m\u001b[0;34m\u001b[0m\u001b[0m\n\u001b[1;32m    195\u001b[0m \u001b[0;34m\u001b[0m\u001b[0m\n",
      "\u001b[0;31mXGBoostError\u001b[0m: need to call fit or load_model beforehand"
     ]
    }
   ],
   "source": [
    "predictions = model.predict(X_test)"
   ]
  },
  {
   "cell_type": "code",
   "execution_count": null,
   "metadata": {},
   "outputs": [],
   "source": [
    "pred.clip(0.0000001, 0.999999)"
   ]
  },
  {
   "cell_type": "code",
   "execution_count": null,
   "metadata": {},
   "outputs": [],
   "source": [
    "X_test['is_churn'] = pred.clip(0.0000001, 0.999999)"
   ]
  },
  {
   "cell_type": "code",
   "execution_count": null,
   "metadata": {},
   "outputs": [],
   "source": []
  }
 ],
 "metadata": {
  "kernelspec": {
   "display_name": "Python 3",
   "language": "python",
   "name": "python3"
  },
  "language_info": {
   "codemirror_mode": {
    "name": "ipython",
    "version": 3
   },
   "file_extension": ".py",
   "mimetype": "text/x-python",
   "name": "python",
   "nbconvert_exporter": "python",
   "pygments_lexer": "ipython3",
   "version": "3.5.3"
  }
 },
 "nbformat": 4,
 "nbformat_minor": 2
}
