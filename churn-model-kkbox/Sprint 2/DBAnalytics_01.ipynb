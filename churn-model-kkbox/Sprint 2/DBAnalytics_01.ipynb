{
 "cells": [
  {
   "cell_type": "markdown",
   "metadata": {},
   "source": [
    "# Magister en Ciencia de Datos - UDD\n",
    "## DBAnalytics (Ciencia de Datos aplicada)\n",
    "**Sprint 2: Datos transformados II**\n",
    "\n",
    "En base a las funciones RFM del Sprint 1, crear nuevos features para cada variable en el dataset user_logs.csv y transactions.csv (sólo si aplica).\n",
    "Crear nuevas funciones para construir features tales como:\n",
    "Tendencias de actividad del msno entre diferentes rangos de tiempo usando diferentes variables, usando variables del dataset user_logs.csv\n",
    "Métricas de la actividad del msno usando diferentes variables del dataset transactions.csv \n",
    "En base a las funciones implementadas (y otras definidas por cada grupo), se deben implementar al menos 300 features. "
   ]
  },
  {
   "cell_type": "markdown",
   "metadata": {},
   "source": [
    "### Listamos las tablas"
   ]
  },
  {
   "cell_type": "code",
   "execution_count": 7,
   "metadata": {},
   "outputs": [
    {
     "data": {
      "text/html": [
       "<ul><li>kk-churn.DATASET.members_v3</li><li>kk-churn.DATASET.sample_submission_v2</li><li>kk-churn.DATASET.sample_submission_zero</li><li>kk-churn.DATASET.train_v2</li><li>kk-churn.DATASET.transactions</li><li>kk-churn.DATASET.user_label_201702</li><li>kk-churn.DATASET.user_label_201703</li><li>kk-churn.DATASET.user_logs</li></ul>"
      ],
      "text/plain": [
       "<IPython.core.display.HTML object>"
      ]
     },
     "execution_count": 7,
     "metadata": {},
     "output_type": "execute_result"
    }
   ],
   "source": [
    "%bq tables list"
   ]
  },
  {
   "cell_type": "markdown",
   "metadata": {},
   "source": [
    "# user_logs\n",
    "* Concatenamos los archivos user_logs y user_logs_v2\n",
    "* Examinemos las columnas"
   ]
  },
  {
   "cell_type": "markdown",
   "metadata": {},
   "source": [
    "| Property   | Description                                                |\n",
    "|------------|------------------------------------------------------------|\n",
    "| msno       | User identifier                                            |\n",
    "| date       | Log date (format: %Y%m%d)                                  |\n",
    "| num_25     | # of songs played less than 25% of the song length         |\n",
    "| num_50     | # of songs played between 25% to 50% of the song length    |\n",
    "| num_75     | # of songs played between 50% to 75% of of the song length |\n",
    "| num_985    | # of songs played between 75% to 98.5% of the song length  |\n",
    "| num_100    | # of songs played over 98.5% of the song length            |\n",
    "| num_unq    | # of unique songs played                                   |\n",
    "| total_secs | total seconds played                                       |"
   ]
  },
  {
   "cell_type": "code",
   "execution_count": 2,
   "metadata": {},
   "outputs": [
    {
     "data": {
      "text/html": [
       "\n",
       "    <div class=\"bqtv\" id=\"1_156367243348\"><table><tr><th>msno</th><th>date</th><th>num_25</th><th>num_50</th><th>num_75</th><th>num_985</th><th>num_100</th><th>num_unq</th><th>total_secs</th></tr><tr><td>8nSyuVdv8qR4aHr1hUx1FXoIuxpZluW+kR/d0ounuYA=</td><td>20160512</td><td>24</td><td>2</td><td>1</td><td>1</td><td>53</td><td>61</td><td>15019.365</td></tr><tr><td>d2GtIMHD45Ri5/Ksa86X4FYWCZMM3fZ4WRDKjbhp15A=</td><td>20160205</td><td>81</td><td>2</td><td>4</td><td>3</td><td>34</td><td>74</td><td>9600.676</td></tr><tr><td>d2GtIMHD45Ri5/Ksa86X4FYWCZMM3fZ4WRDKjbhp15A=</td><td>20161124</td><td>37</td><td>4</td><td>4</td><td>2</td><td>48</td><td>83</td><td>12778.431</td></tr><tr><td>d2GtIMHD45Ri5/Ksa86X4FYWCZMM3fZ4WRDKjbhp15A=</td><td>20170114</td><td>113</td><td>22</td><td>8</td><td>3</td><td>40</td><td>163</td><td>14347.198</td></tr><tr><td>kb3qHtlz+K4Ume8TF4FQi9xwrTZqzFFvBDZsdYvyQ0A=</td><td>20161217</td><td>32</td><td>1</td><td>0</td><td>1</td><td>30</td><td>58</td><td>7391.719</td></tr><tr><td>B/eZk3P+A98+vport4EL6KBRhYiioS+F1uVJSGmAUGw=</td><td>20150720</td><td>22</td><td>2</td><td>0</td><td>2</td><td>38</td><td>52</td><td>10062.741</td></tr><tr><td>ysLUp9Ebqx3RrCNmZAOSmyW7kDZQafvyg7+Ge6lbG3Y=</td><td>20150717</td><td>38</td><td>6</td><td>5</td><td>4</td><td>66</td><td>87</td><td>20265.215</td></tr><tr><td>ysLUp9Ebqx3RrCNmZAOSmyW7kDZQafvyg7+Ge6lbG3Y=</td><td>20160318</td><td>36</td><td>4</td><td>2</td><td>4</td><td>97</td><td>61</td><td>24174.545</td></tr><tr><td>65MC0qTNLb/tG6fPv0IN7AzLqma4IkDHe1SEB8TedA8=</td><td>20150411</td><td>42</td><td>24</td><td>13</td><td>6</td><td>85</td><td>131</td><td>26109.762</td></tr><tr><td>aDyAkp8ZPYJUAVISQZ9oe1/2Ub1iDbq1Z9B6lBaTGRk=</td><td>20150107</td><td>23</td><td>12</td><td>3</td><td>7</td><td>60</td><td>90</td><td>19544.564</td></tr><tr><td>hXBw2UrphMglzTCevQhiO3MxweaxWheKbUy63y9L1KU=</td><td>20160725</td><td>25</td><td>8</td><td>2</td><td>6</td><td>27</td><td>52</td><td>8100.914</td></tr><tr><td>SaDQjFXhE3OTKa4nphNdFUTGXHz4CnvamDimkIlu+iE=</td><td>20151230</td><td>24</td><td>2</td><td>2</td><td>2</td><td>141</td><td>148</td><td>37411.15</td></tr><tr><td>SaDQjFXhE3OTKa4nphNdFUTGXHz4CnvamDimkIlu+iE=</td><td>20160222</td><td>31</td><td>3</td><td>4</td><td>0</td><td>97</td><td>125</td><td>26303.642</td></tr><tr><td>SaDQjFXhE3OTKa4nphNdFUTGXHz4CnvamDimkIlu+iE=</td><td>20160418</td><td>43</td><td>5</td><td>1</td><td>2</td><td>63</td><td>101</td><td>17315.789</td></tr><tr><td>3UVpd9pHoKk8oMIIrTqKaoOasIH2iQFLboGZJvAzwKY=</td><td>20160408</td><td>25</td><td>4</td><td>3</td><td>8</td><td>35</td><td>65</td><td>12209.435</td></tr><tr><td>xo1owQF/ASAxQQytAwHxoWBdQTDAw9123LZ/mEG1SG4=</td><td>20170215</td><td>22</td><td>2</td><td>4</td><td>1</td><td>38</td><td>52</td><td>11012.843</td></tr><tr><td>NhQeRGDNlefA7sIPQOWdZtToftl1sG6fyVfwccXwGdE=</td><td>20150704</td><td>45</td><td>15</td><td>4</td><td>5</td><td>18</td><td>72</td><td>7911.527</td></tr><tr><td>yOphCa1K43qe9z2shmdjutvB6gRfpbdrifCh1U7Vz/M=</td><td>20150509</td><td>40</td><td>1</td><td>0</td><td>1</td><td>35</td><td>55</td><td>9400.082</td></tr><tr><td>yOphCa1K43qe9z2shmdjutvB6gRfpbdrifCh1U7Vz/M=</td><td>20151025</td><td>44</td><td>1</td><td>0</td><td>3</td><td>58</td><td>78</td><td>13128.114</td></tr><tr><td>yOphCa1K43qe9z2shmdjutvB6gRfpbdrifCh1U7Vz/M=</td><td>20151217</td><td>47</td><td>1</td><td>0</td><td>2</td><td>71</td><td>107</td><td>18339.627</td></tr><tr><td>7iriLc53KWyBF37EDWD/B11T84G6jt6B1c5PH8YUnh4=</td><td>20150308</td><td>25</td><td>3</td><td>2</td><td>4</td><td>156</td><td>172</td><td>36691.133</td></tr><tr><td>7iriLc53KWyBF37EDWD/B11T84G6jt6B1c5PH8YUnh4=</td><td>20151130</td><td>63</td><td>19</td><td>13</td><td>11</td><td>175</td><td>152</td><td>47000.279</td></tr><tr><td>7iriLc53KWyBF37EDWD/B11T84G6jt6B1c5PH8YUnh4=</td><td>20160119</td><td>64</td><td>14</td><td>7</td><td>5</td><td>44</td><td>104</td><td>14209.987</td></tr><tr><td>Kc9QWnnfaRtAy6n+LhHckLMHbXYRm0pr/BKFhCM+f58=</td><td>20150208</td><td>30</td><td>7</td><td>4</td><td>4</td><td>35</td><td>59</td><td>11942.761</td></tr><tr><td>Kc9QWnnfaRtAy6n+LhHckLMHbXYRm0pr/BKFhCM+f58=</td><td>20170128</td><td>101</td><td>12</td><td>9</td><td>3</td><td>19</td><td>94</td><td>9082.138</td></tr></table></div>\n",
       "    <br />(rows: 392106543, kk-churn.DATASET.user_logs)<br />\n",
       "    <script src=\"/static/components/requirejs/require.js\"></script>\n",
       "    <script>\n",
       "      require.config({\n",
       "        paths: {\n",
       "          base: '/static/base',\n",
       "          d3: '//cdnjs.cloudflare.com/ajax/libs/d3/3.4.13/d3',\n",
       "          plotly: 'https://cdn.plot.ly/plotly-1.5.1.min.js?noext',\n",
       "          jquery: '//ajax.googleapis.com/ajax/libs/jquery/2.0.0/jquery.min'\n",
       "        },\n",
       "        map: {\n",
       "          '*': {\n",
       "            datalab: 'nbextensions/gcpdatalab'\n",
       "          }\n",
       "        },\n",
       "        shim: {\n",
       "          plotly: {\n",
       "            deps: ['d3', 'jquery'],\n",
       "            exports: 'plotly'\n",
       "          }\n",
       "        }\n",
       "      });\n",
       "\n",
       "      require(['datalab/charting', 'datalab/element!1_156367243348', 'base/js/events',\n",
       "          'datalab/style!/nbextensions/gcpdatalab/charting.css'],\n",
       "        function(charts, dom, events) {\n",
       "          charts.render('gcharts', dom, events, 'paged_table', [], {\"rows\": [{\"c\": [{\"v\": \"8nSyuVdv8qR4aHr1hUx1FXoIuxpZluW+kR/d0ounuYA=\"}, {\"v\": 20160512}, {\"v\": 24}, {\"v\": 2}, {\"v\": 1}, {\"v\": 1}, {\"v\": 53}, {\"v\": 61}, {\"v\": 15019.365}]}, {\"c\": [{\"v\": \"d2GtIMHD45Ri5/Ksa86X4FYWCZMM3fZ4WRDKjbhp15A=\"}, {\"v\": 20160205}, {\"v\": 81}, {\"v\": 2}, {\"v\": 4}, {\"v\": 3}, {\"v\": 34}, {\"v\": 74}, {\"v\": 9600.676}]}, {\"c\": [{\"v\": \"d2GtIMHD45Ri5/Ksa86X4FYWCZMM3fZ4WRDKjbhp15A=\"}, {\"v\": 20161124}, {\"v\": 37}, {\"v\": 4}, {\"v\": 4}, {\"v\": 2}, {\"v\": 48}, {\"v\": 83}, {\"v\": 12778.431}]}, {\"c\": [{\"v\": \"d2GtIMHD45Ri5/Ksa86X4FYWCZMM3fZ4WRDKjbhp15A=\"}, {\"v\": 20170114}, {\"v\": 113}, {\"v\": 22}, {\"v\": 8}, {\"v\": 3}, {\"v\": 40}, {\"v\": 163}, {\"v\": 14347.198}]}, {\"c\": [{\"v\": \"kb3qHtlz+K4Ume8TF4FQi9xwrTZqzFFvBDZsdYvyQ0A=\"}, {\"v\": 20161217}, {\"v\": 32}, {\"v\": 1}, {\"v\": 0}, {\"v\": 1}, {\"v\": 30}, {\"v\": 58}, {\"v\": 7391.719}]}, {\"c\": [{\"v\": \"B/eZk3P+A98+vport4EL6KBRhYiioS+F1uVJSGmAUGw=\"}, {\"v\": 20150720}, {\"v\": 22}, {\"v\": 2}, {\"v\": 0}, {\"v\": 2}, {\"v\": 38}, {\"v\": 52}, {\"v\": 10062.741}]}, {\"c\": [{\"v\": \"ysLUp9Ebqx3RrCNmZAOSmyW7kDZQafvyg7+Ge6lbG3Y=\"}, {\"v\": 20150717}, {\"v\": 38}, {\"v\": 6}, {\"v\": 5}, {\"v\": 4}, {\"v\": 66}, {\"v\": 87}, {\"v\": 20265.215}]}, {\"c\": [{\"v\": \"ysLUp9Ebqx3RrCNmZAOSmyW7kDZQafvyg7+Ge6lbG3Y=\"}, {\"v\": 20160318}, {\"v\": 36}, {\"v\": 4}, {\"v\": 2}, {\"v\": 4}, {\"v\": 97}, {\"v\": 61}, {\"v\": 24174.545}]}, {\"c\": [{\"v\": \"65MC0qTNLb/tG6fPv0IN7AzLqma4IkDHe1SEB8TedA8=\"}, {\"v\": 20150411}, {\"v\": 42}, {\"v\": 24}, {\"v\": 13}, {\"v\": 6}, {\"v\": 85}, {\"v\": 131}, {\"v\": 26109.762}]}, {\"c\": [{\"v\": \"aDyAkp8ZPYJUAVISQZ9oe1/2Ub1iDbq1Z9B6lBaTGRk=\"}, {\"v\": 20150107}, {\"v\": 23}, {\"v\": 12}, {\"v\": 3}, {\"v\": 7}, {\"v\": 60}, {\"v\": 90}, {\"v\": 19544.564}]}, {\"c\": [{\"v\": \"hXBw2UrphMglzTCevQhiO3MxweaxWheKbUy63y9L1KU=\"}, {\"v\": 20160725}, {\"v\": 25}, {\"v\": 8}, {\"v\": 2}, {\"v\": 6}, {\"v\": 27}, {\"v\": 52}, {\"v\": 8100.914}]}, {\"c\": [{\"v\": \"SaDQjFXhE3OTKa4nphNdFUTGXHz4CnvamDimkIlu+iE=\"}, {\"v\": 20151230}, {\"v\": 24}, {\"v\": 2}, {\"v\": 2}, {\"v\": 2}, {\"v\": 141}, {\"v\": 148}, {\"v\": 37411.15}]}, {\"c\": [{\"v\": \"SaDQjFXhE3OTKa4nphNdFUTGXHz4CnvamDimkIlu+iE=\"}, {\"v\": 20160222}, {\"v\": 31}, {\"v\": 3}, {\"v\": 4}, {\"v\": 0}, {\"v\": 97}, {\"v\": 125}, {\"v\": 26303.642}]}, {\"c\": [{\"v\": \"SaDQjFXhE3OTKa4nphNdFUTGXHz4CnvamDimkIlu+iE=\"}, {\"v\": 20160418}, {\"v\": 43}, {\"v\": 5}, {\"v\": 1}, {\"v\": 2}, {\"v\": 63}, {\"v\": 101}, {\"v\": 17315.789}]}, {\"c\": [{\"v\": \"3UVpd9pHoKk8oMIIrTqKaoOasIH2iQFLboGZJvAzwKY=\"}, {\"v\": 20160408}, {\"v\": 25}, {\"v\": 4}, {\"v\": 3}, {\"v\": 8}, {\"v\": 35}, {\"v\": 65}, {\"v\": 12209.435}]}, {\"c\": [{\"v\": \"xo1owQF/ASAxQQytAwHxoWBdQTDAw9123LZ/mEG1SG4=\"}, {\"v\": 20170215}, {\"v\": 22}, {\"v\": 2}, {\"v\": 4}, {\"v\": 1}, {\"v\": 38}, {\"v\": 52}, {\"v\": 11012.843}]}, {\"c\": [{\"v\": \"NhQeRGDNlefA7sIPQOWdZtToftl1sG6fyVfwccXwGdE=\"}, {\"v\": 20150704}, {\"v\": 45}, {\"v\": 15}, {\"v\": 4}, {\"v\": 5}, {\"v\": 18}, {\"v\": 72}, {\"v\": 7911.527}]}, {\"c\": [{\"v\": \"yOphCa1K43qe9z2shmdjutvB6gRfpbdrifCh1U7Vz/M=\"}, {\"v\": 20150509}, {\"v\": 40}, {\"v\": 1}, {\"v\": 0}, {\"v\": 1}, {\"v\": 35}, {\"v\": 55}, {\"v\": 9400.082}]}, {\"c\": [{\"v\": \"yOphCa1K43qe9z2shmdjutvB6gRfpbdrifCh1U7Vz/M=\"}, {\"v\": 20151025}, {\"v\": 44}, {\"v\": 1}, {\"v\": 0}, {\"v\": 3}, {\"v\": 58}, {\"v\": 78}, {\"v\": 13128.114}]}, {\"c\": [{\"v\": \"yOphCa1K43qe9z2shmdjutvB6gRfpbdrifCh1U7Vz/M=\"}, {\"v\": 20151217}, {\"v\": 47}, {\"v\": 1}, {\"v\": 0}, {\"v\": 2}, {\"v\": 71}, {\"v\": 107}, {\"v\": 18339.627}]}, {\"c\": [{\"v\": \"7iriLc53KWyBF37EDWD/B11T84G6jt6B1c5PH8YUnh4=\"}, {\"v\": 20150308}, {\"v\": 25}, {\"v\": 3}, {\"v\": 2}, {\"v\": 4}, {\"v\": 156}, {\"v\": 172}, {\"v\": 36691.133}]}, {\"c\": [{\"v\": \"7iriLc53KWyBF37EDWD/B11T84G6jt6B1c5PH8YUnh4=\"}, {\"v\": 20151130}, {\"v\": 63}, {\"v\": 19}, {\"v\": 13}, {\"v\": 11}, {\"v\": 175}, {\"v\": 152}, {\"v\": 47000.279}]}, {\"c\": [{\"v\": \"7iriLc53KWyBF37EDWD/B11T84G6jt6B1c5PH8YUnh4=\"}, {\"v\": 20160119}, {\"v\": 64}, {\"v\": 14}, {\"v\": 7}, {\"v\": 5}, {\"v\": 44}, {\"v\": 104}, {\"v\": 14209.987}]}, {\"c\": [{\"v\": \"Kc9QWnnfaRtAy6n+LhHckLMHbXYRm0pr/BKFhCM+f58=\"}, {\"v\": 20150208}, {\"v\": 30}, {\"v\": 7}, {\"v\": 4}, {\"v\": 4}, {\"v\": 35}, {\"v\": 59}, {\"v\": 11942.761}]}, {\"c\": [{\"v\": \"Kc9QWnnfaRtAy6n+LhHckLMHbXYRm0pr/BKFhCM+f58=\"}, {\"v\": 20170128}, {\"v\": 101}, {\"v\": 12}, {\"v\": 9}, {\"v\": 3}, {\"v\": 19}, {\"v\": 94}, {\"v\": 9082.138}]}], \"cols\": [{\"type\": \"string\", \"id\": \"msno\", \"label\": \"msno\"}, {\"type\": \"number\", \"id\": \"date\", \"label\": \"date\"}, {\"type\": \"number\", \"id\": \"num_25\", \"label\": \"num_25\"}, {\"type\": \"number\", \"id\": \"num_50\", \"label\": \"num_50\"}, {\"type\": \"number\", \"id\": \"num_75\", \"label\": \"num_75\"}, {\"type\": \"number\", \"id\": \"num_985\", \"label\": \"num_985\"}, {\"type\": \"number\", \"id\": \"num_100\", \"label\": \"num_100\"}, {\"type\": \"number\", \"id\": \"num_unq\", \"label\": \"num_unq\"}, {\"type\": \"number\", \"id\": \"total_secs\", \"label\": \"total_secs\"}]},\n",
       "            {\n",
       "              pageSize: 25,\n",
       "              cssClassNames:  {\n",
       "                tableRow: 'gchart-table-row',\n",
       "                headerRow: 'gchart-table-headerrow',\n",
       "                oddTableRow: 'gchart-table-oddrow',\n",
       "                selectedTableRow: 'gchart-table-selectedrow',\n",
       "                hoverTableRow: 'gchart-table-hoverrow',\n",
       "                tableCell: 'gchart-table-cell',\n",
       "                headerCell: 'gchart-table-headercell',\n",
       "                rowNumberCell: 'gchart-table-rownumcell'\n",
       "              }\n",
       "            },\n",
       "            {source_index: 0, fields: 'msno,date,num_25,num_50,num_75,num_985,num_100,num_unq,total_secs'},\n",
       "            0,\n",
       "            392106543);\n",
       "        }\n",
       "      );\n",
       "    </script>\n",
       "  "
      ],
      "text/plain": [
       "BigQuery Table - name: kk-churn.DATASET.user_logs"
      ]
     },
     "execution_count": 2,
     "metadata": {},
     "output_type": "execute_result"
    }
   ],
   "source": [
    "%bq tables view -n kk-churn.DATASET.user_logs"
   ]
  },
  {
   "cell_type": "markdown",
   "metadata": {},
   "source": [
    "392.106.543"
   ]
  },
  {
   "cell_type": "code",
   "execution_count": 12,
   "metadata": {},
   "outputs": [],
   "source": [
    "%bq query -n Concat\n",
    "INSERT DATASET.user_logs (msno, date, num_25, num_50, num_75,num_985, num_100, num_unq, total_secs)\n",
    "SELECT msno, date, num_25, num_50, num_75,num_985, num_100, num_unq, total_secs\n",
    "FROM `kk-churn.DATASET.user_logs_v2`"
   ]
  },
  {
   "cell_type": "markdown",
   "metadata": {},
   "source": [
    "### Vemos a priori cuanto GB vamos a procesar"
   ]
  },
  {
   "cell_type": "code",
   "execution_count": 13,
   "metadata": {},
   "outputs": [
    {
     "data": {
      "text/html": [
       "\n",
       "    <p>Dry run information:     2GB to process, results not cached</p>\n",
       "    "
      ],
      "text/plain": [
       "<google.datalab.bigquery._query_stats.QueryStats at 0x7f9f04b94780>"
      ]
     },
     "execution_count": 13,
     "metadata": {},
     "output_type": "execute_result"
    }
   ],
   "source": [
    "%bq dryrun -q Concat"
   ]
  },
  {
   "cell_type": "markdown",
   "metadata": {},
   "source": [
    "### Ejecutamos la concatenación"
   ]
  },
  {
   "cell_type": "code",
   "execution_count": 17,
   "metadata": {},
   "outputs": [
    {
     "data": {
      "text/html": [
       "\n",
       "    <div class=\"bqtv\" id=\"2_156367471283\"><table><tr><th>msno</th><th>date</th><th>num_25</th><th>num_50</th><th>num_75</th><th>num_985</th><th>num_100</th><th>num_unq</th><th>total_secs</th></tr><tr><td>8nSyuVdv8qR4aHr1hUx1FXoIuxpZluW+kR/d0ounuYA=</td><td>20160512</td><td>24</td><td>2</td><td>1</td><td>1</td><td>53</td><td>61</td><td>15019.365</td></tr><tr><td>d2GtIMHD45Ri5/Ksa86X4FYWCZMM3fZ4WRDKjbhp15A=</td><td>20160205</td><td>81</td><td>2</td><td>4</td><td>3</td><td>34</td><td>74</td><td>9600.676</td></tr><tr><td>d2GtIMHD45Ri5/Ksa86X4FYWCZMM3fZ4WRDKjbhp15A=</td><td>20161124</td><td>37</td><td>4</td><td>4</td><td>2</td><td>48</td><td>83</td><td>12778.431</td></tr><tr><td>d2GtIMHD45Ri5/Ksa86X4FYWCZMM3fZ4WRDKjbhp15A=</td><td>20170114</td><td>113</td><td>22</td><td>8</td><td>3</td><td>40</td><td>163</td><td>14347.198</td></tr><tr><td>kb3qHtlz+K4Ume8TF4FQi9xwrTZqzFFvBDZsdYvyQ0A=</td><td>20161217</td><td>32</td><td>1</td><td>0</td><td>1</td><td>30</td><td>58</td><td>7391.719</td></tr><tr><td>B/eZk3P+A98+vport4EL6KBRhYiioS+F1uVJSGmAUGw=</td><td>20150720</td><td>22</td><td>2</td><td>0</td><td>2</td><td>38</td><td>52</td><td>10062.741</td></tr><tr><td>ysLUp9Ebqx3RrCNmZAOSmyW7kDZQafvyg7+Ge6lbG3Y=</td><td>20150717</td><td>38</td><td>6</td><td>5</td><td>4</td><td>66</td><td>87</td><td>20265.215</td></tr><tr><td>ysLUp9Ebqx3RrCNmZAOSmyW7kDZQafvyg7+Ge6lbG3Y=</td><td>20160318</td><td>36</td><td>4</td><td>2</td><td>4</td><td>97</td><td>61</td><td>24174.545</td></tr><tr><td>65MC0qTNLb/tG6fPv0IN7AzLqma4IkDHe1SEB8TedA8=</td><td>20150411</td><td>42</td><td>24</td><td>13</td><td>6</td><td>85</td><td>131</td><td>26109.762</td></tr><tr><td>aDyAkp8ZPYJUAVISQZ9oe1/2Ub1iDbq1Z9B6lBaTGRk=</td><td>20150107</td><td>23</td><td>12</td><td>3</td><td>7</td><td>60</td><td>90</td><td>19544.564</td></tr><tr><td>hXBw2UrphMglzTCevQhiO3MxweaxWheKbUy63y9L1KU=</td><td>20160725</td><td>25</td><td>8</td><td>2</td><td>6</td><td>27</td><td>52</td><td>8100.914</td></tr><tr><td>SaDQjFXhE3OTKa4nphNdFUTGXHz4CnvamDimkIlu+iE=</td><td>20151230</td><td>24</td><td>2</td><td>2</td><td>2</td><td>141</td><td>148</td><td>37411.15</td></tr><tr><td>SaDQjFXhE3OTKa4nphNdFUTGXHz4CnvamDimkIlu+iE=</td><td>20160222</td><td>31</td><td>3</td><td>4</td><td>0</td><td>97</td><td>125</td><td>26303.642</td></tr><tr><td>SaDQjFXhE3OTKa4nphNdFUTGXHz4CnvamDimkIlu+iE=</td><td>20160418</td><td>43</td><td>5</td><td>1</td><td>2</td><td>63</td><td>101</td><td>17315.789</td></tr><tr><td>3UVpd9pHoKk8oMIIrTqKaoOasIH2iQFLboGZJvAzwKY=</td><td>20160408</td><td>25</td><td>4</td><td>3</td><td>8</td><td>35</td><td>65</td><td>12209.435</td></tr><tr><td>xo1owQF/ASAxQQytAwHxoWBdQTDAw9123LZ/mEG1SG4=</td><td>20170215</td><td>22</td><td>2</td><td>4</td><td>1</td><td>38</td><td>52</td><td>11012.843</td></tr><tr><td>NhQeRGDNlefA7sIPQOWdZtToftl1sG6fyVfwccXwGdE=</td><td>20150704</td><td>45</td><td>15</td><td>4</td><td>5</td><td>18</td><td>72</td><td>7911.527</td></tr><tr><td>yOphCa1K43qe9z2shmdjutvB6gRfpbdrifCh1U7Vz/M=</td><td>20150509</td><td>40</td><td>1</td><td>0</td><td>1</td><td>35</td><td>55</td><td>9400.082</td></tr><tr><td>yOphCa1K43qe9z2shmdjutvB6gRfpbdrifCh1U7Vz/M=</td><td>20151025</td><td>44</td><td>1</td><td>0</td><td>3</td><td>58</td><td>78</td><td>13128.114</td></tr><tr><td>yOphCa1K43qe9z2shmdjutvB6gRfpbdrifCh1U7Vz/M=</td><td>20151217</td><td>47</td><td>1</td><td>0</td><td>2</td><td>71</td><td>107</td><td>18339.627</td></tr><tr><td>7iriLc53KWyBF37EDWD/B11T84G6jt6B1c5PH8YUnh4=</td><td>20150308</td><td>25</td><td>3</td><td>2</td><td>4</td><td>156</td><td>172</td><td>36691.133</td></tr><tr><td>7iriLc53KWyBF37EDWD/B11T84G6jt6B1c5PH8YUnh4=</td><td>20151130</td><td>63</td><td>19</td><td>13</td><td>11</td><td>175</td><td>152</td><td>47000.279</td></tr><tr><td>7iriLc53KWyBF37EDWD/B11T84G6jt6B1c5PH8YUnh4=</td><td>20160119</td><td>64</td><td>14</td><td>7</td><td>5</td><td>44</td><td>104</td><td>14209.987</td></tr><tr><td>Kc9QWnnfaRtAy6n+LhHckLMHbXYRm0pr/BKFhCM+f58=</td><td>20150208</td><td>30</td><td>7</td><td>4</td><td>4</td><td>35</td><td>59</td><td>11942.761</td></tr><tr><td>Kc9QWnnfaRtAy6n+LhHckLMHbXYRm0pr/BKFhCM+f58=</td><td>20170128</td><td>101</td><td>12</td><td>9</td><td>3</td><td>19</td><td>94</td><td>9082.138</td></tr></table></div>\n",
       "    <br />(rows: 410502905, time: 57.9s,     2GB processed, job: job_o-Eq4ILnBAk3CM3KaKRyTUa2v8J4)<br />\n",
       "    <script src=\"/static/components/requirejs/require.js\"></script>\n",
       "    <script>\n",
       "      require.config({\n",
       "        paths: {\n",
       "          base: '/static/base',\n",
       "          d3: '//cdnjs.cloudflare.com/ajax/libs/d3/3.4.13/d3',\n",
       "          plotly: 'https://cdn.plot.ly/plotly-1.5.1.min.js?noext',\n",
       "          jquery: '//ajax.googleapis.com/ajax/libs/jquery/2.0.0/jquery.min'\n",
       "        },\n",
       "        map: {\n",
       "          '*': {\n",
       "            datalab: 'nbextensions/gcpdatalab'\n",
       "          }\n",
       "        },\n",
       "        shim: {\n",
       "          plotly: {\n",
       "            deps: ['d3', 'jquery'],\n",
       "            exports: 'plotly'\n",
       "          }\n",
       "        }\n",
       "      });\n",
       "\n",
       "      require(['datalab/charting', 'datalab/element!2_156367471283', 'base/js/events',\n",
       "          'datalab/style!/nbextensions/gcpdatalab/charting.css'],\n",
       "        function(charts, dom, events) {\n",
       "          charts.render('gcharts', dom, events, 'paged_table', [], {\"rows\": [{\"c\": [{\"v\": \"8nSyuVdv8qR4aHr1hUx1FXoIuxpZluW+kR/d0ounuYA=\"}, {\"v\": 20160512}, {\"v\": 24}, {\"v\": 2}, {\"v\": 1}, {\"v\": 1}, {\"v\": 53}, {\"v\": 61}, {\"v\": 15019.365}]}, {\"c\": [{\"v\": \"d2GtIMHD45Ri5/Ksa86X4FYWCZMM3fZ4WRDKjbhp15A=\"}, {\"v\": 20160205}, {\"v\": 81}, {\"v\": 2}, {\"v\": 4}, {\"v\": 3}, {\"v\": 34}, {\"v\": 74}, {\"v\": 9600.676}]}, {\"c\": [{\"v\": \"d2GtIMHD45Ri5/Ksa86X4FYWCZMM3fZ4WRDKjbhp15A=\"}, {\"v\": 20161124}, {\"v\": 37}, {\"v\": 4}, {\"v\": 4}, {\"v\": 2}, {\"v\": 48}, {\"v\": 83}, {\"v\": 12778.431}]}, {\"c\": [{\"v\": \"d2GtIMHD45Ri5/Ksa86X4FYWCZMM3fZ4WRDKjbhp15A=\"}, {\"v\": 20170114}, {\"v\": 113}, {\"v\": 22}, {\"v\": 8}, {\"v\": 3}, {\"v\": 40}, {\"v\": 163}, {\"v\": 14347.198}]}, {\"c\": [{\"v\": \"kb3qHtlz+K4Ume8TF4FQi9xwrTZqzFFvBDZsdYvyQ0A=\"}, {\"v\": 20161217}, {\"v\": 32}, {\"v\": 1}, {\"v\": 0}, {\"v\": 1}, {\"v\": 30}, {\"v\": 58}, {\"v\": 7391.719}]}, {\"c\": [{\"v\": \"B/eZk3P+A98+vport4EL6KBRhYiioS+F1uVJSGmAUGw=\"}, {\"v\": 20150720}, {\"v\": 22}, {\"v\": 2}, {\"v\": 0}, {\"v\": 2}, {\"v\": 38}, {\"v\": 52}, {\"v\": 10062.741}]}, {\"c\": [{\"v\": \"ysLUp9Ebqx3RrCNmZAOSmyW7kDZQafvyg7+Ge6lbG3Y=\"}, {\"v\": 20150717}, {\"v\": 38}, {\"v\": 6}, {\"v\": 5}, {\"v\": 4}, {\"v\": 66}, {\"v\": 87}, {\"v\": 20265.215}]}, {\"c\": [{\"v\": \"ysLUp9Ebqx3RrCNmZAOSmyW7kDZQafvyg7+Ge6lbG3Y=\"}, {\"v\": 20160318}, {\"v\": 36}, {\"v\": 4}, {\"v\": 2}, {\"v\": 4}, {\"v\": 97}, {\"v\": 61}, {\"v\": 24174.545}]}, {\"c\": [{\"v\": \"65MC0qTNLb/tG6fPv0IN7AzLqma4IkDHe1SEB8TedA8=\"}, {\"v\": 20150411}, {\"v\": 42}, {\"v\": 24}, {\"v\": 13}, {\"v\": 6}, {\"v\": 85}, {\"v\": 131}, {\"v\": 26109.762}]}, {\"c\": [{\"v\": \"aDyAkp8ZPYJUAVISQZ9oe1/2Ub1iDbq1Z9B6lBaTGRk=\"}, {\"v\": 20150107}, {\"v\": 23}, {\"v\": 12}, {\"v\": 3}, {\"v\": 7}, {\"v\": 60}, {\"v\": 90}, {\"v\": 19544.564}]}, {\"c\": [{\"v\": \"hXBw2UrphMglzTCevQhiO3MxweaxWheKbUy63y9L1KU=\"}, {\"v\": 20160725}, {\"v\": 25}, {\"v\": 8}, {\"v\": 2}, {\"v\": 6}, {\"v\": 27}, {\"v\": 52}, {\"v\": 8100.914}]}, {\"c\": [{\"v\": \"SaDQjFXhE3OTKa4nphNdFUTGXHz4CnvamDimkIlu+iE=\"}, {\"v\": 20151230}, {\"v\": 24}, {\"v\": 2}, {\"v\": 2}, {\"v\": 2}, {\"v\": 141}, {\"v\": 148}, {\"v\": 37411.15}]}, {\"c\": [{\"v\": \"SaDQjFXhE3OTKa4nphNdFUTGXHz4CnvamDimkIlu+iE=\"}, {\"v\": 20160222}, {\"v\": 31}, {\"v\": 3}, {\"v\": 4}, {\"v\": 0}, {\"v\": 97}, {\"v\": 125}, {\"v\": 26303.642}]}, {\"c\": [{\"v\": \"SaDQjFXhE3OTKa4nphNdFUTGXHz4CnvamDimkIlu+iE=\"}, {\"v\": 20160418}, {\"v\": 43}, {\"v\": 5}, {\"v\": 1}, {\"v\": 2}, {\"v\": 63}, {\"v\": 101}, {\"v\": 17315.789}]}, {\"c\": [{\"v\": \"3UVpd9pHoKk8oMIIrTqKaoOasIH2iQFLboGZJvAzwKY=\"}, {\"v\": 20160408}, {\"v\": 25}, {\"v\": 4}, {\"v\": 3}, {\"v\": 8}, {\"v\": 35}, {\"v\": 65}, {\"v\": 12209.435}]}, {\"c\": [{\"v\": \"xo1owQF/ASAxQQytAwHxoWBdQTDAw9123LZ/mEG1SG4=\"}, {\"v\": 20170215}, {\"v\": 22}, {\"v\": 2}, {\"v\": 4}, {\"v\": 1}, {\"v\": 38}, {\"v\": 52}, {\"v\": 11012.843}]}, {\"c\": [{\"v\": \"NhQeRGDNlefA7sIPQOWdZtToftl1sG6fyVfwccXwGdE=\"}, {\"v\": 20150704}, {\"v\": 45}, {\"v\": 15}, {\"v\": 4}, {\"v\": 5}, {\"v\": 18}, {\"v\": 72}, {\"v\": 7911.527}]}, {\"c\": [{\"v\": \"yOphCa1K43qe9z2shmdjutvB6gRfpbdrifCh1U7Vz/M=\"}, {\"v\": 20150509}, {\"v\": 40}, {\"v\": 1}, {\"v\": 0}, {\"v\": 1}, {\"v\": 35}, {\"v\": 55}, {\"v\": 9400.082}]}, {\"c\": [{\"v\": \"yOphCa1K43qe9z2shmdjutvB6gRfpbdrifCh1U7Vz/M=\"}, {\"v\": 20151025}, {\"v\": 44}, {\"v\": 1}, {\"v\": 0}, {\"v\": 3}, {\"v\": 58}, {\"v\": 78}, {\"v\": 13128.114}]}, {\"c\": [{\"v\": \"yOphCa1K43qe9z2shmdjutvB6gRfpbdrifCh1U7Vz/M=\"}, {\"v\": 20151217}, {\"v\": 47}, {\"v\": 1}, {\"v\": 0}, {\"v\": 2}, {\"v\": 71}, {\"v\": 107}, {\"v\": 18339.627}]}, {\"c\": [{\"v\": \"7iriLc53KWyBF37EDWD/B11T84G6jt6B1c5PH8YUnh4=\"}, {\"v\": 20150308}, {\"v\": 25}, {\"v\": 3}, {\"v\": 2}, {\"v\": 4}, {\"v\": 156}, {\"v\": 172}, {\"v\": 36691.133}]}, {\"c\": [{\"v\": \"7iriLc53KWyBF37EDWD/B11T84G6jt6B1c5PH8YUnh4=\"}, {\"v\": 20151130}, {\"v\": 63}, {\"v\": 19}, {\"v\": 13}, {\"v\": 11}, {\"v\": 175}, {\"v\": 152}, {\"v\": 47000.279}]}, {\"c\": [{\"v\": \"7iriLc53KWyBF37EDWD/B11T84G6jt6B1c5PH8YUnh4=\"}, {\"v\": 20160119}, {\"v\": 64}, {\"v\": 14}, {\"v\": 7}, {\"v\": 5}, {\"v\": 44}, {\"v\": 104}, {\"v\": 14209.987}]}, {\"c\": [{\"v\": \"Kc9QWnnfaRtAy6n+LhHckLMHbXYRm0pr/BKFhCM+f58=\"}, {\"v\": 20150208}, {\"v\": 30}, {\"v\": 7}, {\"v\": 4}, {\"v\": 4}, {\"v\": 35}, {\"v\": 59}, {\"v\": 11942.761}]}, {\"c\": [{\"v\": \"Kc9QWnnfaRtAy6n+LhHckLMHbXYRm0pr/BKFhCM+f58=\"}, {\"v\": 20170128}, {\"v\": 101}, {\"v\": 12}, {\"v\": 9}, {\"v\": 3}, {\"v\": 19}, {\"v\": 94}, {\"v\": 9082.138}]}], \"cols\": [{\"type\": \"string\", \"id\": \"msno\", \"label\": \"msno\"}, {\"type\": \"number\", \"id\": \"date\", \"label\": \"date\"}, {\"type\": \"number\", \"id\": \"num_25\", \"label\": \"num_25\"}, {\"type\": \"number\", \"id\": \"num_50\", \"label\": \"num_50\"}, {\"type\": \"number\", \"id\": \"num_75\", \"label\": \"num_75\"}, {\"type\": \"number\", \"id\": \"num_985\", \"label\": \"num_985\"}, {\"type\": \"number\", \"id\": \"num_100\", \"label\": \"num_100\"}, {\"type\": \"number\", \"id\": \"num_unq\", \"label\": \"num_unq\"}, {\"type\": \"number\", \"id\": \"total_secs\", \"label\": \"total_secs\"}]},\n",
       "            {\n",
       "              pageSize: 25,\n",
       "              cssClassNames:  {\n",
       "                tableRow: 'gchart-table-row',\n",
       "                headerRow: 'gchart-table-headerrow',\n",
       "                oddTableRow: 'gchart-table-oddrow',\n",
       "                selectedTableRow: 'gchart-table-selectedrow',\n",
       "                hoverTableRow: 'gchart-table-hoverrow',\n",
       "                tableCell: 'gchart-table-cell',\n",
       "                headerCell: 'gchart-table-headercell',\n",
       "                rowNumberCell: 'gchart-table-rownumcell'\n",
       "              }\n",
       "            },\n",
       "            {source_index: 0, fields: 'msno,date,num_25,num_50,num_75,num_985,num_100,num_unq,total_secs'},\n",
       "            0,\n",
       "            410502905);\n",
       "        }\n",
       "      );\n",
       "    </script>\n",
       "  "
      ],
      "text/plain": [
       "QueryResultsTable job_o-Eq4ILnBAk3CM3KaKRyTUa2v8J4"
      ]
     },
     "execution_count": 17,
     "metadata": {},
     "output_type": "execute_result"
    }
   ],
   "source": [
    "%bq execute -q Concat"
   ]
  },
  {
   "cell_type": "markdown",
   "metadata": {},
   "source": [
    "### Vemos el resultado de la concatenación"
   ]
  },
  {
   "cell_type": "code",
   "execution_count": 18,
   "metadata": {},
   "outputs": [
    {
     "data": {
      "text/html": [
       "\n",
       "    <div class=\"bqtv\" id=\"3_156367489618\"><table><tr><th>msno</th><th>date</th><th>num_25</th><th>num_50</th><th>num_75</th><th>num_985</th><th>num_100</th><th>num_unq</th><th>total_secs</th></tr><tr><td>8nSyuVdv8qR4aHr1hUx1FXoIuxpZluW+kR/d0ounuYA=</td><td>20160512</td><td>24</td><td>2</td><td>1</td><td>1</td><td>53</td><td>61</td><td>15019.365</td></tr><tr><td>d2GtIMHD45Ri5/Ksa86X4FYWCZMM3fZ4WRDKjbhp15A=</td><td>20160205</td><td>81</td><td>2</td><td>4</td><td>3</td><td>34</td><td>74</td><td>9600.676</td></tr><tr><td>d2GtIMHD45Ri5/Ksa86X4FYWCZMM3fZ4WRDKjbhp15A=</td><td>20161124</td><td>37</td><td>4</td><td>4</td><td>2</td><td>48</td><td>83</td><td>12778.431</td></tr><tr><td>d2GtIMHD45Ri5/Ksa86X4FYWCZMM3fZ4WRDKjbhp15A=</td><td>20170114</td><td>113</td><td>22</td><td>8</td><td>3</td><td>40</td><td>163</td><td>14347.198</td></tr><tr><td>kb3qHtlz+K4Ume8TF4FQi9xwrTZqzFFvBDZsdYvyQ0A=</td><td>20161217</td><td>32</td><td>1</td><td>0</td><td>1</td><td>30</td><td>58</td><td>7391.719</td></tr><tr><td>B/eZk3P+A98+vport4EL6KBRhYiioS+F1uVJSGmAUGw=</td><td>20150720</td><td>22</td><td>2</td><td>0</td><td>2</td><td>38</td><td>52</td><td>10062.741</td></tr><tr><td>ysLUp9Ebqx3RrCNmZAOSmyW7kDZQafvyg7+Ge6lbG3Y=</td><td>20150717</td><td>38</td><td>6</td><td>5</td><td>4</td><td>66</td><td>87</td><td>20265.215</td></tr><tr><td>ysLUp9Ebqx3RrCNmZAOSmyW7kDZQafvyg7+Ge6lbG3Y=</td><td>20160318</td><td>36</td><td>4</td><td>2</td><td>4</td><td>97</td><td>61</td><td>24174.545</td></tr><tr><td>65MC0qTNLb/tG6fPv0IN7AzLqma4IkDHe1SEB8TedA8=</td><td>20150411</td><td>42</td><td>24</td><td>13</td><td>6</td><td>85</td><td>131</td><td>26109.762</td></tr><tr><td>aDyAkp8ZPYJUAVISQZ9oe1/2Ub1iDbq1Z9B6lBaTGRk=</td><td>20150107</td><td>23</td><td>12</td><td>3</td><td>7</td><td>60</td><td>90</td><td>19544.564</td></tr><tr><td>hXBw2UrphMglzTCevQhiO3MxweaxWheKbUy63y9L1KU=</td><td>20160725</td><td>25</td><td>8</td><td>2</td><td>6</td><td>27</td><td>52</td><td>8100.914</td></tr><tr><td>SaDQjFXhE3OTKa4nphNdFUTGXHz4CnvamDimkIlu+iE=</td><td>20151230</td><td>24</td><td>2</td><td>2</td><td>2</td><td>141</td><td>148</td><td>37411.15</td></tr><tr><td>SaDQjFXhE3OTKa4nphNdFUTGXHz4CnvamDimkIlu+iE=</td><td>20160222</td><td>31</td><td>3</td><td>4</td><td>0</td><td>97</td><td>125</td><td>26303.642</td></tr><tr><td>SaDQjFXhE3OTKa4nphNdFUTGXHz4CnvamDimkIlu+iE=</td><td>20160418</td><td>43</td><td>5</td><td>1</td><td>2</td><td>63</td><td>101</td><td>17315.789</td></tr><tr><td>3UVpd9pHoKk8oMIIrTqKaoOasIH2iQFLboGZJvAzwKY=</td><td>20160408</td><td>25</td><td>4</td><td>3</td><td>8</td><td>35</td><td>65</td><td>12209.435</td></tr><tr><td>xo1owQF/ASAxQQytAwHxoWBdQTDAw9123LZ/mEG1SG4=</td><td>20170215</td><td>22</td><td>2</td><td>4</td><td>1</td><td>38</td><td>52</td><td>11012.843</td></tr><tr><td>NhQeRGDNlefA7sIPQOWdZtToftl1sG6fyVfwccXwGdE=</td><td>20150704</td><td>45</td><td>15</td><td>4</td><td>5</td><td>18</td><td>72</td><td>7911.527</td></tr><tr><td>yOphCa1K43qe9z2shmdjutvB6gRfpbdrifCh1U7Vz/M=</td><td>20150509</td><td>40</td><td>1</td><td>0</td><td>1</td><td>35</td><td>55</td><td>9400.082</td></tr><tr><td>yOphCa1K43qe9z2shmdjutvB6gRfpbdrifCh1U7Vz/M=</td><td>20151025</td><td>44</td><td>1</td><td>0</td><td>3</td><td>58</td><td>78</td><td>13128.114</td></tr><tr><td>yOphCa1K43qe9z2shmdjutvB6gRfpbdrifCh1U7Vz/M=</td><td>20151217</td><td>47</td><td>1</td><td>0</td><td>2</td><td>71</td><td>107</td><td>18339.627</td></tr><tr><td>7iriLc53KWyBF37EDWD/B11T84G6jt6B1c5PH8YUnh4=</td><td>20150308</td><td>25</td><td>3</td><td>2</td><td>4</td><td>156</td><td>172</td><td>36691.133</td></tr><tr><td>7iriLc53KWyBF37EDWD/B11T84G6jt6B1c5PH8YUnh4=</td><td>20151130</td><td>63</td><td>19</td><td>13</td><td>11</td><td>175</td><td>152</td><td>47000.279</td></tr><tr><td>7iriLc53KWyBF37EDWD/B11T84G6jt6B1c5PH8YUnh4=</td><td>20160119</td><td>64</td><td>14</td><td>7</td><td>5</td><td>44</td><td>104</td><td>14209.987</td></tr><tr><td>Kc9QWnnfaRtAy6n+LhHckLMHbXYRm0pr/BKFhCM+f58=</td><td>20150208</td><td>30</td><td>7</td><td>4</td><td>4</td><td>35</td><td>59</td><td>11942.761</td></tr><tr><td>Kc9QWnnfaRtAy6n+LhHckLMHbXYRm0pr/BKFhCM+f58=</td><td>20170128</td><td>101</td><td>12</td><td>9</td><td>3</td><td>19</td><td>94</td><td>9082.138</td></tr></table></div>\n",
       "    <br />(rows: 410502905, kk-churn.DATASET.user_logs)<br />\n",
       "    <script src=\"/static/components/requirejs/require.js\"></script>\n",
       "    <script>\n",
       "      require.config({\n",
       "        paths: {\n",
       "          base: '/static/base',\n",
       "          d3: '//cdnjs.cloudflare.com/ajax/libs/d3/3.4.13/d3',\n",
       "          plotly: 'https://cdn.plot.ly/plotly-1.5.1.min.js?noext',\n",
       "          jquery: '//ajax.googleapis.com/ajax/libs/jquery/2.0.0/jquery.min'\n",
       "        },\n",
       "        map: {\n",
       "          '*': {\n",
       "            datalab: 'nbextensions/gcpdatalab'\n",
       "          }\n",
       "        },\n",
       "        shim: {\n",
       "          plotly: {\n",
       "            deps: ['d3', 'jquery'],\n",
       "            exports: 'plotly'\n",
       "          }\n",
       "        }\n",
       "      });\n",
       "\n",
       "      require(['datalab/charting', 'datalab/element!3_156367489618', 'base/js/events',\n",
       "          'datalab/style!/nbextensions/gcpdatalab/charting.css'],\n",
       "        function(charts, dom, events) {\n",
       "          charts.render('gcharts', dom, events, 'paged_table', [], {\"rows\": [{\"c\": [{\"v\": \"8nSyuVdv8qR4aHr1hUx1FXoIuxpZluW+kR/d0ounuYA=\"}, {\"v\": 20160512}, {\"v\": 24}, {\"v\": 2}, {\"v\": 1}, {\"v\": 1}, {\"v\": 53}, {\"v\": 61}, {\"v\": 15019.365}]}, {\"c\": [{\"v\": \"d2GtIMHD45Ri5/Ksa86X4FYWCZMM3fZ4WRDKjbhp15A=\"}, {\"v\": 20160205}, {\"v\": 81}, {\"v\": 2}, {\"v\": 4}, {\"v\": 3}, {\"v\": 34}, {\"v\": 74}, {\"v\": 9600.676}]}, {\"c\": [{\"v\": \"d2GtIMHD45Ri5/Ksa86X4FYWCZMM3fZ4WRDKjbhp15A=\"}, {\"v\": 20161124}, {\"v\": 37}, {\"v\": 4}, {\"v\": 4}, {\"v\": 2}, {\"v\": 48}, {\"v\": 83}, {\"v\": 12778.431}]}, {\"c\": [{\"v\": \"d2GtIMHD45Ri5/Ksa86X4FYWCZMM3fZ4WRDKjbhp15A=\"}, {\"v\": 20170114}, {\"v\": 113}, {\"v\": 22}, {\"v\": 8}, {\"v\": 3}, {\"v\": 40}, {\"v\": 163}, {\"v\": 14347.198}]}, {\"c\": [{\"v\": \"kb3qHtlz+K4Ume8TF4FQi9xwrTZqzFFvBDZsdYvyQ0A=\"}, {\"v\": 20161217}, {\"v\": 32}, {\"v\": 1}, {\"v\": 0}, {\"v\": 1}, {\"v\": 30}, {\"v\": 58}, {\"v\": 7391.719}]}, {\"c\": [{\"v\": \"B/eZk3P+A98+vport4EL6KBRhYiioS+F1uVJSGmAUGw=\"}, {\"v\": 20150720}, {\"v\": 22}, {\"v\": 2}, {\"v\": 0}, {\"v\": 2}, {\"v\": 38}, {\"v\": 52}, {\"v\": 10062.741}]}, {\"c\": [{\"v\": \"ysLUp9Ebqx3RrCNmZAOSmyW7kDZQafvyg7+Ge6lbG3Y=\"}, {\"v\": 20150717}, {\"v\": 38}, {\"v\": 6}, {\"v\": 5}, {\"v\": 4}, {\"v\": 66}, {\"v\": 87}, {\"v\": 20265.215}]}, {\"c\": [{\"v\": \"ysLUp9Ebqx3RrCNmZAOSmyW7kDZQafvyg7+Ge6lbG3Y=\"}, {\"v\": 20160318}, {\"v\": 36}, {\"v\": 4}, {\"v\": 2}, {\"v\": 4}, {\"v\": 97}, {\"v\": 61}, {\"v\": 24174.545}]}, {\"c\": [{\"v\": \"65MC0qTNLb/tG6fPv0IN7AzLqma4IkDHe1SEB8TedA8=\"}, {\"v\": 20150411}, {\"v\": 42}, {\"v\": 24}, {\"v\": 13}, {\"v\": 6}, {\"v\": 85}, {\"v\": 131}, {\"v\": 26109.762}]}, {\"c\": [{\"v\": \"aDyAkp8ZPYJUAVISQZ9oe1/2Ub1iDbq1Z9B6lBaTGRk=\"}, {\"v\": 20150107}, {\"v\": 23}, {\"v\": 12}, {\"v\": 3}, {\"v\": 7}, {\"v\": 60}, {\"v\": 90}, {\"v\": 19544.564}]}, {\"c\": [{\"v\": \"hXBw2UrphMglzTCevQhiO3MxweaxWheKbUy63y9L1KU=\"}, {\"v\": 20160725}, {\"v\": 25}, {\"v\": 8}, {\"v\": 2}, {\"v\": 6}, {\"v\": 27}, {\"v\": 52}, {\"v\": 8100.914}]}, {\"c\": [{\"v\": \"SaDQjFXhE3OTKa4nphNdFUTGXHz4CnvamDimkIlu+iE=\"}, {\"v\": 20151230}, {\"v\": 24}, {\"v\": 2}, {\"v\": 2}, {\"v\": 2}, {\"v\": 141}, {\"v\": 148}, {\"v\": 37411.15}]}, {\"c\": [{\"v\": \"SaDQjFXhE3OTKa4nphNdFUTGXHz4CnvamDimkIlu+iE=\"}, {\"v\": 20160222}, {\"v\": 31}, {\"v\": 3}, {\"v\": 4}, {\"v\": 0}, {\"v\": 97}, {\"v\": 125}, {\"v\": 26303.642}]}, {\"c\": [{\"v\": \"SaDQjFXhE3OTKa4nphNdFUTGXHz4CnvamDimkIlu+iE=\"}, {\"v\": 20160418}, {\"v\": 43}, {\"v\": 5}, {\"v\": 1}, {\"v\": 2}, {\"v\": 63}, {\"v\": 101}, {\"v\": 17315.789}]}, {\"c\": [{\"v\": \"3UVpd9pHoKk8oMIIrTqKaoOasIH2iQFLboGZJvAzwKY=\"}, {\"v\": 20160408}, {\"v\": 25}, {\"v\": 4}, {\"v\": 3}, {\"v\": 8}, {\"v\": 35}, {\"v\": 65}, {\"v\": 12209.435}]}, {\"c\": [{\"v\": \"xo1owQF/ASAxQQytAwHxoWBdQTDAw9123LZ/mEG1SG4=\"}, {\"v\": 20170215}, {\"v\": 22}, {\"v\": 2}, {\"v\": 4}, {\"v\": 1}, {\"v\": 38}, {\"v\": 52}, {\"v\": 11012.843}]}, {\"c\": [{\"v\": \"NhQeRGDNlefA7sIPQOWdZtToftl1sG6fyVfwccXwGdE=\"}, {\"v\": 20150704}, {\"v\": 45}, {\"v\": 15}, {\"v\": 4}, {\"v\": 5}, {\"v\": 18}, {\"v\": 72}, {\"v\": 7911.527}]}, {\"c\": [{\"v\": \"yOphCa1K43qe9z2shmdjutvB6gRfpbdrifCh1U7Vz/M=\"}, {\"v\": 20150509}, {\"v\": 40}, {\"v\": 1}, {\"v\": 0}, {\"v\": 1}, {\"v\": 35}, {\"v\": 55}, {\"v\": 9400.082}]}, {\"c\": [{\"v\": \"yOphCa1K43qe9z2shmdjutvB6gRfpbdrifCh1U7Vz/M=\"}, {\"v\": 20151025}, {\"v\": 44}, {\"v\": 1}, {\"v\": 0}, {\"v\": 3}, {\"v\": 58}, {\"v\": 78}, {\"v\": 13128.114}]}, {\"c\": [{\"v\": \"yOphCa1K43qe9z2shmdjutvB6gRfpbdrifCh1U7Vz/M=\"}, {\"v\": 20151217}, {\"v\": 47}, {\"v\": 1}, {\"v\": 0}, {\"v\": 2}, {\"v\": 71}, {\"v\": 107}, {\"v\": 18339.627}]}, {\"c\": [{\"v\": \"7iriLc53KWyBF37EDWD/B11T84G6jt6B1c5PH8YUnh4=\"}, {\"v\": 20150308}, {\"v\": 25}, {\"v\": 3}, {\"v\": 2}, {\"v\": 4}, {\"v\": 156}, {\"v\": 172}, {\"v\": 36691.133}]}, {\"c\": [{\"v\": \"7iriLc53KWyBF37EDWD/B11T84G6jt6B1c5PH8YUnh4=\"}, {\"v\": 20151130}, {\"v\": 63}, {\"v\": 19}, {\"v\": 13}, {\"v\": 11}, {\"v\": 175}, {\"v\": 152}, {\"v\": 47000.279}]}, {\"c\": [{\"v\": \"7iriLc53KWyBF37EDWD/B11T84G6jt6B1c5PH8YUnh4=\"}, {\"v\": 20160119}, {\"v\": 64}, {\"v\": 14}, {\"v\": 7}, {\"v\": 5}, {\"v\": 44}, {\"v\": 104}, {\"v\": 14209.987}]}, {\"c\": [{\"v\": \"Kc9QWnnfaRtAy6n+LhHckLMHbXYRm0pr/BKFhCM+f58=\"}, {\"v\": 20150208}, {\"v\": 30}, {\"v\": 7}, {\"v\": 4}, {\"v\": 4}, {\"v\": 35}, {\"v\": 59}, {\"v\": 11942.761}]}, {\"c\": [{\"v\": \"Kc9QWnnfaRtAy6n+LhHckLMHbXYRm0pr/BKFhCM+f58=\"}, {\"v\": 20170128}, {\"v\": 101}, {\"v\": 12}, {\"v\": 9}, {\"v\": 3}, {\"v\": 19}, {\"v\": 94}, {\"v\": 9082.138}]}], \"cols\": [{\"type\": \"string\", \"id\": \"msno\", \"label\": \"msno\"}, {\"type\": \"number\", \"id\": \"date\", \"label\": \"date\"}, {\"type\": \"number\", \"id\": \"num_25\", \"label\": \"num_25\"}, {\"type\": \"number\", \"id\": \"num_50\", \"label\": \"num_50\"}, {\"type\": \"number\", \"id\": \"num_75\", \"label\": \"num_75\"}, {\"type\": \"number\", \"id\": \"num_985\", \"label\": \"num_985\"}, {\"type\": \"number\", \"id\": \"num_100\", \"label\": \"num_100\"}, {\"type\": \"number\", \"id\": \"num_unq\", \"label\": \"num_unq\"}, {\"type\": \"number\", \"id\": \"total_secs\", \"label\": \"total_secs\"}]},\n",
       "            {\n",
       "              pageSize: 25,\n",
       "              cssClassNames:  {\n",
       "                tableRow: 'gchart-table-row',\n",
       "                headerRow: 'gchart-table-headerrow',\n",
       "                oddTableRow: 'gchart-table-oddrow',\n",
       "                selectedTableRow: 'gchart-table-selectedrow',\n",
       "                hoverTableRow: 'gchart-table-hoverrow',\n",
       "                tableCell: 'gchart-table-cell',\n",
       "                headerCell: 'gchart-table-headercell',\n",
       "                rowNumberCell: 'gchart-table-rownumcell'\n",
       "              }\n",
       "            },\n",
       "            {source_index: 0, fields: 'msno,date,num_25,num_50,num_75,num_985,num_100,num_unq,total_secs'},\n",
       "            0,\n",
       "            410502905);\n",
       "        }\n",
       "      );\n",
       "    </script>\n",
       "  "
      ],
      "text/plain": [
       "BigQuery Table - name: kk-churn.DATASET.user_logs"
      ]
     },
     "execution_count": 18,
     "metadata": {},
     "output_type": "execute_result"
    }
   ],
   "source": [
    "%bq tables view -n kk-churn.DATASET.user_logs"
   ]
  },
  {
   "cell_type": "markdown",
   "metadata": {},
   "source": [
    "### Borramos la tabla user_logs_v2 "
   ]
  },
  {
   "cell_type": "code",
   "execution_count": 19,
   "metadata": {},
   "outputs": [],
   "source": [
    "# Importamos a API de bigquery \n",
    "import google.datalab.bigquery as bq\n",
    "user = bq.Table(\"DATASET.user_logs_v2\").delete()"
   ]
  },
  {
   "cell_type": "code",
   "execution_count": 21,
   "metadata": {},
   "outputs": [
    {
     "data": {
      "text/html": [
       "<ul><li>kk-churn.DATASET.members_v3</li><li>kk-churn.DATASET.sample_submission_v2</li><li>kk-churn.DATASET.train_v2</li><li>kk-churn.DATASET.transactions</li><li>kk-churn.DATASET.transactions_v2</li><li>kk-churn.DATASET.user_logs</li></ul>"
      ],
      "text/plain": [
       "<IPython.core.display.HTML object>"
      ]
     },
     "execution_count": 21,
     "metadata": {},
     "output_type": "execute_result"
    }
   ],
   "source": [
    "%bq tables list"
   ]
  },
  {
   "cell_type": "markdown",
   "metadata": {},
   "source": [
    "# transactions\n",
    "* Concatenamos los archivos transactions y transactions_v2\n",
    "* Examinemos las columnas"
   ]
  },
  {
   "cell_type": "markdown",
   "metadata": {},
   "source": [
    "| Property               | Description                                                          |\n",
    "|------------------------|----------------------------------------------------------------------|\n",
    "| msno                   | User identifier                                                      |\n",
    "| payment_method_id      | payment method, numeric                                              |\n",
    "| payment_plan_days      | length of membership plan in days                                    |\n",
    "| plan_list_price        | in New Taiwan Dollar (NTD)                                           |\n",
    "| actual_amount_paid     | in New Taiwan Dollar (NTD)                                           |\n",
    "| is_auto_renew          |                                                                      |\n",
    "| transaction_date       | format %Y%m%d                                                        |\n",
    "| membership_expire_date | format %Y%m%d                                                        |\n",
    "| is_cancel              | whether or not the user canceled the membership in this transaction. |"
   ]
  },
  {
   "cell_type": "code",
   "execution_count": 22,
   "metadata": {},
   "outputs": [
    {
     "data": {
      "text/html": [
       "\n",
       "    <div class=\"bqtv\" id=\"4_156367533159\"><table><tr><th>msno</th><th>payment_method_id</th><th>payment_plan_days</th><th>plan_list_price</th><th>actual_amount_paid</th><th>is_auto_renew</th><th>transaction_date</th><th>membership_expire_date</th><th>is_cancel</th></tr><tr><td>hp4ULdhivqw6U5pNdXHUnQwFtqvcKGVWSjHKPbkjg88=</td><td>41</td><td>30</td><td>149</td><td>149</td><td>1</td><td>20161027</td><td>20161127</td><td>0</td></tr><tr><td>O2fJF47+i37behdEEYfSqavsMCsH6psbQjtB9ITNBrw=</td><td>41</td><td>30</td><td>99</td><td>99</td><td>1</td><td>20151109</td><td>20151209</td><td>0</td></tr><tr><td>eD0N3eCpVRxJcpjoaTemlZBfJo0KXx5c/Or7AuDSt5U=</td><td>38</td><td>30</td><td>150</td><td>150</td><td>0</td><td>20150831</td><td>20150930</td><td>0</td></tr><tr><td>Njtq/mzEHwqFW8eQjh2fMUuDQgQIZSrx8qJLSap9x20=</td><td>41</td><td>30</td><td>99</td><td>99</td><td>1</td><td>20160603</td><td>20160703</td><td>0</td></tr><tr><td>I6WVKpGdME9trGqdt3/ehGh9s9nkn5sDTmnjnUyoq28=</td><td>41</td><td>30</td><td>129</td><td>129</td><td>1</td><td>20151103</td><td>20151203</td><td>0</td></tr><tr><td>2MWyFzE5hyZcT6+bqC3/DdAVaNBTYSdyZr7g/z9mqpU=</td><td>41</td><td>30</td><td>149</td><td>149</td><td>1</td><td>20151013</td><td>20151113</td><td>0</td></tr><tr><td>I3vIh/UL9pwAXpBmlQeW54HRdB1dsYB9LDfNJEgE2pY=</td><td>41</td><td>30</td><td>149</td><td>149</td><td>1</td><td>20150217</td><td>20150319</td><td>0</td></tr><tr><td>gw4/fNrHnjbBHcuIpe+OVglSPVD6Vhz+Pl/vLEj2UUY=</td><td>27</td><td>31</td><td>149</td><td>149</td><td>1</td><td>20150401</td><td>20150430</td><td>0</td></tr><tr><td>T01fWv9b7F7wRMWVVQiqQasAgNhoTY+D2MWqJnp2rHo=</td><td>41</td><td>30</td><td>149</td><td>149</td><td>1</td><td>20151201</td><td>20160101</td><td>0</td></tr><tr><td>hwTgGk8lrnTp1JW5zHspJt38YOmgpNE0oI6lPQ8k/uY=</td><td>37</td><td>30</td><td>149</td><td>149</td><td>1</td><td>20160914</td><td>20161013</td><td>0</td></tr><tr><td>/PQalgS3dfn0yJODslJYlsTbK74zswSk6KSoHBmxN/c=</td><td>41</td><td>30</td><td>99</td><td>99</td><td>1</td><td>20160618</td><td>20160718</td><td>0</td></tr><tr><td>ga1JjBwJJGEhQeCyj67fUKLOkF52BMjMvgbDsUyMvJU=</td><td>41</td><td>30</td><td>129</td><td>129</td><td>1</td><td>20150519</td><td>20150620</td><td>0</td></tr><tr><td>ggZE+NeuYdc4q2R2lQu8/ZiAqaceOMUPnVUBY1H+IDU=</td><td>41</td><td>30</td><td>149</td><td>149</td><td>1</td><td>20150805</td><td>20150905</td><td>0</td></tr><tr><td>SbQAxqh5BZV7JQw9IK7erfPrj/1ewnyxa9vrFuOoF0c=</td><td>38</td><td>30</td><td>149</td><td>149</td><td>0</td><td>20150102</td><td>20150201</td><td>0</td></tr><tr><td>VOlsuwkBLgsKLIClF/zr8u4t/Jy5e1mZpgUEA8B9aQ8=</td><td>36</td><td>30</td><td>180</td><td>180</td><td>0</td><td>20161106</td><td>20161206</td><td>0</td></tr><tr><td>F3sx86LouY0Y+6Zc/h01azo+Rs/d8Psy3/aL4xIF7Xo=</td><td>40</td><td>30</td><td>149</td><td>149</td><td>1</td><td>20151211</td><td>20160110</td><td>0</td></tr><tr><td>8IeTS+5wJ3ZtLApP88IGWwSxcJR3xkCi8TfQrMIC+Mw=</td><td>41</td><td>30</td><td>99</td><td>99</td><td>1</td><td>20160120</td><td>20160220</td><td>0</td></tr><tr><td>D8uSilNeXjQCHb+Q0Efw6D4fHJQq1D3I++vDEyG3zqU=</td><td>41</td><td>30</td><td>149</td><td>149</td><td>1</td><td>20161020</td><td>20161120</td><td>0</td></tr><tr><td>nLEiDIQSZimZ4xEkYr3neTs2UWEmTx2SSjA9EfK7g8c=</td><td>41</td><td>30</td><td>129</td><td>129</td><td>1</td><td>20161220</td><td>20170121</td><td>0</td></tr><tr><td>T+j8cryDUsNEsQpoJCe7E1TOIsnuu4/ss5EExAjbBaE=</td><td>37</td><td>30</td><td>149</td><td>149</td><td>1</td><td>20151217</td><td>20160116</td><td>0</td></tr><tr><td>FWghqwZaCU+lkR7n8aSvn8SdH+eTtmhMzv2TqH4FR0c=</td><td>40</td><td>30</td><td>149</td><td>149</td><td>1</td><td>20161206</td><td>20170109</td><td>0</td></tr><tr><td>/B2cwpYYiaAp1W1l8/TkjwF5PVYdtml8YrnRrmmavUE=</td><td>40</td><td>30</td><td>149</td><td>149</td><td>1</td><td>20150716</td><td>20150826</td><td>0</td></tr><tr><td>vKtg31wblmKoYYFUafK9pTxOoemdjNaV73u+D/2qXDQ=</td><td>41</td><td>30</td><td>129</td><td>129</td><td>1</td><td>20150705</td><td>20150806</td><td>0</td></tr><tr><td>ebvDeHPFBNBtvsLXk/6ZWr8B/QA/cq13LD4misyjD0w=</td><td>40</td><td>31</td><td>149</td><td>149</td><td>1</td><td>20150409</td><td>20150509</td><td>0</td></tr><tr><td>laweliQD7kir7ECSSZ43K+WtxhGgXTqmVrHCfE6qJrE=</td><td>39</td><td>30</td><td>149</td><td>149</td><td>1</td><td>20161222</td><td>20170124</td><td>1</td></tr></table></div>\n",
       "    <br />(rows: 21547746, kk-churn.DATASET.transactions)<br />\n",
       "    <script src=\"/static/components/requirejs/require.js\"></script>\n",
       "    <script>\n",
       "      require.config({\n",
       "        paths: {\n",
       "          base: '/static/base',\n",
       "          d3: '//cdnjs.cloudflare.com/ajax/libs/d3/3.4.13/d3',\n",
       "          plotly: 'https://cdn.plot.ly/plotly-1.5.1.min.js?noext',\n",
       "          jquery: '//ajax.googleapis.com/ajax/libs/jquery/2.0.0/jquery.min'\n",
       "        },\n",
       "        map: {\n",
       "          '*': {\n",
       "            datalab: 'nbextensions/gcpdatalab'\n",
       "          }\n",
       "        },\n",
       "        shim: {\n",
       "          plotly: {\n",
       "            deps: ['d3', 'jquery'],\n",
       "            exports: 'plotly'\n",
       "          }\n",
       "        }\n",
       "      });\n",
       "\n",
       "      require(['datalab/charting', 'datalab/element!4_156367533159', 'base/js/events',\n",
       "          'datalab/style!/nbextensions/gcpdatalab/charting.css'],\n",
       "        function(charts, dom, events) {\n",
       "          charts.render('gcharts', dom, events, 'paged_table', [], {\"rows\": [{\"c\": [{\"v\": \"hp4ULdhivqw6U5pNdXHUnQwFtqvcKGVWSjHKPbkjg88=\"}, {\"v\": 41}, {\"v\": 30}, {\"v\": 149}, {\"v\": 149}, {\"v\": 1}, {\"v\": 20161027}, {\"v\": 20161127}, {\"v\": 0}]}, {\"c\": [{\"v\": \"O2fJF47+i37behdEEYfSqavsMCsH6psbQjtB9ITNBrw=\"}, {\"v\": 41}, {\"v\": 30}, {\"v\": 99}, {\"v\": 99}, {\"v\": 1}, {\"v\": 20151109}, {\"v\": 20151209}, {\"v\": 0}]}, {\"c\": [{\"v\": \"eD0N3eCpVRxJcpjoaTemlZBfJo0KXx5c/Or7AuDSt5U=\"}, {\"v\": 38}, {\"v\": 30}, {\"v\": 150}, {\"v\": 150}, {\"v\": 0}, {\"v\": 20150831}, {\"v\": 20150930}, {\"v\": 0}]}, {\"c\": [{\"v\": \"Njtq/mzEHwqFW8eQjh2fMUuDQgQIZSrx8qJLSap9x20=\"}, {\"v\": 41}, {\"v\": 30}, {\"v\": 99}, {\"v\": 99}, {\"v\": 1}, {\"v\": 20160603}, {\"v\": 20160703}, {\"v\": 0}]}, {\"c\": [{\"v\": \"I6WVKpGdME9trGqdt3/ehGh9s9nkn5sDTmnjnUyoq28=\"}, {\"v\": 41}, {\"v\": 30}, {\"v\": 129}, {\"v\": 129}, {\"v\": 1}, {\"v\": 20151103}, {\"v\": 20151203}, {\"v\": 0}]}, {\"c\": [{\"v\": \"2MWyFzE5hyZcT6+bqC3/DdAVaNBTYSdyZr7g/z9mqpU=\"}, {\"v\": 41}, {\"v\": 30}, {\"v\": 149}, {\"v\": 149}, {\"v\": 1}, {\"v\": 20151013}, {\"v\": 20151113}, {\"v\": 0}]}, {\"c\": [{\"v\": \"I3vIh/UL9pwAXpBmlQeW54HRdB1dsYB9LDfNJEgE2pY=\"}, {\"v\": 41}, {\"v\": 30}, {\"v\": 149}, {\"v\": 149}, {\"v\": 1}, {\"v\": 20150217}, {\"v\": 20150319}, {\"v\": 0}]}, {\"c\": [{\"v\": \"gw4/fNrHnjbBHcuIpe+OVglSPVD6Vhz+Pl/vLEj2UUY=\"}, {\"v\": 27}, {\"v\": 31}, {\"v\": 149}, {\"v\": 149}, {\"v\": 1}, {\"v\": 20150401}, {\"v\": 20150430}, {\"v\": 0}]}, {\"c\": [{\"v\": \"T01fWv9b7F7wRMWVVQiqQasAgNhoTY+D2MWqJnp2rHo=\"}, {\"v\": 41}, {\"v\": 30}, {\"v\": 149}, {\"v\": 149}, {\"v\": 1}, {\"v\": 20151201}, {\"v\": 20160101}, {\"v\": 0}]}, {\"c\": [{\"v\": \"hwTgGk8lrnTp1JW5zHspJt38YOmgpNE0oI6lPQ8k/uY=\"}, {\"v\": 37}, {\"v\": 30}, {\"v\": 149}, {\"v\": 149}, {\"v\": 1}, {\"v\": 20160914}, {\"v\": 20161013}, {\"v\": 0}]}, {\"c\": [{\"v\": \"/PQalgS3dfn0yJODslJYlsTbK74zswSk6KSoHBmxN/c=\"}, {\"v\": 41}, {\"v\": 30}, {\"v\": 99}, {\"v\": 99}, {\"v\": 1}, {\"v\": 20160618}, {\"v\": 20160718}, {\"v\": 0}]}, {\"c\": [{\"v\": \"ga1JjBwJJGEhQeCyj67fUKLOkF52BMjMvgbDsUyMvJU=\"}, {\"v\": 41}, {\"v\": 30}, {\"v\": 129}, {\"v\": 129}, {\"v\": 1}, {\"v\": 20150519}, {\"v\": 20150620}, {\"v\": 0}]}, {\"c\": [{\"v\": \"ggZE+NeuYdc4q2R2lQu8/ZiAqaceOMUPnVUBY1H+IDU=\"}, {\"v\": 41}, {\"v\": 30}, {\"v\": 149}, {\"v\": 149}, {\"v\": 1}, {\"v\": 20150805}, {\"v\": 20150905}, {\"v\": 0}]}, {\"c\": [{\"v\": \"SbQAxqh5BZV7JQw9IK7erfPrj/1ewnyxa9vrFuOoF0c=\"}, {\"v\": 38}, {\"v\": 30}, {\"v\": 149}, {\"v\": 149}, {\"v\": 0}, {\"v\": 20150102}, {\"v\": 20150201}, {\"v\": 0}]}, {\"c\": [{\"v\": \"VOlsuwkBLgsKLIClF/zr8u4t/Jy5e1mZpgUEA8B9aQ8=\"}, {\"v\": 36}, {\"v\": 30}, {\"v\": 180}, {\"v\": 180}, {\"v\": 0}, {\"v\": 20161106}, {\"v\": 20161206}, {\"v\": 0}]}, {\"c\": [{\"v\": \"F3sx86LouY0Y+6Zc/h01azo+Rs/d8Psy3/aL4xIF7Xo=\"}, {\"v\": 40}, {\"v\": 30}, {\"v\": 149}, {\"v\": 149}, {\"v\": 1}, {\"v\": 20151211}, {\"v\": 20160110}, {\"v\": 0}]}, {\"c\": [{\"v\": \"8IeTS+5wJ3ZtLApP88IGWwSxcJR3xkCi8TfQrMIC+Mw=\"}, {\"v\": 41}, {\"v\": 30}, {\"v\": 99}, {\"v\": 99}, {\"v\": 1}, {\"v\": 20160120}, {\"v\": 20160220}, {\"v\": 0}]}, {\"c\": [{\"v\": \"D8uSilNeXjQCHb+Q0Efw6D4fHJQq1D3I++vDEyG3zqU=\"}, {\"v\": 41}, {\"v\": 30}, {\"v\": 149}, {\"v\": 149}, {\"v\": 1}, {\"v\": 20161020}, {\"v\": 20161120}, {\"v\": 0}]}, {\"c\": [{\"v\": \"nLEiDIQSZimZ4xEkYr3neTs2UWEmTx2SSjA9EfK7g8c=\"}, {\"v\": 41}, {\"v\": 30}, {\"v\": 129}, {\"v\": 129}, {\"v\": 1}, {\"v\": 20161220}, {\"v\": 20170121}, {\"v\": 0}]}, {\"c\": [{\"v\": \"T+j8cryDUsNEsQpoJCe7E1TOIsnuu4/ss5EExAjbBaE=\"}, {\"v\": 37}, {\"v\": 30}, {\"v\": 149}, {\"v\": 149}, {\"v\": 1}, {\"v\": 20151217}, {\"v\": 20160116}, {\"v\": 0}]}, {\"c\": [{\"v\": \"FWghqwZaCU+lkR7n8aSvn8SdH+eTtmhMzv2TqH4FR0c=\"}, {\"v\": 40}, {\"v\": 30}, {\"v\": 149}, {\"v\": 149}, {\"v\": 1}, {\"v\": 20161206}, {\"v\": 20170109}, {\"v\": 0}]}, {\"c\": [{\"v\": \"/B2cwpYYiaAp1W1l8/TkjwF5PVYdtml8YrnRrmmavUE=\"}, {\"v\": 40}, {\"v\": 30}, {\"v\": 149}, {\"v\": 149}, {\"v\": 1}, {\"v\": 20150716}, {\"v\": 20150826}, {\"v\": 0}]}, {\"c\": [{\"v\": \"vKtg31wblmKoYYFUafK9pTxOoemdjNaV73u+D/2qXDQ=\"}, {\"v\": 41}, {\"v\": 30}, {\"v\": 129}, {\"v\": 129}, {\"v\": 1}, {\"v\": 20150705}, {\"v\": 20150806}, {\"v\": 0}]}, {\"c\": [{\"v\": \"ebvDeHPFBNBtvsLXk/6ZWr8B/QA/cq13LD4misyjD0w=\"}, {\"v\": 40}, {\"v\": 31}, {\"v\": 149}, {\"v\": 149}, {\"v\": 1}, {\"v\": 20150409}, {\"v\": 20150509}, {\"v\": 0}]}, {\"c\": [{\"v\": \"laweliQD7kir7ECSSZ43K+WtxhGgXTqmVrHCfE6qJrE=\"}, {\"v\": 39}, {\"v\": 30}, {\"v\": 149}, {\"v\": 149}, {\"v\": 1}, {\"v\": 20161222}, {\"v\": 20170124}, {\"v\": 1}]}], \"cols\": [{\"type\": \"string\", \"id\": \"msno\", \"label\": \"msno\"}, {\"type\": \"number\", \"id\": \"payment_method_id\", \"label\": \"payment_method_id\"}, {\"type\": \"number\", \"id\": \"payment_plan_days\", \"label\": \"payment_plan_days\"}, {\"type\": \"number\", \"id\": \"plan_list_price\", \"label\": \"plan_list_price\"}, {\"type\": \"number\", \"id\": \"actual_amount_paid\", \"label\": \"actual_amount_paid\"}, {\"type\": \"number\", \"id\": \"is_auto_renew\", \"label\": \"is_auto_renew\"}, {\"type\": \"number\", \"id\": \"transaction_date\", \"label\": \"transaction_date\"}, {\"type\": \"number\", \"id\": \"membership_expire_date\", \"label\": \"membership_expire_date\"}, {\"type\": \"number\", \"id\": \"is_cancel\", \"label\": \"is_cancel\"}]},\n",
       "            {\n",
       "              pageSize: 25,\n",
       "              cssClassNames:  {\n",
       "                tableRow: 'gchart-table-row',\n",
       "                headerRow: 'gchart-table-headerrow',\n",
       "                oddTableRow: 'gchart-table-oddrow',\n",
       "                selectedTableRow: 'gchart-table-selectedrow',\n",
       "                hoverTableRow: 'gchart-table-hoverrow',\n",
       "                tableCell: 'gchart-table-cell',\n",
       "                headerCell: 'gchart-table-headercell',\n",
       "                rowNumberCell: 'gchart-table-rownumcell'\n",
       "              }\n",
       "            },\n",
       "            {source_index: 1, fields: 'msno,payment_method_id,payment_plan_days,plan_list_price,actual_amount_paid,is_auto_renew,transaction_date,membership_expire_date,is_cancel'},\n",
       "            0,\n",
       "            21547746);\n",
       "        }\n",
       "      );\n",
       "    </script>\n",
       "  "
      ],
      "text/plain": [
       "BigQuery Table - name: kk-churn.DATASET.transactions"
      ]
     },
     "execution_count": 22,
     "metadata": {},
     "output_type": "execute_result"
    }
   ],
   "source": [
    "%bq tables view -n kk-churn.DATASET.transactions"
   ]
  },
  {
   "cell_type": "code",
   "execution_count": 23,
   "metadata": {},
   "outputs": [],
   "source": [
    "%bq query -n Concat\n",
    "INSERT DATASET.transactions (msno, payment_method_id, payment_plan_days, plan_list_price, actual_amount_paid, \n",
    "  is_auto_renew, transaction_date, membership_expire_date, is_cancel)\n",
    "SELECT msno, payment_method_id, payment_plan_days, plan_list_price, actual_amount_paid, \n",
    "  is_auto_renew, transaction_date, membership_expire_date, is_cancel\n",
    "FROM `kk-churn.DATASET.transactions_v2`"
   ]
  },
  {
   "cell_type": "code",
   "execution_count": 24,
   "metadata": {},
   "outputs": [
    {
     "data": {
      "text/html": [
       "\n",
       "    <p>Dry run information:   157MB to process, results not cached</p>\n",
       "    "
      ],
      "text/plain": [
       "<google.datalab.bigquery._query_stats.QueryStats at 0x7f9edd9c3860>"
      ]
     },
     "execution_count": 24,
     "metadata": {},
     "output_type": "execute_result"
    }
   ],
   "source": [
    "%bq dryrun -q Concat"
   ]
  },
  {
   "cell_type": "code",
   "execution_count": 25,
   "metadata": {},
   "outputs": [
    {
     "data": {
      "text/html": [
       "\n",
       "    <div class=\"bqtv\" id=\"5_156367543840\"><table><tr><th>msno</th><th>payment_method_id</th><th>payment_plan_days</th><th>plan_list_price</th><th>actual_amount_paid</th><th>is_auto_renew</th><th>transaction_date</th><th>membership_expire_date</th><th>is_cancel</th></tr><tr><td>hp4ULdhivqw6U5pNdXHUnQwFtqvcKGVWSjHKPbkjg88=</td><td>41</td><td>30</td><td>149</td><td>149</td><td>1</td><td>20161027</td><td>20161127</td><td>0</td></tr><tr><td>O2fJF47+i37behdEEYfSqavsMCsH6psbQjtB9ITNBrw=</td><td>41</td><td>30</td><td>99</td><td>99</td><td>1</td><td>20151109</td><td>20151209</td><td>0</td></tr><tr><td>eD0N3eCpVRxJcpjoaTemlZBfJo0KXx5c/Or7AuDSt5U=</td><td>38</td><td>30</td><td>150</td><td>150</td><td>0</td><td>20150831</td><td>20150930</td><td>0</td></tr><tr><td>Njtq/mzEHwqFW8eQjh2fMUuDQgQIZSrx8qJLSap9x20=</td><td>41</td><td>30</td><td>99</td><td>99</td><td>1</td><td>20160603</td><td>20160703</td><td>0</td></tr><tr><td>I6WVKpGdME9trGqdt3/ehGh9s9nkn5sDTmnjnUyoq28=</td><td>41</td><td>30</td><td>129</td><td>129</td><td>1</td><td>20151103</td><td>20151203</td><td>0</td></tr><tr><td>2MWyFzE5hyZcT6+bqC3/DdAVaNBTYSdyZr7g/z9mqpU=</td><td>41</td><td>30</td><td>149</td><td>149</td><td>1</td><td>20151013</td><td>20151113</td><td>0</td></tr><tr><td>I3vIh/UL9pwAXpBmlQeW54HRdB1dsYB9LDfNJEgE2pY=</td><td>41</td><td>30</td><td>149</td><td>149</td><td>1</td><td>20150217</td><td>20150319</td><td>0</td></tr><tr><td>gw4/fNrHnjbBHcuIpe+OVglSPVD6Vhz+Pl/vLEj2UUY=</td><td>27</td><td>31</td><td>149</td><td>149</td><td>1</td><td>20150401</td><td>20150430</td><td>0</td></tr><tr><td>T01fWv9b7F7wRMWVVQiqQasAgNhoTY+D2MWqJnp2rHo=</td><td>41</td><td>30</td><td>149</td><td>149</td><td>1</td><td>20151201</td><td>20160101</td><td>0</td></tr><tr><td>hwTgGk8lrnTp1JW5zHspJt38YOmgpNE0oI6lPQ8k/uY=</td><td>37</td><td>30</td><td>149</td><td>149</td><td>1</td><td>20160914</td><td>20161013</td><td>0</td></tr><tr><td>/PQalgS3dfn0yJODslJYlsTbK74zswSk6KSoHBmxN/c=</td><td>41</td><td>30</td><td>99</td><td>99</td><td>1</td><td>20160618</td><td>20160718</td><td>0</td></tr><tr><td>ga1JjBwJJGEhQeCyj67fUKLOkF52BMjMvgbDsUyMvJU=</td><td>41</td><td>30</td><td>129</td><td>129</td><td>1</td><td>20150519</td><td>20150620</td><td>0</td></tr><tr><td>ggZE+NeuYdc4q2R2lQu8/ZiAqaceOMUPnVUBY1H+IDU=</td><td>41</td><td>30</td><td>149</td><td>149</td><td>1</td><td>20150805</td><td>20150905</td><td>0</td></tr><tr><td>SbQAxqh5BZV7JQw9IK7erfPrj/1ewnyxa9vrFuOoF0c=</td><td>38</td><td>30</td><td>149</td><td>149</td><td>0</td><td>20150102</td><td>20150201</td><td>0</td></tr><tr><td>VOlsuwkBLgsKLIClF/zr8u4t/Jy5e1mZpgUEA8B9aQ8=</td><td>36</td><td>30</td><td>180</td><td>180</td><td>0</td><td>20161106</td><td>20161206</td><td>0</td></tr><tr><td>F3sx86LouY0Y+6Zc/h01azo+Rs/d8Psy3/aL4xIF7Xo=</td><td>40</td><td>30</td><td>149</td><td>149</td><td>1</td><td>20151211</td><td>20160110</td><td>0</td></tr><tr><td>8IeTS+5wJ3ZtLApP88IGWwSxcJR3xkCi8TfQrMIC+Mw=</td><td>41</td><td>30</td><td>99</td><td>99</td><td>1</td><td>20160120</td><td>20160220</td><td>0</td></tr><tr><td>D8uSilNeXjQCHb+Q0Efw6D4fHJQq1D3I++vDEyG3zqU=</td><td>41</td><td>30</td><td>149</td><td>149</td><td>1</td><td>20161020</td><td>20161120</td><td>0</td></tr><tr><td>nLEiDIQSZimZ4xEkYr3neTs2UWEmTx2SSjA9EfK7g8c=</td><td>41</td><td>30</td><td>129</td><td>129</td><td>1</td><td>20161220</td><td>20170121</td><td>0</td></tr><tr><td>T+j8cryDUsNEsQpoJCe7E1TOIsnuu4/ss5EExAjbBaE=</td><td>37</td><td>30</td><td>149</td><td>149</td><td>1</td><td>20151217</td><td>20160116</td><td>0</td></tr><tr><td>FWghqwZaCU+lkR7n8aSvn8SdH+eTtmhMzv2TqH4FR0c=</td><td>40</td><td>30</td><td>149</td><td>149</td><td>1</td><td>20161206</td><td>20170109</td><td>0</td></tr><tr><td>/B2cwpYYiaAp1W1l8/TkjwF5PVYdtml8YrnRrmmavUE=</td><td>40</td><td>30</td><td>149</td><td>149</td><td>1</td><td>20150716</td><td>20150826</td><td>0</td></tr><tr><td>vKtg31wblmKoYYFUafK9pTxOoemdjNaV73u+D/2qXDQ=</td><td>41</td><td>30</td><td>129</td><td>129</td><td>1</td><td>20150705</td><td>20150806</td><td>0</td></tr><tr><td>ebvDeHPFBNBtvsLXk/6ZWr8B/QA/cq13LD4misyjD0w=</td><td>40</td><td>31</td><td>149</td><td>149</td><td>1</td><td>20150409</td><td>20150509</td><td>0</td></tr><tr><td>laweliQD7kir7ECSSZ43K+WtxhGgXTqmVrHCfE6qJrE=</td><td>39</td><td>30</td><td>149</td><td>149</td><td>1</td><td>20161222</td><td>20170124</td><td>1</td></tr></table></div>\n",
       "    <br />(rows: 22978755, time: 12.3s,   157MB processed, job: job_OSkulpyHsaLvPmYQ-PzoJrWCadA3)<br />\n",
       "    <script src=\"/static/components/requirejs/require.js\"></script>\n",
       "    <script>\n",
       "      require.config({\n",
       "        paths: {\n",
       "          base: '/static/base',\n",
       "          d3: '//cdnjs.cloudflare.com/ajax/libs/d3/3.4.13/d3',\n",
       "          plotly: 'https://cdn.plot.ly/plotly-1.5.1.min.js?noext',\n",
       "          jquery: '//ajax.googleapis.com/ajax/libs/jquery/2.0.0/jquery.min'\n",
       "        },\n",
       "        map: {\n",
       "          '*': {\n",
       "            datalab: 'nbextensions/gcpdatalab'\n",
       "          }\n",
       "        },\n",
       "        shim: {\n",
       "          plotly: {\n",
       "            deps: ['d3', 'jquery'],\n",
       "            exports: 'plotly'\n",
       "          }\n",
       "        }\n",
       "      });\n",
       "\n",
       "      require(['datalab/charting', 'datalab/element!5_156367543840', 'base/js/events',\n",
       "          'datalab/style!/nbextensions/gcpdatalab/charting.css'],\n",
       "        function(charts, dom, events) {\n",
       "          charts.render('gcharts', dom, events, 'paged_table', [], {\"rows\": [{\"c\": [{\"v\": \"hp4ULdhivqw6U5pNdXHUnQwFtqvcKGVWSjHKPbkjg88=\"}, {\"v\": 41}, {\"v\": 30}, {\"v\": 149}, {\"v\": 149}, {\"v\": 1}, {\"v\": 20161027}, {\"v\": 20161127}, {\"v\": 0}]}, {\"c\": [{\"v\": \"O2fJF47+i37behdEEYfSqavsMCsH6psbQjtB9ITNBrw=\"}, {\"v\": 41}, {\"v\": 30}, {\"v\": 99}, {\"v\": 99}, {\"v\": 1}, {\"v\": 20151109}, {\"v\": 20151209}, {\"v\": 0}]}, {\"c\": [{\"v\": \"eD0N3eCpVRxJcpjoaTemlZBfJo0KXx5c/Or7AuDSt5U=\"}, {\"v\": 38}, {\"v\": 30}, {\"v\": 150}, {\"v\": 150}, {\"v\": 0}, {\"v\": 20150831}, {\"v\": 20150930}, {\"v\": 0}]}, {\"c\": [{\"v\": \"Njtq/mzEHwqFW8eQjh2fMUuDQgQIZSrx8qJLSap9x20=\"}, {\"v\": 41}, {\"v\": 30}, {\"v\": 99}, {\"v\": 99}, {\"v\": 1}, {\"v\": 20160603}, {\"v\": 20160703}, {\"v\": 0}]}, {\"c\": [{\"v\": \"I6WVKpGdME9trGqdt3/ehGh9s9nkn5sDTmnjnUyoq28=\"}, {\"v\": 41}, {\"v\": 30}, {\"v\": 129}, {\"v\": 129}, {\"v\": 1}, {\"v\": 20151103}, {\"v\": 20151203}, {\"v\": 0}]}, {\"c\": [{\"v\": \"2MWyFzE5hyZcT6+bqC3/DdAVaNBTYSdyZr7g/z9mqpU=\"}, {\"v\": 41}, {\"v\": 30}, {\"v\": 149}, {\"v\": 149}, {\"v\": 1}, {\"v\": 20151013}, {\"v\": 20151113}, {\"v\": 0}]}, {\"c\": [{\"v\": \"I3vIh/UL9pwAXpBmlQeW54HRdB1dsYB9LDfNJEgE2pY=\"}, {\"v\": 41}, {\"v\": 30}, {\"v\": 149}, {\"v\": 149}, {\"v\": 1}, {\"v\": 20150217}, {\"v\": 20150319}, {\"v\": 0}]}, {\"c\": [{\"v\": \"gw4/fNrHnjbBHcuIpe+OVglSPVD6Vhz+Pl/vLEj2UUY=\"}, {\"v\": 27}, {\"v\": 31}, {\"v\": 149}, {\"v\": 149}, {\"v\": 1}, {\"v\": 20150401}, {\"v\": 20150430}, {\"v\": 0}]}, {\"c\": [{\"v\": \"T01fWv9b7F7wRMWVVQiqQasAgNhoTY+D2MWqJnp2rHo=\"}, {\"v\": 41}, {\"v\": 30}, {\"v\": 149}, {\"v\": 149}, {\"v\": 1}, {\"v\": 20151201}, {\"v\": 20160101}, {\"v\": 0}]}, {\"c\": [{\"v\": \"hwTgGk8lrnTp1JW5zHspJt38YOmgpNE0oI6lPQ8k/uY=\"}, {\"v\": 37}, {\"v\": 30}, {\"v\": 149}, {\"v\": 149}, {\"v\": 1}, {\"v\": 20160914}, {\"v\": 20161013}, {\"v\": 0}]}, {\"c\": [{\"v\": \"/PQalgS3dfn0yJODslJYlsTbK74zswSk6KSoHBmxN/c=\"}, {\"v\": 41}, {\"v\": 30}, {\"v\": 99}, {\"v\": 99}, {\"v\": 1}, {\"v\": 20160618}, {\"v\": 20160718}, {\"v\": 0}]}, {\"c\": [{\"v\": \"ga1JjBwJJGEhQeCyj67fUKLOkF52BMjMvgbDsUyMvJU=\"}, {\"v\": 41}, {\"v\": 30}, {\"v\": 129}, {\"v\": 129}, {\"v\": 1}, {\"v\": 20150519}, {\"v\": 20150620}, {\"v\": 0}]}, {\"c\": [{\"v\": \"ggZE+NeuYdc4q2R2lQu8/ZiAqaceOMUPnVUBY1H+IDU=\"}, {\"v\": 41}, {\"v\": 30}, {\"v\": 149}, {\"v\": 149}, {\"v\": 1}, {\"v\": 20150805}, {\"v\": 20150905}, {\"v\": 0}]}, {\"c\": [{\"v\": \"SbQAxqh5BZV7JQw9IK7erfPrj/1ewnyxa9vrFuOoF0c=\"}, {\"v\": 38}, {\"v\": 30}, {\"v\": 149}, {\"v\": 149}, {\"v\": 0}, {\"v\": 20150102}, {\"v\": 20150201}, {\"v\": 0}]}, {\"c\": [{\"v\": \"VOlsuwkBLgsKLIClF/zr8u4t/Jy5e1mZpgUEA8B9aQ8=\"}, {\"v\": 36}, {\"v\": 30}, {\"v\": 180}, {\"v\": 180}, {\"v\": 0}, {\"v\": 20161106}, {\"v\": 20161206}, {\"v\": 0}]}, {\"c\": [{\"v\": \"F3sx86LouY0Y+6Zc/h01azo+Rs/d8Psy3/aL4xIF7Xo=\"}, {\"v\": 40}, {\"v\": 30}, {\"v\": 149}, {\"v\": 149}, {\"v\": 1}, {\"v\": 20151211}, {\"v\": 20160110}, {\"v\": 0}]}, {\"c\": [{\"v\": \"8IeTS+5wJ3ZtLApP88IGWwSxcJR3xkCi8TfQrMIC+Mw=\"}, {\"v\": 41}, {\"v\": 30}, {\"v\": 99}, {\"v\": 99}, {\"v\": 1}, {\"v\": 20160120}, {\"v\": 20160220}, {\"v\": 0}]}, {\"c\": [{\"v\": \"D8uSilNeXjQCHb+Q0Efw6D4fHJQq1D3I++vDEyG3zqU=\"}, {\"v\": 41}, {\"v\": 30}, {\"v\": 149}, {\"v\": 149}, {\"v\": 1}, {\"v\": 20161020}, {\"v\": 20161120}, {\"v\": 0}]}, {\"c\": [{\"v\": \"nLEiDIQSZimZ4xEkYr3neTs2UWEmTx2SSjA9EfK7g8c=\"}, {\"v\": 41}, {\"v\": 30}, {\"v\": 129}, {\"v\": 129}, {\"v\": 1}, {\"v\": 20161220}, {\"v\": 20170121}, {\"v\": 0}]}, {\"c\": [{\"v\": \"T+j8cryDUsNEsQpoJCe7E1TOIsnuu4/ss5EExAjbBaE=\"}, {\"v\": 37}, {\"v\": 30}, {\"v\": 149}, {\"v\": 149}, {\"v\": 1}, {\"v\": 20151217}, {\"v\": 20160116}, {\"v\": 0}]}, {\"c\": [{\"v\": \"FWghqwZaCU+lkR7n8aSvn8SdH+eTtmhMzv2TqH4FR0c=\"}, {\"v\": 40}, {\"v\": 30}, {\"v\": 149}, {\"v\": 149}, {\"v\": 1}, {\"v\": 20161206}, {\"v\": 20170109}, {\"v\": 0}]}, {\"c\": [{\"v\": \"/B2cwpYYiaAp1W1l8/TkjwF5PVYdtml8YrnRrmmavUE=\"}, {\"v\": 40}, {\"v\": 30}, {\"v\": 149}, {\"v\": 149}, {\"v\": 1}, {\"v\": 20150716}, {\"v\": 20150826}, {\"v\": 0}]}, {\"c\": [{\"v\": \"vKtg31wblmKoYYFUafK9pTxOoemdjNaV73u+D/2qXDQ=\"}, {\"v\": 41}, {\"v\": 30}, {\"v\": 129}, {\"v\": 129}, {\"v\": 1}, {\"v\": 20150705}, {\"v\": 20150806}, {\"v\": 0}]}, {\"c\": [{\"v\": \"ebvDeHPFBNBtvsLXk/6ZWr8B/QA/cq13LD4misyjD0w=\"}, {\"v\": 40}, {\"v\": 31}, {\"v\": 149}, {\"v\": 149}, {\"v\": 1}, {\"v\": 20150409}, {\"v\": 20150509}, {\"v\": 0}]}, {\"c\": [{\"v\": \"laweliQD7kir7ECSSZ43K+WtxhGgXTqmVrHCfE6qJrE=\"}, {\"v\": 39}, {\"v\": 30}, {\"v\": 149}, {\"v\": 149}, {\"v\": 1}, {\"v\": 20161222}, {\"v\": 20170124}, {\"v\": 1}]}], \"cols\": [{\"type\": \"string\", \"id\": \"msno\", \"label\": \"msno\"}, {\"type\": \"number\", \"id\": \"payment_method_id\", \"label\": \"payment_method_id\"}, {\"type\": \"number\", \"id\": \"payment_plan_days\", \"label\": \"payment_plan_days\"}, {\"type\": \"number\", \"id\": \"plan_list_price\", \"label\": \"plan_list_price\"}, {\"type\": \"number\", \"id\": \"actual_amount_paid\", \"label\": \"actual_amount_paid\"}, {\"type\": \"number\", \"id\": \"is_auto_renew\", \"label\": \"is_auto_renew\"}, {\"type\": \"number\", \"id\": \"transaction_date\", \"label\": \"transaction_date\"}, {\"type\": \"number\", \"id\": \"membership_expire_date\", \"label\": \"membership_expire_date\"}, {\"type\": \"number\", \"id\": \"is_cancel\", \"label\": \"is_cancel\"}]},\n",
       "            {\n",
       "              pageSize: 25,\n",
       "              cssClassNames:  {\n",
       "                tableRow: 'gchart-table-row',\n",
       "                headerRow: 'gchart-table-headerrow',\n",
       "                oddTableRow: 'gchart-table-oddrow',\n",
       "                selectedTableRow: 'gchart-table-selectedrow',\n",
       "                hoverTableRow: 'gchart-table-hoverrow',\n",
       "                tableCell: 'gchart-table-cell',\n",
       "                headerCell: 'gchart-table-headercell',\n",
       "                rowNumberCell: 'gchart-table-rownumcell'\n",
       "              }\n",
       "            },\n",
       "            {source_index: 1, fields: 'msno,payment_method_id,payment_plan_days,plan_list_price,actual_amount_paid,is_auto_renew,transaction_date,membership_expire_date,is_cancel'},\n",
       "            0,\n",
       "            22978755);\n",
       "        }\n",
       "      );\n",
       "    </script>\n",
       "  "
      ],
      "text/plain": [
       "QueryResultsTable job_OSkulpyHsaLvPmYQ-PzoJrWCadA3"
      ]
     },
     "execution_count": 25,
     "metadata": {},
     "output_type": "execute_result"
    }
   ],
   "source": [
    "%bq execute -q Concat"
   ]
  },
  {
   "cell_type": "code",
   "execution_count": 26,
   "metadata": {},
   "outputs": [],
   "source": [
    "trans = bq.Table(\"DATASET.transactions_v2\").delete()"
   ]
  },
  {
   "cell_type": "code",
   "execution_count": null,
   "metadata": {},
   "outputs": [],
   "source": []
  }
 ],
 "metadata": {
  "kernelspec": {
   "display_name": "Python 3",
   "language": "python",
   "name": "python3"
  },
  "language_info": {
   "codemirror_mode": {
    "name": "ipython",
    "version": 3
   },
   "file_extension": ".py",
   "mimetype": "text/x-python",
   "name": "python",
   "nbconvert_exporter": "python",
   "pygments_lexer": "ipython3",
   "version": "3.5.3"
  }
 },
 "nbformat": 4,
 "nbformat_minor": 2
}
