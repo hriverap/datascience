{
 "cells": [
  {
   "cell_type": "markdown",
   "metadata": {},
   "source": [
    "# Magister en Ciencia de Datos - UDD\n",
    "## DBAnalytics (Ciencia de Datos aplicada)\n",
    "**Sprint 2: Datos transformados II**\n",
    "\n",
    "En base a las funciones RFM del Sprint 1, crear nuevos features para cada variable en el dataset user_logs.csv y transactions.csv (sólo si aplica).\n",
    "Crear nuevas funciones para construir features tales como:\n",
    "Tendencias de actividad del msno entre diferentes rangos de tiempo usando diferentes variables, usando variables del dataset user_logs.csv\n",
    "Métricas de la actividad del msno usando diferentes variables del dataset transactions.csv \n",
    "En base a las funciones implementadas (y otras definidas por cada grupo), se deben implementar al menos 300 features. "
   ]
  },
  {
   "cell_type": "code",
   "execution_count": 1,
   "metadata": {},
   "outputs": [],
   "source": [
    "import pandas as pd\n",
    "import numpy as np\n",
    "import gc"
   ]
  },
  {
   "cell_type": "markdown",
   "metadata": {},
   "source": [
    "* Lectura de archivos desde repositorio y contatenacion con nuevas versiones"
   ]
  },
  {
   "cell_type": "code",
   "execution_count": 2,
   "metadata": {},
   "outputs": [
    {
     "name": "stdout",
     "output_type": "stream",
     "text": [
      "gs://kk_data_udd/day_listen.csv#1564861559107461\n",
      "gs://kk_data_udd/df_test.csv#1565240427109815\n",
      "gs://kk_data_udd/df_train.csv#1565240406697715\n",
      "gs://kk_data_udd/members_v3.csv#1563566790239785\n",
      "gs://kk_data_udd/sample_submission_v2.csv#1563580288727022\n",
      "gs://kk_data_udd/sample_submission_zero.csv#1563580145138161\n",
      "gs://kk_data_udd/sub_age_xgb_pred.csv#1565055727433942\n",
      "gs://kk_data_udd/sub_day_listen.csv#1564861658307683\n",
      "gs://kk_data_udd/sub_reg_via_xgb_pred.csv#1565055581900599\n",
      "gs://kk_data_udd/sub_user_satisfaction.cvs#1564861608790636\n",
      "gs://kk_data_udd/test_sorted_v1.csv#1565242819914404\n",
      "gs://kk_data_udd/train.csv#1563565831541482\n",
      "gs://kk_data_udd/train_sorted_v1.csv#1565243444686022\n",
      "gs://kk_data_udd/train_v2.csv#1563580263806878\n",
      "gs://kk_data_udd/transactions.csv#1563580088583483\n",
      "gs://kk_data_udd/transactions_v2.csv#1563580288931202\n",
      "gs://kk_data_udd/user_label_201702.csv#1563681052454642\n",
      "gs://kk_data_udd/user_label_201703.csv#1563681061521361\n",
      "gs://kk_data_udd/user_latent_satisfaction.csv#1564861506322352\n",
      "gs://kk_data_udd/user_logs.csv#1563642063874891\n",
      "gs://kk_data_udd/user_logs_v2.csv#1563580748443816\n",
      "gs://kk_data_udd/submission/\n"
     ]
    }
   ],
   "source": [
    "!gsutil ls -a gs://kk_data_udd"
   ]
  },
  {
   "cell_type": "markdown",
   "metadata": {},
   "source": [
    "* Leemos archivos de entrenamiento y test version 1.0"
   ]
  },
  {
   "cell_type": "code",
   "execution_count": 3,
   "metadata": {},
   "outputs": [],
   "source": [
    "df_train = pd.read_csv('gs://kk_data_udd/train_sorted_v1.csv')"
   ]
  },
  {
   "cell_type": "code",
   "execution_count": 4,
   "metadata": {},
   "outputs": [],
   "source": [
    "df_test = pd.read_csv('gs://kk_data_udd/test_sorted_v1.csv')"
   ]
  },
  {
   "cell_type": "code",
   "execution_count": 5,
   "metadata": {},
   "outputs": [
    {
     "data": {
      "text/html": [
       "<div>\n",
       "<style scoped>\n",
       "    .dataframe tbody tr th:only-of-type {\n",
       "        vertical-align: middle;\n",
       "    }\n",
       "\n",
       "    .dataframe tbody tr th {\n",
       "        vertical-align: top;\n",
       "    }\n",
       "\n",
       "    .dataframe thead th {\n",
       "        text-align: right;\n",
       "    }\n",
       "</style>\n",
       "<table border=\"1\" class=\"dataframe\">\n",
       "  <thead>\n",
       "    <tr style=\"text-align: right;\">\n",
       "      <th></th>\n",
       "      <th>city</th>\n",
       "      <th>gender</th>\n",
       "      <th>registered_via</th>\n",
       "      <th>payment_method_id</th>\n",
       "      <th>payment_plan_days</th>\n",
       "      <th>plan_list_price</th>\n",
       "      <th>discount</th>\n",
       "      <th>membership_days</th>\n",
       "    </tr>\n",
       "  </thead>\n",
       "  <tbody>\n",
       "    <tr>\n",
       "      <th>0</th>\n",
       "      <td>18.0</td>\n",
       "      <td>2.0</td>\n",
       "      <td>9.0</td>\n",
       "      <td>38</td>\n",
       "      <td>30</td>\n",
       "      <td>149</td>\n",
       "      <td>0</td>\n",
       "      <td>0</td>\n",
       "    </tr>\n",
       "    <tr>\n",
       "      <th>1</th>\n",
       "      <td>10.0</td>\n",
       "      <td>1.0</td>\n",
       "      <td>9.0</td>\n",
       "      <td>39</td>\n",
       "      <td>30</td>\n",
       "      <td>149</td>\n",
       "      <td>0</td>\n",
       "      <td>0</td>\n",
       "    </tr>\n",
       "    <tr>\n",
       "      <th>2</th>\n",
       "      <td>11.0</td>\n",
       "      <td>2.0</td>\n",
       "      <td>9.0</td>\n",
       "      <td>39</td>\n",
       "      <td>30</td>\n",
       "      <td>149</td>\n",
       "      <td>0</td>\n",
       "      <td>0</td>\n",
       "    </tr>\n",
       "    <tr>\n",
       "      <th>3</th>\n",
       "      <td>13.0</td>\n",
       "      <td>2.0</td>\n",
       "      <td>9.0</td>\n",
       "      <td>40</td>\n",
       "      <td>30</td>\n",
       "      <td>149</td>\n",
       "      <td>0</td>\n",
       "      <td>0</td>\n",
       "    </tr>\n",
       "    <tr>\n",
       "      <th>4</th>\n",
       "      <td>3.0</td>\n",
       "      <td>1.0</td>\n",
       "      <td>9.0</td>\n",
       "      <td>38</td>\n",
       "      <td>90</td>\n",
       "      <td>477</td>\n",
       "      <td>0</td>\n",
       "      <td>0</td>\n",
       "    </tr>\n",
       "  </tbody>\n",
       "</table>\n",
       "</div>"
      ],
      "text/plain": [
       "   city  gender  registered_via  payment_method_id  payment_plan_days  \\\n",
       "0  18.0     2.0             9.0                 38                 30   \n",
       "1  10.0     1.0             9.0                 39                 30   \n",
       "2  11.0     2.0             9.0                 39                 30   \n",
       "3  13.0     2.0             9.0                 40                 30   \n",
       "4   3.0     1.0             9.0                 38                 90   \n",
       "\n",
       "   plan_list_price  discount  membership_days  \n",
       "0              149         0                0  \n",
       "1              149         0                0  \n",
       "2              149         0                0  \n",
       "3              149         0                0  \n",
       "4              477         0                0  "
      ]
     },
     "execution_count": 5,
     "metadata": {},
     "output_type": "execute_result"
    }
   ],
   "source": [
    "df_train[['city',\n",
    " 'gender',\n",
    " 'registered_via',\n",
    " 'payment_method_id',\n",
    " 'payment_plan_days',\n",
    " 'plan_list_price',\n",
    " 'discount',\n",
    " 'membership_days']].head()"
   ]
  },
  {
   "cell_type": "code",
   "execution_count": 6,
   "metadata": {},
   "outputs": [],
   "source": [
    "def GetINT(obj):\n",
    "    return str(obj).split('.')[0] "
   ]
  },
  {
   "cell_type": "code",
   "execution_count": 7,
   "metadata": {},
   "outputs": [],
   "source": [
    "def GetINT2(obj):\n",
    "    return str(obj)"
   ]
  },
  {
   "cell_type": "code",
   "execution_count": 8,
   "metadata": {},
   "outputs": [],
   "source": [
    "df_train['city'] = df_train['city'].apply(GetINT)\n",
    "df_cities = pd.get_dummies(df_train[['city']], prefix=[\"city\"])\n",
    "\n",
    "df_train['gender'] = df_train['gender'].apply(GetINT)\n",
    "df_gender = pd.get_dummies(df_train[['gender']], prefix=[\"gender\"])\n",
    "\n",
    "df_train['registered_via'] = df_train['registered_via'].apply(GetINT)\n",
    "df_registered_via = pd.get_dummies(df_train[['registered_via']], prefix=[\"registered_via\"])"
   ]
  },
  {
   "cell_type": "code",
   "execution_count": 9,
   "metadata": {},
   "outputs": [],
   "source": [
    "df_train['payment_method_id'] = df_train['payment_method_id'].apply(GetINT2)\n",
    "df_payment_method_id = pd.get_dummies(df_train[['payment_method_id']], prefix=[\"pmi\"])\n",
    "\n",
    "df_train['payment_plan_days'] = df_train['payment_plan_days'].apply(GetINT2)\n",
    "df_payment_plan_days = pd.get_dummies(df_train[['payment_plan_days']], prefix=[\"ppd\"])\n",
    "\n",
    "df_train['plan_list_price'] = df_train['plan_list_price'].apply(GetINT2)\n",
    "df_plan_list_price = pd.get_dummies(df_train[['plan_list_price']], prefix=[\"plp\"])\n",
    "\n",
    "df_train['discount'] = df_train['discount'].apply(GetINT2)\n",
    "df_discount = pd.get_dummies(df_train[['discount']], prefix=[\"discount\"])\n",
    "\n",
    "df_train['membership_days'] = df_train['membership_days'].apply(GetINT2)\n",
    "df_membership_days = pd.get_dummies(df_train[['membership_days']], prefix=[\"md\"])"
   ]
  },
  {
   "cell_type": "code",
   "execution_count": 10,
   "metadata": {},
   "outputs": [
    {
     "data": {
      "text/plain": [
       "66"
      ]
     },
     "execution_count": 10,
     "metadata": {},
     "output_type": "execute_result"
    }
   ],
   "source": [
    "len(df_train.columns)"
   ]
  },
  {
   "cell_type": "code",
   "execution_count": 11,
   "metadata": {},
   "outputs": [
    {
     "data": {
      "text/plain": [
       "22"
      ]
     },
     "execution_count": 11,
     "metadata": {},
     "output_type": "execute_result"
    }
   ],
   "source": [
    "len(df_cities.columns)"
   ]
  },
  {
   "cell_type": "code",
   "execution_count": 12,
   "metadata": {},
   "outputs": [],
   "source": [
    "df_train=pd.concat([df_train, df_cities],axis=1)"
   ]
  },
  {
   "cell_type": "code",
   "execution_count": 13,
   "metadata": {},
   "outputs": [
    {
     "data": {
      "text/plain": [
       "88"
      ]
     },
     "execution_count": 13,
     "metadata": {},
     "output_type": "execute_result"
    }
   ],
   "source": [
    "len(df_train.columns)"
   ]
  },
  {
   "cell_type": "code",
   "execution_count": 14,
   "metadata": {},
   "outputs": [],
   "source": [
    "df_train=pd.concat([df_train, df_gender],axis=1)\n",
    "df_train=pd.concat([df_train, df_registered_via],axis=1)\n",
    "df_train=pd.concat([df_train, df_payment_method_id],axis=1)\n",
    "df_train=pd.concat([df_train, df_payment_plan_days],axis=1)\n",
    "df_train=pd.concat([df_train, df_plan_list_price],axis=1)\n",
    "df_train=pd.concat([df_train, df_discount],axis=1)\n",
    "df_train=pd.concat([df_train, df_membership_days],axis=1)"
   ]
  },
  {
   "cell_type": "code",
   "execution_count": 15,
   "metadata": {},
   "outputs": [
    {
     "data": {
      "text/plain": [
       "(1963891, 217)"
      ]
     },
     "execution_count": 15,
     "metadata": {},
     "output_type": "execute_result"
    }
   ],
   "source": [
    "df_train.shape"
   ]
  },
  {
   "cell_type": "code",
   "execution_count": 16,
   "metadata": {},
   "outputs": [
    {
     "name": "stdout",
     "output_type": "stream",
     "text": [
      "gs://kk_data_udd/day_listen.csv#1564861559107461\n",
      "gs://kk_data_udd/df_test.csv#1565240427109815\n",
      "gs://kk_data_udd/df_train.csv#1565240406697715\n",
      "gs://kk_data_udd/members_v3.csv#1563566790239785\n",
      "gs://kk_data_udd/sample_submission_v2.csv#1563580288727022\n",
      "gs://kk_data_udd/sample_submission_zero.csv#1563580145138161\n",
      "gs://kk_data_udd/sub_age_xgb_pred.csv#1565055727433942\n",
      "gs://kk_data_udd/sub_day_listen.csv#1564861658307683\n",
      "gs://kk_data_udd/sub_reg_via_xgb_pred.csv#1565055581900599\n",
      "gs://kk_data_udd/sub_user_satisfaction.cvs#1564861608790636\n",
      "gs://kk_data_udd/test_sorted_v1.csv#1565242819914404\n",
      "gs://kk_data_udd/train.csv#1563565831541482\n",
      "gs://kk_data_udd/train_sorted_v1.csv#1565243444686022\n",
      "gs://kk_data_udd/train_v2.csv#1563580263806878\n",
      "gs://kk_data_udd/transactions.csv#1563580088583483\n",
      "gs://kk_data_udd/transactions_v2.csv#1563580288931202\n",
      "gs://kk_data_udd/user_label_201702.csv#1563681052454642\n",
      "gs://kk_data_udd/user_label_201703.csv#1563681061521361\n",
      "gs://kk_data_udd/user_latent_satisfaction.csv#1564861506322352\n",
      "gs://kk_data_udd/user_logs.csv#1563642063874891\n",
      "gs://kk_data_udd/user_logs_v2.csv#1563580748443816\n",
      "gs://kk_data_udd/submission/\n"
     ]
    }
   ],
   "source": [
    "!gsutil ls -a gs://kk_data_udd"
   ]
  },
  {
   "cell_type": "code",
   "execution_count": 17,
   "metadata": {},
   "outputs": [
    {
     "name": "stdout",
     "output_type": "stream",
     "text": [
      "gs://kk_data_udd/submission/sub_day_listen_bins_pred.csv#1564861912140714\n",
      "gs://kk_data_udd/submission/sub_orginal_day_listen_pred.csv#1564861906258198\n",
      "gs://kk_data_udd/submission/sub_reg_via_xgb_pred.csv#1563929337202673\n"
     ]
    }
   ],
   "source": [
    "!gsutil ls -a gs://kk_data_udd/submission/"
   ]
  },
  {
   "cell_type": "code",
   "execution_count": 18,
   "metadata": {},
   "outputs": [],
   "source": [
    "#user_latent_satisfaction\n",
    "df_user_latent_satisfaction = pd.read_csv('gs://kk_data_udd/user_latent_satisfaction.csv')"
   ]
  },
  {
   "cell_type": "code",
   "execution_count": 19,
   "metadata": {},
   "outputs": [
    {
     "data": {
      "text/html": [
       "<div>\n",
       "<style scoped>\n",
       "    .dataframe tbody tr th:only-of-type {\n",
       "        vertical-align: middle;\n",
       "    }\n",
       "\n",
       "    .dataframe tbody tr th {\n",
       "        vertical-align: top;\n",
       "    }\n",
       "\n",
       "    .dataframe thead th {\n",
       "        text-align: right;\n",
       "    }\n",
       "</style>\n",
       "<table border=\"1\" class=\"dataframe\">\n",
       "  <thead>\n",
       "    <tr style=\"text-align: right;\">\n",
       "      <th></th>\n",
       "      <th>msno</th>\n",
       "      <th>user_latent_satisfaction</th>\n",
       "    </tr>\n",
       "  </thead>\n",
       "  <tbody>\n",
       "    <tr>\n",
       "      <th>0</th>\n",
       "      <td>+2oK/qWmYvAnfNZsVV5pdsJ9n6d/LZn6CdwiJajGZas=</td>\n",
       "      <td>0.555549</td>\n",
       "    </tr>\n",
       "    <tr>\n",
       "      <th>1</th>\n",
       "      <td>+iMj+cgRiFJrmnOOLGwEZu6nzH0KbsMIdOZkpItAXTs=</td>\n",
       "      <td>0.798740</td>\n",
       "    </tr>\n",
       "    <tr>\n",
       "      <th>2</th>\n",
       "      <td>10QzA1bL7qK5Oeec6OlbyUEBOipzjY4OHN8gf2xokW4=</td>\n",
       "      <td>0.512925</td>\n",
       "    </tr>\n",
       "    <tr>\n",
       "      <th>3</th>\n",
       "      <td>2Dvm0YBqp+gDTOksgoR5ixNOk64C6ozpBzEkhbdkTrE=</td>\n",
       "      <td>0.958960</td>\n",
       "    </tr>\n",
       "    <tr>\n",
       "      <th>4</th>\n",
       "      <td>7B2xf5mD+GijSROhxSmKDuybhy+H5rgjfSy9sy6Xt4g=</td>\n",
       "      <td>0.762336</td>\n",
       "    </tr>\n",
       "  </tbody>\n",
       "</table>\n",
       "</div>"
      ],
      "text/plain": [
       "                                           msno  user_latent_satisfaction\n",
       "0  +2oK/qWmYvAnfNZsVV5pdsJ9n6d/LZn6CdwiJajGZas=                  0.555549\n",
       "1  +iMj+cgRiFJrmnOOLGwEZu6nzH0KbsMIdOZkpItAXTs=                  0.798740\n",
       "2  10QzA1bL7qK5Oeec6OlbyUEBOipzjY4OHN8gf2xokW4=                  0.512925\n",
       "3  2Dvm0YBqp+gDTOksgoR5ixNOk64C6ozpBzEkhbdkTrE=                  0.958960\n",
       "4  7B2xf5mD+GijSROhxSmKDuybhy+H5rgjfSy9sy6Xt4g=                  0.762336"
      ]
     },
     "execution_count": 19,
     "metadata": {},
     "output_type": "execute_result"
    }
   ],
   "source": [
    "df_user_latent_satisfaction.head()"
   ]
  },
  {
   "cell_type": "code",
   "execution_count": 20,
   "metadata": {},
   "outputs": [],
   "source": [
    "# day_listen\n",
    "df_day_listen = pd.read_csv('gs://kk_data_udd/day_listen.csv')"
   ]
  },
  {
   "cell_type": "code",
   "execution_count": 21,
   "metadata": {},
   "outputs": [
    {
     "data": {
      "text/html": [
       "<div>\n",
       "<style scoped>\n",
       "    .dataframe tbody tr th:only-of-type {\n",
       "        vertical-align: middle;\n",
       "    }\n",
       "\n",
       "    .dataframe tbody tr th {\n",
       "        vertical-align: top;\n",
       "    }\n",
       "\n",
       "    .dataframe thead th {\n",
       "        text-align: right;\n",
       "    }\n",
       "</style>\n",
       "<table border=\"1\" class=\"dataframe\">\n",
       "  <thead>\n",
       "    <tr style=\"text-align: right;\">\n",
       "      <th></th>\n",
       "      <th>msno</th>\n",
       "      <th>is_churn</th>\n",
       "      <th>day_listen</th>\n",
       "    </tr>\n",
       "  </thead>\n",
       "  <tbody>\n",
       "    <tr>\n",
       "      <th>0</th>\n",
       "      <td>+MFM2WIg07EADKRI0gm/Vq+3s2jDW838pVt477htI8k=</td>\n",
       "      <td>False</td>\n",
       "      <td>74.0</td>\n",
       "    </tr>\n",
       "    <tr>\n",
       "      <th>1</th>\n",
       "      <td>/fBID42G+PGSb8jQ4Lo0p6DI6gX78OIp5/thoFYn68M=</td>\n",
       "      <td>False</td>\n",
       "      <td>27.0</td>\n",
       "    </tr>\n",
       "    <tr>\n",
       "      <th>2</th>\n",
       "      <td>/qu3BCDcv1UqIHl2kal9kqrWlpYy4QMW5LolR5fR5/A=</td>\n",
       "      <td>False</td>\n",
       "      <td>126.0</td>\n",
       "    </tr>\n",
       "    <tr>\n",
       "      <th>3</th>\n",
       "      <td>/reu7jVe3U4hlk366ZmiR/YkVi6H/C2SSa8J4tSQtsQ=</td>\n",
       "      <td>False</td>\n",
       "      <td>66.0</td>\n",
       "    </tr>\n",
       "    <tr>\n",
       "      <th>4</th>\n",
       "      <td>1VIbdCaMTd1AKazZRzQDDrtO+emWOrncVaGRxEG8eiY=</td>\n",
       "      <td>False</td>\n",
       "      <td>130.0</td>\n",
       "    </tr>\n",
       "  </tbody>\n",
       "</table>\n",
       "</div>"
      ],
      "text/plain": [
       "                                           msno  is_churn  day_listen\n",
       "0  +MFM2WIg07EADKRI0gm/Vq+3s2jDW838pVt477htI8k=     False        74.0\n",
       "1  /fBID42G+PGSb8jQ4Lo0p6DI6gX78OIp5/thoFYn68M=     False        27.0\n",
       "2  /qu3BCDcv1UqIHl2kal9kqrWlpYy4QMW5LolR5fR5/A=     False       126.0\n",
       "3  /reu7jVe3U4hlk366ZmiR/YkVi6H/C2SSa8J4tSQtsQ=     False        66.0\n",
       "4  1VIbdCaMTd1AKazZRzQDDrtO+emWOrncVaGRxEG8eiY=     False       130.0"
      ]
     },
     "execution_count": 21,
     "metadata": {},
     "output_type": "execute_result"
    }
   ],
   "source": [
    "df_day_listen.head()"
   ]
  },
  {
   "cell_type": "code",
   "execution_count": 22,
   "metadata": {},
   "outputs": [],
   "source": [
    "del df_day_listen['is_churn']"
   ]
  },
  {
   "cell_type": "code",
   "execution_count": 23,
   "metadata": {},
   "outputs": [],
   "source": [
    "df_train = pd.merge(df_train, df_day_listen, on='msno')"
   ]
  },
  {
   "cell_type": "code",
   "execution_count": 24,
   "metadata": {},
   "outputs": [],
   "source": [
    "df_train = pd.merge(df_train,df_user_latent_satisfaction, on='msno')"
   ]
  },
  {
   "cell_type": "code",
   "execution_count": 25,
   "metadata": {},
   "outputs": [
    {
     "data": {
      "text/html": [
       "<div>\n",
       "<style scoped>\n",
       "    .dataframe tbody tr th:only-of-type {\n",
       "        vertical-align: middle;\n",
       "    }\n",
       "\n",
       "    .dataframe tbody tr th {\n",
       "        vertical-align: top;\n",
       "    }\n",
       "\n",
       "    .dataframe thead th {\n",
       "        text-align: right;\n",
       "    }\n",
       "</style>\n",
       "<table border=\"1\" class=\"dataframe\">\n",
       "  <thead>\n",
       "    <tr style=\"text-align: right;\">\n",
       "      <th></th>\n",
       "      <th>msno</th>\n",
       "      <th>is_churn</th>\n",
       "      <th>city</th>\n",
       "      <th>bd</th>\n",
       "      <th>gender</th>\n",
       "      <th>registered_via</th>\n",
       "      <th>registration_init_time</th>\n",
       "      <th>payment_method_id</th>\n",
       "      <th>payment_plan_days</th>\n",
       "      <th>plan_list_price</th>\n",
       "      <th>...</th>\n",
       "      <th>discount_120</th>\n",
       "      <th>discount_149</th>\n",
       "      <th>discount_180</th>\n",
       "      <th>discount_20</th>\n",
       "      <th>discount_30</th>\n",
       "      <th>discount_50</th>\n",
       "      <th>md_-1</th>\n",
       "      <th>md_0</th>\n",
       "      <th>day_listen</th>\n",
       "      <th>user_latent_satisfaction</th>\n",
       "    </tr>\n",
       "  </thead>\n",
       "  <tbody>\n",
       "    <tr>\n",
       "      <th>0</th>\n",
       "      <td>QA7uiXy8vIbUSPOkCf9RwQ3FsT8jVq2OxDr8zqa7bRQ=</td>\n",
       "      <td>1</td>\n",
       "      <td>10</td>\n",
       "      <td>38.0</td>\n",
       "      <td>1</td>\n",
       "      <td>9</td>\n",
       "      <td>2005.0</td>\n",
       "      <td>39</td>\n",
       "      <td>30</td>\n",
       "      <td>149</td>\n",
       "      <td>...</td>\n",
       "      <td>0</td>\n",
       "      <td>0</td>\n",
       "      <td>0</td>\n",
       "      <td>0</td>\n",
       "      <td>0</td>\n",
       "      <td>0</td>\n",
       "      <td>0</td>\n",
       "      <td>1</td>\n",
       "      <td>33.0</td>\n",
       "      <td>0.820694</td>\n",
       "    </tr>\n",
       "    <tr>\n",
       "      <th>1</th>\n",
       "      <td>QA7uiXy8vIbUSPOkCf9RwQ3FsT8jVq2OxDr8zqa7bRQ=</td>\n",
       "      <td>1</td>\n",
       "      <td>10</td>\n",
       "      <td>38.0</td>\n",
       "      <td>1</td>\n",
       "      <td>9</td>\n",
       "      <td>2005.0</td>\n",
       "      <td>39</td>\n",
       "      <td>30</td>\n",
       "      <td>149</td>\n",
       "      <td>...</td>\n",
       "      <td>0</td>\n",
       "      <td>0</td>\n",
       "      <td>0</td>\n",
       "      <td>0</td>\n",
       "      <td>0</td>\n",
       "      <td>0</td>\n",
       "      <td>0</td>\n",
       "      <td>1</td>\n",
       "      <td>33.0</td>\n",
       "      <td>0.820694</td>\n",
       "    </tr>\n",
       "    <tr>\n",
       "      <th>2</th>\n",
       "      <td>Nb1ZGEmagQeba5E+nQj8VlQoWl+8SFmLZu+Y8ytIamw=</td>\n",
       "      <td>1</td>\n",
       "      <td>18</td>\n",
       "      <td>22.0</td>\n",
       "      <td>2</td>\n",
       "      <td>9</td>\n",
       "      <td>2006.0</td>\n",
       "      <td>38</td>\n",
       "      <td>30</td>\n",
       "      <td>149</td>\n",
       "      <td>...</td>\n",
       "      <td>0</td>\n",
       "      <td>0</td>\n",
       "      <td>0</td>\n",
       "      <td>0</td>\n",
       "      <td>0</td>\n",
       "      <td>0</td>\n",
       "      <td>0</td>\n",
       "      <td>1</td>\n",
       "      <td>152.0</td>\n",
       "      <td>0.919394</td>\n",
       "    </tr>\n",
       "    <tr>\n",
       "      <th>3</th>\n",
       "      <td>Nb1ZGEmagQeba5E+nQj8VlQoWl+8SFmLZu+Y8ytIamw=</td>\n",
       "      <td>0</td>\n",
       "      <td>18</td>\n",
       "      <td>22.0</td>\n",
       "      <td>2</td>\n",
       "      <td>9</td>\n",
       "      <td>2006.0</td>\n",
       "      <td>38</td>\n",
       "      <td>30</td>\n",
       "      <td>149</td>\n",
       "      <td>...</td>\n",
       "      <td>0</td>\n",
       "      <td>0</td>\n",
       "      <td>0</td>\n",
       "      <td>0</td>\n",
       "      <td>0</td>\n",
       "      <td>0</td>\n",
       "      <td>0</td>\n",
       "      <td>1</td>\n",
       "      <td>152.0</td>\n",
       "      <td>0.919394</td>\n",
       "    </tr>\n",
       "    <tr>\n",
       "      <th>4</th>\n",
       "      <td>MkuWz0Nq6/Oq5fKqRddWL7oh2SLUSRe3/g+XmAWqW1Q=</td>\n",
       "      <td>1</td>\n",
       "      <td>11</td>\n",
       "      <td>31.0</td>\n",
       "      <td>2</td>\n",
       "      <td>9</td>\n",
       "      <td>2006.0</td>\n",
       "      <td>38</td>\n",
       "      <td>30</td>\n",
       "      <td>149</td>\n",
       "      <td>...</td>\n",
       "      <td>0</td>\n",
       "      <td>0</td>\n",
       "      <td>0</td>\n",
       "      <td>0</td>\n",
       "      <td>0</td>\n",
       "      <td>0</td>\n",
       "      <td>0</td>\n",
       "      <td>1</td>\n",
       "      <td>4.0</td>\n",
       "      <td>1.000000</td>\n",
       "    </tr>\n",
       "  </tbody>\n",
       "</table>\n",
       "<p>5 rows × 219 columns</p>\n",
       "</div>"
      ],
      "text/plain": [
       "                                           msno  is_churn city    bd gender  \\\n",
       "0  QA7uiXy8vIbUSPOkCf9RwQ3FsT8jVq2OxDr8zqa7bRQ=         1   10  38.0      1   \n",
       "1  QA7uiXy8vIbUSPOkCf9RwQ3FsT8jVq2OxDr8zqa7bRQ=         1   10  38.0      1   \n",
       "2  Nb1ZGEmagQeba5E+nQj8VlQoWl+8SFmLZu+Y8ytIamw=         1   18  22.0      2   \n",
       "3  Nb1ZGEmagQeba5E+nQj8VlQoWl+8SFmLZu+Y8ytIamw=         0   18  22.0      2   \n",
       "4  MkuWz0Nq6/Oq5fKqRddWL7oh2SLUSRe3/g+XmAWqW1Q=         1   11  31.0      2   \n",
       "\n",
       "  registered_via  registration_init_time payment_method_id payment_plan_days  \\\n",
       "0              9                  2005.0                39                30   \n",
       "1              9                  2005.0                39                30   \n",
       "2              9                  2006.0                38                30   \n",
       "3              9                  2006.0                38                30   \n",
       "4              9                  2006.0                38                30   \n",
       "\n",
       "  plan_list_price  ...  discount_120  discount_149  discount_180  discount_20  \\\n",
       "0             149  ...             0             0             0            0   \n",
       "1             149  ...             0             0             0            0   \n",
       "2             149  ...             0             0             0            0   \n",
       "3             149  ...             0             0             0            0   \n",
       "4             149  ...             0             0             0            0   \n",
       "\n",
       "   discount_30 discount_50  md_-1 md_0  day_listen  user_latent_satisfaction  \n",
       "0            0           0      0    1        33.0                  0.820694  \n",
       "1            0           0      0    1        33.0                  0.820694  \n",
       "2            0           0      0    1       152.0                  0.919394  \n",
       "3            0           0      0    1       152.0                  0.919394  \n",
       "4            0           0      0    1         4.0                  1.000000  \n",
       "\n",
       "[5 rows x 219 columns]"
      ]
     },
     "execution_count": 25,
     "metadata": {},
     "output_type": "execute_result"
    }
   ],
   "source": [
    "df_train.head()"
   ]
  },
  {
   "cell_type": "code",
   "execution_count": 26,
   "metadata": {},
   "outputs": [
    {
     "data": {
      "text/plain": [
       "(1667562, 219)"
      ]
     },
     "execution_count": 26,
     "metadata": {},
     "output_type": "execute_result"
    }
   ],
   "source": [
    "df_train.shape"
   ]
  },
  {
   "cell_type": "code",
   "execution_count": 27,
   "metadata": {},
   "outputs": [],
   "source": [
    "df_train.to_csv(\"gs://kk_data_udd/train_sorted_v2.csv\", index=False)"
   ]
  },
  {
   "cell_type": "code",
   "execution_count": null,
   "metadata": {},
   "outputs": [],
   "source": []
  }
 ],
 "metadata": {
  "kernelspec": {
   "display_name": "Python 3",
   "language": "python",
   "name": "python3"
  },
  "language_info": {
   "codemirror_mode": {
    "name": "ipython",
    "version": 3
   },
   "file_extension": ".py",
   "mimetype": "text/x-python",
   "name": "python",
   "nbconvert_exporter": "python",
   "pygments_lexer": "ipython3",
   "version": "3.5.3"
  }
 },
 "nbformat": 4,
 "nbformat_minor": 2
}
