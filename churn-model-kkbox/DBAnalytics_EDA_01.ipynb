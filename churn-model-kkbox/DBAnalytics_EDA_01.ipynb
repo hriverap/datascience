{
 "cells": [
  {
   "cell_type": "markdown",
   "metadata": {},
   "source": [
    "# Magister en Ciencia de Datos - UDD\n",
    "## DBAnalytics (Ciencia de Datos aplicada)\n",
    "### Exploración de datos 1:  \n",
    "Para la exploración de datos utilizaremos el framework de apple Graphlab, el cual permite la manipulación de archivos de gran volumen, sin necesidad de uso de Big Data. El obejetivo de este notebook es identificar las principales caracteristicas de los dataset de kkbox, tanto a nivel de estructura, tipo de datos, volumen, etc. Finalmente los tranformareos a formato nativo del framework para mejorar la velocidad de analisis."
   ]
  },
  {
   "cell_type": "code",
   "execution_count": 1,
   "metadata": {
    "collapsed": true
   },
   "outputs": [],
   "source": [
    "import graphlab as gl\n",
    "import datetime\n",
    "from dateutil import parser as datetime_parser"
   ]
  },
  {
   "cell_type": "markdown",
   "metadata": {},
   "source": [
    "### Exploración de datos:"
   ]
  },
  {
   "cell_type": "markdown",
   "metadata": {},
   "source": [
    "* Paths que contienen los dataset:"
   ]
  },
  {
   "cell_type": "code",
   "execution_count": 2,
   "metadata": {
    "collapsed": true
   },
   "outputs": [],
   "source": [
    "DIR = '/Volumes/LEON/MDS _UDD/kkbox-churn-prediction-challenge/'"
   ]
  },
  {
   "cell_type": "code",
   "execution_count": 3,
   "metadata": {
    "collapsed": true
   },
   "outputs": [],
   "source": [
    "UPDATE = 'data/churn_comp_refresh/'"
   ]
  },
  {
   "cell_type": "markdown",
   "metadata": {},
   "source": [
    "#### 1. Dataset - Train:"
   ]
  },
  {
   "cell_type": "code",
   "execution_count": 4,
   "metadata": {
    "collapsed": false
   },
   "outputs": [
    {
     "name": "stderr",
     "output_type": "stream",
     "text": [
      "[INFO] graphlab.cython.cy_server: GraphLab Create v2.1 started. Logging: /tmp/graphlab_server_1563044712.log\n"
     ]
    },
    {
     "name": "stdout",
     "output_type": "stream",
     "text": [
      "This non-commercial license of GraphLab Create for academic use is assigned to hriverap@gmail.com and will expire on May 19, 2020.\n"
     ]
    },
    {
     "data": {
      "text/html": [
       "<pre>Finished parsing file /Volumes/LEON/MDS _UDD/kkbox-churn-prediction-challenge/train.csv</pre>"
      ],
      "text/plain": [
       "Finished parsing file /Volumes/LEON/MDS _UDD/kkbox-churn-prediction-challenge/train.csv"
      ]
     },
     "metadata": {},
     "output_type": "display_data"
    },
    {
     "data": {
      "text/html": [
       "<pre>Parsing completed. Parsed 100 lines in 2.30338 secs.</pre>"
      ],
      "text/plain": [
       "Parsing completed. Parsed 100 lines in 2.30338 secs."
      ]
     },
     "metadata": {},
     "output_type": "display_data"
    },
    {
     "name": "stdout",
     "output_type": "stream",
     "text": [
      "------------------------------------------------------\n",
      "Inferred types from first 100 line(s) of file as \n",
      "column_type_hints=[str,int]\n",
      "If parsing fails due to incorrect types, you can correct\n",
      "the inferred type list above and pass it to read_csv in\n",
      "the column_type_hints argument\n",
      "------------------------------------------------------\n"
     ]
    },
    {
     "data": {
      "text/html": [
       "<pre>Finished parsing file /Volumes/LEON/MDS _UDD/kkbox-churn-prediction-challenge/train.csv</pre>"
      ],
      "text/plain": [
       "Finished parsing file /Volumes/LEON/MDS _UDD/kkbox-churn-prediction-challenge/train.csv"
      ]
     },
     "metadata": {},
     "output_type": "display_data"
    },
    {
     "data": {
      "text/html": [
       "<pre>Parsing completed. Parsed 992931 lines in 1.13527 secs.</pre>"
      ],
      "text/plain": [
       "Parsing completed. Parsed 992931 lines in 1.13527 secs."
      ]
     },
     "metadata": {},
     "output_type": "display_data"
    }
   ],
   "source": [
    "train = gl.SFrame.read_csv(DIR + 'train.csv')"
   ]
  },
  {
   "cell_type": "code",
   "execution_count": 5,
   "metadata": {
    "collapsed": false
   },
   "outputs": [
    {
     "data": {
      "text/plain": [
       "<bound method SFrame.dtype of Columns:\n",
       "\tmsno\tstr\n",
       "\tis_churn\tint\n",
       "\n",
       "Rows: 992931\n",
       "\n",
       "Data:\n",
       "+-------------------------------+----------+\n",
       "|              msno             | is_churn |\n",
       "+-------------------------------+----------+\n",
       "| waLDQMmcOu2jLDaV1ddDkgCrB/... |    1     |\n",
       "| QA7uiXy8vIbUSPOkCf9RwQ3FsT... |    1     |\n",
       "| fGwBva6hikQmTJzrbz/2Ezjm5C... |    1     |\n",
       "| mT5V8rEpa+8wuqi6x0DoVd3H5i... |    1     |\n",
       "| XaPhtGLk/5UvvOYHcONTwsnH97... |    1     |\n",
       "| GBy8qSz16X5iYWD+3CMxv/Hm6O... |    1     |\n",
       "| lYLh7TdkWpIoQs3i3o6mIjLH8/... |    1     |\n",
       "| T0FF6lumjKcqEO0O+tUH2ytc+K... |    1     |\n",
       "| Nb1ZGEmagQeba5E+nQj8VlQoWl... |    1     |\n",
       "| MkuWz0Nq6/Oq5fKqRddWL7oh2S... |    1     |\n",
       "+-------------------------------+----------+\n",
       "[992931 rows x 2 columns]\n",
       "Note: Only the head of the SFrame is printed.\n",
       "You can use print_rows(num_rows=m, num_columns=n) to print more rows and columns.>"
      ]
     },
     "execution_count": 5,
     "metadata": {},
     "output_type": "execute_result"
    }
   ],
   "source": [
    "train.dtype"
   ]
  },
  {
   "cell_type": "code",
   "execution_count": 6,
   "metadata": {
    "collapsed": true
   },
   "outputs": [],
   "source": [
    "train.save(DIR + 'train_sframe')"
   ]
  },
  {
   "cell_type": "code",
   "execution_count": 7,
   "metadata": {
    "collapsed": false
   },
   "outputs": [
    {
     "data": {
      "text/html": [
       "<pre>Finished parsing file /Volumes/LEON/MDS _UDD/kkbox-churn-prediction-challenge/data/churn_comp_refresh/train_v2.csv</pre>"
      ],
      "text/plain": [
       "Finished parsing file /Volumes/LEON/MDS _UDD/kkbox-churn-prediction-challenge/data/churn_comp_refresh/train_v2.csv"
      ]
     },
     "metadata": {},
     "output_type": "display_data"
    },
    {
     "data": {
      "text/html": [
       "<pre>Parsing completed. Parsed 100 lines in 2.42525 secs.</pre>"
      ],
      "text/plain": [
       "Parsing completed. Parsed 100 lines in 2.42525 secs."
      ]
     },
     "metadata": {},
     "output_type": "display_data"
    },
    {
     "name": "stdout",
     "output_type": "stream",
     "text": [
      "------------------------------------------------------\n",
      "Inferred types from first 100 line(s) of file as \n",
      "column_type_hints=[str,int]\n",
      "If parsing fails due to incorrect types, you can correct\n",
      "the inferred type list above and pass it to read_csv in\n",
      "the column_type_hints argument\n",
      "------------------------------------------------------\n"
     ]
    },
    {
     "data": {
      "text/html": [
       "<pre>Finished parsing file /Volumes/LEON/MDS _UDD/kkbox-churn-prediction-challenge/data/churn_comp_refresh/train_v2.csv</pre>"
      ],
      "text/plain": [
       "Finished parsing file /Volumes/LEON/MDS _UDD/kkbox-churn-prediction-challenge/data/churn_comp_refresh/train_v2.csv"
      ]
     },
     "metadata": {},
     "output_type": "display_data"
    },
    {
     "data": {
      "text/html": [
       "<pre>Parsing completed. Parsed 970960 lines in 1.0521 secs.</pre>"
      ],
      "text/plain": [
       "Parsing completed. Parsed 970960 lines in 1.0521 secs."
      ]
     },
     "metadata": {},
     "output_type": "display_data"
    }
   ],
   "source": [
    "train_v2 = gl.SFrame.read_csv(DIR + UPDATE + 'train_v2.csv')"
   ]
  },
  {
   "cell_type": "code",
   "execution_count": 8,
   "metadata": {
    "collapsed": false
   },
   "outputs": [
    {
     "data": {
      "text/plain": [
       "<bound method SFrame.dtype of Columns:\n",
       "\tmsno\tstr\n",
       "\tis_churn\tint\n",
       "\n",
       "Rows: 970960\n",
       "\n",
       "Data:\n",
       "+-------------------------------+----------+\n",
       "|              msno             | is_churn |\n",
       "+-------------------------------+----------+\n",
       "| ugx0CjOMzazClkFzU2xasmDZao... |    1     |\n",
       "| f/NmvEzHfhINFEYZTR05prUdr+... |    1     |\n",
       "| zLo9f73nGGT1p21ltZC3ChiRnA... |    1     |\n",
       "| 8iF/+8HY8lJKFrTc7iR9ZYGCG2... |    1     |\n",
       "| K6fja4+jmoZ5xG6BypqX80Uw/X... |    1     |\n",
       "| ibIHVYBqxGwrSExE63/omeDD99... |    1     |\n",
       "| kVmM8X4iBPCOfK/m1l3KR7LjFo... |    1     |\n",
       "| moRTKhKIDvb+C8ZHOgmaF4dXML... |    1     |\n",
       "| dW/tPZMDh2Oz/ksduEctJbsz0M... |    1     |\n",
       "| otEcMhAX3mU4gumUSogqgteN3o... |    1     |\n",
       "+-------------------------------+----------+\n",
       "[970960 rows x 2 columns]\n",
       "Note: Only the head of the SFrame is printed.\n",
       "You can use print_rows(num_rows=m, num_columns=n) to print more rows and columns.>"
      ]
     },
     "execution_count": 8,
     "metadata": {},
     "output_type": "execute_result"
    }
   ],
   "source": [
    "train_v2.dtype"
   ]
  },
  {
   "cell_type": "code",
   "execution_count": 9,
   "metadata": {
    "collapsed": true
   },
   "outputs": [],
   "source": [
    "train_v2.save(DIR + 'train_v2_sframe')"
   ]
  },
  {
   "cell_type": "markdown",
   "metadata": {},
   "source": [
    "#### 2. Dataset - Miembros:"
   ]
  },
  {
   "cell_type": "code",
   "execution_count": 10,
   "metadata": {
    "collapsed": false
   },
   "outputs": [
    {
     "data": {
      "text/html": [
       "<pre>Finished parsing file /Volumes/LEON/MDS _UDD/kkbox-churn-prediction-challenge/members_v3.csv</pre>"
      ],
      "text/plain": [
       "Finished parsing file /Volumes/LEON/MDS _UDD/kkbox-churn-prediction-challenge/members_v3.csv"
      ]
     },
     "metadata": {},
     "output_type": "display_data"
    },
    {
     "data": {
      "text/html": [
       "<pre>Parsing completed. Parsed 100 lines in 2.71549 secs.</pre>"
      ],
      "text/plain": [
       "Parsing completed. Parsed 100 lines in 2.71549 secs."
      ]
     },
     "metadata": {},
     "output_type": "display_data"
    },
    {
     "name": "stdout",
     "output_type": "stream",
     "text": [
      "------------------------------------------------------\n",
      "Inferred types from first 100 line(s) of file as \n",
      "column_type_hints=[str,int,int,str,int,int]\n",
      "If parsing fails due to incorrect types, you can correct\n",
      "the inferred type list above and pass it to read_csv in\n",
      "the column_type_hints argument\n",
      "------------------------------------------------------\n"
     ]
    },
    {
     "data": {
      "text/html": [
       "<pre>Read 824950 lines. Lines per second: 291687</pre>"
      ],
      "text/plain": [
       "Read 824950 lines. Lines per second: 291687"
      ]
     },
     "metadata": {},
     "output_type": "display_data"
    },
    {
     "data": {
      "text/html": [
       "<pre>Read 3314402 lines. Lines per second: 398361</pre>"
      ],
      "text/plain": [
       "Read 3314402 lines. Lines per second: 398361"
      ]
     },
     "metadata": {},
     "output_type": "display_data"
    },
    {
     "data": {
      "text/html": [
       "<pre>Read 5804273 lines. Lines per second: 400489</pre>"
      ],
      "text/plain": [
       "Read 5804273 lines. Lines per second: 400489"
      ]
     },
     "metadata": {},
     "output_type": "display_data"
    },
    {
     "data": {
      "text/html": [
       "<pre>Finished parsing file /Volumes/LEON/MDS _UDD/kkbox-churn-prediction-challenge/members_v3.csv</pre>"
      ],
      "text/plain": [
       "Finished parsing file /Volumes/LEON/MDS _UDD/kkbox-churn-prediction-challenge/members_v3.csv"
      ]
     },
     "metadata": {},
     "output_type": "display_data"
    },
    {
     "data": {
      "text/html": [
       "<pre>Parsing completed. Parsed 6769473 lines in 15.5136 secs.</pre>"
      ],
      "text/plain": [
       "Parsing completed. Parsed 6769473 lines in 15.5136 secs."
      ]
     },
     "metadata": {},
     "output_type": "display_data"
    }
   ],
   "source": [
    "members_v3 = gl.SFrame.read_csv(DIR + 'members_v3.csv')"
   ]
  },
  {
   "cell_type": "code",
   "execution_count": 11,
   "metadata": {
    "collapsed": false
   },
   "outputs": [
    {
     "data": {
      "text/plain": [
       "<bound method SFrame.dtype of Columns:\n",
       "\tmsno\tstr\n",
       "\tcity\tint\n",
       "\tbd\tint\n",
       "\tgender\tstr\n",
       "\tregistered_via\tint\n",
       "\tregistration_init_time\tint\n",
       "\n",
       "Rows: 6769473\n",
       "\n",
       "Data:\n",
       "+-------------------------------+------+----+--------+----------------+------------------------+\n",
       "|              msno             | city | bd | gender | registered_via | registration_init_time |\n",
       "+-------------------------------+------+----+--------+----------------+------------------------+\n",
       "| Rb9UwLQTrxzBVwCB6+bCcSQWZ9... |  1   | 0  |        |       11       |        20110911        |\n",
       "| +tJonkh+O1CA796Fm5X60UMOtB... |  1   | 0  |        |       7        |        20110914        |\n",
       "| cV358ssn7a0f7jZOwGNWS07wCK... |  1   | 0  |        |       11       |        20110915        |\n",
       "| 9bzDeJP6sQodK73K5CBlJ6fgIQ... |  1   | 0  |        |       11       |        20110915        |\n",
       "| WFLY3s7z4EZsieHCt63XrsdtfT... |  6   | 32 | female |       9        |        20110915        |\n",
       "| yLkV2gbZ4GLFwqTOXLVHz0VGrM... |  4   | 30 |  male  |       9        |        20110916        |\n",
       "| jNCGK78YkTyId3H3wFavcBLDmz... |  1   | 0  |        |       7        |        20110916        |\n",
       "| WH5Jq4mgtfUFXh2yz+HrcTXKS4... |  5   | 34 |  male  |       9        |        20110916        |\n",
       "| tKmbR4X5VXjHmxERrckawEMZ4z... |  5   | 19 |  male  |       9        |        20110917        |\n",
       "| I0yFvqMoNkM8ZNHb617e1RBzIS... |  13  | 63 |  male  |       9        |        20110918        |\n",
       "+-------------------------------+------+----+--------+----------------+------------------------+\n",
       "[6769473 rows x 6 columns]\n",
       "Note: Only the head of the SFrame is printed.\n",
       "You can use print_rows(num_rows=m, num_columns=n) to print more rows and columns.>"
      ]
     },
     "execution_count": 11,
     "metadata": {},
     "output_type": "execute_result"
    }
   ],
   "source": [
    "members_v3.dtype"
   ]
  },
  {
   "cell_type": "code",
   "execution_count": 12,
   "metadata": {
    "collapsed": true
   },
   "outputs": [],
   "source": [
    "members_v3.save(DIR + 'members_v3_sframe')"
   ]
  },
  {
   "cell_type": "markdown",
   "metadata": {},
   "source": [
    "#### 3. Dataset - Transacciones:"
   ]
  },
  {
   "cell_type": "code",
   "execution_count": 13,
   "metadata": {
    "collapsed": false
   },
   "outputs": [
    {
     "data": {
      "text/html": [
       "<pre>Finished parsing file /Volumes/LEON/MDS _UDD/kkbox-churn-prediction-challenge/transactions.csv</pre>"
      ],
      "text/plain": [
       "Finished parsing file /Volumes/LEON/MDS _UDD/kkbox-churn-prediction-challenge/transactions.csv"
      ]
     },
     "metadata": {},
     "output_type": "display_data"
    },
    {
     "data": {
      "text/html": [
       "<pre>Parsing completed. Parsed 100 lines in 2.5671 secs.</pre>"
      ],
      "text/plain": [
       "Parsing completed. Parsed 100 lines in 2.5671 secs."
      ]
     },
     "metadata": {},
     "output_type": "display_data"
    },
    {
     "name": "stdout",
     "output_type": "stream",
     "text": [
      "------------------------------------------------------\n",
      "Inferred types from first 100 line(s) of file as \n",
      "column_type_hints=[str,int,int,int,int,int,int,int,int]\n",
      "If parsing fails due to incorrect types, you can correct\n",
      "the inferred type list above and pass it to read_csv in\n",
      "the column_type_hints argument\n",
      "------------------------------------------------------\n"
     ]
    },
    {
     "data": {
      "text/html": [
       "<pre>Read 653280 lines. Lines per second: 207204</pre>"
      ],
      "text/plain": [
       "Read 653280 lines. Lines per second: 207204"
      ]
     },
     "metadata": {},
     "output_type": "display_data"
    },
    {
     "data": {
      "text/html": [
       "<pre>Read 2613128 lines. Lines per second: 294655</pre>"
      ],
      "text/plain": [
       "Read 2613128 lines. Lines per second: 294655"
      ]
     },
     "metadata": {},
     "output_type": "display_data"
    },
    {
     "data": {
      "text/html": [
       "<pre>Read 4572995 lines. Lines per second: 305497</pre>"
      ],
      "text/plain": [
       "Read 4572995 lines. Lines per second: 305497"
      ]
     },
     "metadata": {},
     "output_type": "display_data"
    },
    {
     "data": {
      "text/html": [
       "<pre>Read 6532878 lines. Lines per second: 323685</pre>"
      ],
      "text/plain": [
       "Read 6532878 lines. Lines per second: 323685"
      ]
     },
     "metadata": {},
     "output_type": "display_data"
    },
    {
     "data": {
      "text/html": [
       "<pre>Read 8492739 lines. Lines per second: 316863</pre>"
      ],
      "text/plain": [
       "Read 8492739 lines. Lines per second: 316863"
      ]
     },
     "metadata": {},
     "output_type": "display_data"
    },
    {
     "data": {
      "text/html": [
       "<pre>Read 10452580 lines. Lines per second: 321011</pre>"
      ],
      "text/plain": [
       "Read 10452580 lines. Lines per second: 321011"
      ]
     },
     "metadata": {},
     "output_type": "display_data"
    },
    {
     "data": {
      "text/html": [
       "<pre>Read 12412418 lines. Lines per second: 326612</pre>"
      ],
      "text/plain": [
       "Read 12412418 lines. Lines per second: 326612"
      ]
     },
     "metadata": {},
     "output_type": "display_data"
    },
    {
     "data": {
      "text/html": [
       "<pre>Read 14372267 lines. Lines per second: 330716</pre>"
      ],
      "text/plain": [
       "Read 14372267 lines. Lines per second: 330716"
      ]
     },
     "metadata": {},
     "output_type": "display_data"
    },
    {
     "data": {
      "text/html": [
       "<pre>Read 16332103 lines. Lines per second: 336167</pre>"
      ],
      "text/plain": [
       "Read 16332103 lines. Lines per second: 336167"
      ]
     },
     "metadata": {},
     "output_type": "display_data"
    },
    {
     "data": {
      "text/html": [
       "<pre>Read 18291951 lines. Lines per second: 338874</pre>"
      ],
      "text/plain": [
       "Read 18291951 lines. Lines per second: 338874"
      ]
     },
     "metadata": {},
     "output_type": "display_data"
    },
    {
     "data": {
      "text/html": [
       "<pre>Read 20251799 lines. Lines per second: 340039</pre>"
      ],
      "text/plain": [
       "Read 20251799 lines. Lines per second: 340039"
      ]
     },
     "metadata": {},
     "output_type": "display_data"
    },
    {
     "data": {
      "text/html": [
       "<pre>Finished parsing file /Volumes/LEON/MDS _UDD/kkbox-churn-prediction-challenge/transactions.csv</pre>"
      ],
      "text/plain": [
       "Finished parsing file /Volumes/LEON/MDS _UDD/kkbox-churn-prediction-challenge/transactions.csv"
      ]
     },
     "metadata": {},
     "output_type": "display_data"
    },
    {
     "data": {
      "text/html": [
       "<pre>Parsing completed. Parsed 21547746 lines in 61.9923 secs.</pre>"
      ],
      "text/plain": [
       "Parsing completed. Parsed 21547746 lines in 61.9923 secs."
      ]
     },
     "metadata": {},
     "output_type": "display_data"
    }
   ],
   "source": [
    "transactions = gl.SFrame.read_csv(DIR + 'transactions.csv')"
   ]
  },
  {
   "cell_type": "code",
   "execution_count": 14,
   "metadata": {
    "collapsed": false
   },
   "outputs": [
    {
     "data": {
      "text/plain": [
       "<bound method SFrame.dtype of Columns:\n",
       "\tmsno\tstr\n",
       "\tpayment_method_id\tint\n",
       "\tpayment_plan_days\tint\n",
       "\tplan_list_price\tint\n",
       "\tactual_amount_paid\tint\n",
       "\tis_auto_renew\tint\n",
       "\ttransaction_date\tint\n",
       "\tmembership_expire_date\tint\n",
       "\tis_cancel\tint\n",
       "\n",
       "Rows: 21547746\n",
       "\n",
       "Data:\n",
       "+-------------------------------+-------------------+-------------------+-----------------+\n",
       "|              msno             | payment_method_id | payment_plan_days | plan_list_price |\n",
       "+-------------------------------+-------------------+-------------------+-----------------+\n",
       "| YyO+tlZtAXYXoZhNr3Vg3+dfVQ... |         41        |         30        |       129       |\n",
       "| AZtu6Wl0gPojrEQYB8Q3vBSmE2... |         41        |         30        |       149       |\n",
       "| UkDFI97Qb6+s2LWcijVVv4rMAs... |         41        |         30        |       129       |\n",
       "| M1C56ijxozNaGD0t2h68PnH2xt... |         39        |         30        |       149       |\n",
       "| yvj6zyBUaqdbUQSrKsrZ+xNDVM... |         39        |         30        |       149       |\n",
       "| KN7I82kjY0Tn76Ny95ncqBUVbO... |         21        |         30        |       149       |\n",
       "| m5ptKif9BjdUghHXXomSezy5oh... |         39        |         30        |       149       |\n",
       "| uQxbyACsPOEkTIrv9jZgoGXelG... |         39        |         30        |       149       |\n",
       "| LUPRfoE2r3WwVWhYO/TqQhjrL/... |         39        |         30        |       149       |\n",
       "| pMVjPLgVknaJYm9L0xUwxA2jmh... |         39        |         30        |       149       |\n",
       "+-------------------------------+-------------------+-------------------+-----------------+\n",
       "+--------------------+---------------+------------------+------------------------+\n",
       "| actual_amount_paid | is_auto_renew | transaction_date | membership_expire_date |\n",
       "+--------------------+---------------+------------------+------------------------+\n",
       "|        129         |       1       |     20150930     |        20151101        |\n",
       "|        149         |       1       |     20150930     |        20151031        |\n",
       "|        129         |       1       |     20150930     |        20160427        |\n",
       "|        149         |       1       |     20150930     |        20151128        |\n",
       "|        149         |       1       |     20150930     |        20151121        |\n",
       "|        149         |       1       |     20150930     |        20151107        |\n",
       "|        149         |       1       |     20150930     |        20151128        |\n",
       "|        149         |       1       |     20150930     |        20151125        |\n",
       "|        149         |       1       |     20150930     |        20151222        |\n",
       "|        149         |       1       |     20150930     |        20151118        |\n",
       "+--------------------+---------------+------------------+------------------------+\n",
       "+-----------+\n",
       "| is_cancel |\n",
       "+-----------+\n",
       "|     0     |\n",
       "|     0     |\n",
       "|     0     |\n",
       "|     0     |\n",
       "|     0     |\n",
       "|     0     |\n",
       "|     0     |\n",
       "|     0     |\n",
       "|     0     |\n",
       "|     0     |\n",
       "+-----------+\n",
       "[21547746 rows x 9 columns]\n",
       "Note: Only the head of the SFrame is printed.\n",
       "You can use print_rows(num_rows=m, num_columns=n) to print more rows and columns.>"
      ]
     },
     "execution_count": 14,
     "metadata": {},
     "output_type": "execute_result"
    }
   ],
   "source": [
    "transactions.dtype"
   ]
  },
  {
   "cell_type": "code",
   "execution_count": 15,
   "metadata": {
    "collapsed": true
   },
   "outputs": [],
   "source": [
    "transactions.save(DIR + 'transactions_sframe')"
   ]
  },
  {
   "cell_type": "code",
   "execution_count": 16,
   "metadata": {
    "collapsed": false
   },
   "outputs": [
    {
     "data": {
      "text/html": [
       "<pre>Finished parsing file /Volumes/LEON/MDS _UDD/kkbox-churn-prediction-challenge/data/churn_comp_refresh/transactions_v2.csv</pre>"
      ],
      "text/plain": [
       "Finished parsing file /Volumes/LEON/MDS _UDD/kkbox-churn-prediction-challenge/data/churn_comp_refresh/transactions_v2.csv"
      ]
     },
     "metadata": {},
     "output_type": "display_data"
    },
    {
     "data": {
      "text/html": [
       "<pre>Parsing completed. Parsed 100 lines in 2.32638 secs.</pre>"
      ],
      "text/plain": [
       "Parsing completed. Parsed 100 lines in 2.32638 secs."
      ]
     },
     "metadata": {},
     "output_type": "display_data"
    },
    {
     "name": "stdout",
     "output_type": "stream",
     "text": [
      "------------------------------------------------------\n",
      "Inferred types from first 100 line(s) of file as \n",
      "column_type_hints=[str,int,int,int,int,int,int,int,int]\n",
      "If parsing fails due to incorrect types, you can correct\n",
      "the inferred type list above and pass it to read_csv in\n",
      "the column_type_hints argument\n",
      "------------------------------------------------------\n"
     ]
    },
    {
     "data": {
      "text/html": [
       "<pre>Read 650166 lines. Lines per second: 272710</pre>"
      ],
      "text/plain": [
       "Read 650166 lines. Lines per second: 272710"
      ]
     },
     "metadata": {},
     "output_type": "display_data"
    },
    {
     "data": {
      "text/html": [
       "<pre>Finished parsing file /Volumes/LEON/MDS _UDD/kkbox-churn-prediction-challenge/data/churn_comp_refresh/transactions_v2.csv</pre>"
      ],
      "text/plain": [
       "Finished parsing file /Volumes/LEON/MDS _UDD/kkbox-churn-prediction-challenge/data/churn_comp_refresh/transactions_v2.csv"
      ]
     },
     "metadata": {},
     "output_type": "display_data"
    },
    {
     "data": {
      "text/html": [
       "<pre>Parsing completed. Parsed 1431009 lines in 3.08263 secs.</pre>"
      ],
      "text/plain": [
       "Parsing completed. Parsed 1431009 lines in 3.08263 secs."
      ]
     },
     "metadata": {},
     "output_type": "display_data"
    }
   ],
   "source": [
    "transactions_v2 = gl.SFrame.read_csv(DIR + UPDATE + 'transactions_v2.csv')"
   ]
  },
  {
   "cell_type": "code",
   "execution_count": 17,
   "metadata": {
    "collapsed": false
   },
   "outputs": [
    {
     "data": {
      "text/plain": [
       "<bound method SFrame.dtype of Columns:\n",
       "\tmsno\tstr\n",
       "\tpayment_method_id\tint\n",
       "\tpayment_plan_days\tint\n",
       "\tplan_list_price\tint\n",
       "\tactual_amount_paid\tint\n",
       "\tis_auto_renew\tint\n",
       "\ttransaction_date\tint\n",
       "\tmembership_expire_date\tint\n",
       "\tis_cancel\tint\n",
       "\n",
       "Rows: 1431009\n",
       "\n",
       "Data:\n",
       "+-------------------------------+-------------------+-------------------+-----------------+\n",
       "|              msno             | payment_method_id | payment_plan_days | plan_list_price |\n",
       "+-------------------------------+-------------------+-------------------+-----------------+\n",
       "| ++6eU4LsQ3UQ20ILS7d99XK8Wb... |         32        |         90        |       298       |\n",
       "| ++lvGPJOinuin/8esghpnqdljm... |         41        |         30        |       149       |\n",
       "| +/GXNtXWQVfKrEDqYAzcSw2xSP... |         36        |         30        |       180       |\n",
       "| +/w1UrZwyka4C9oNH3+Q8fUf3f... |         36        |         30        |       180       |\n",
       "| +00PGzKTYqtnb65mPKPyeHXcZE... |         41        |         30        |        99       |\n",
       "| +0KcMm8JNCW08lTp3Lyz5Ger/4... |         41        |         30        |       149       |\n",
       "| +0MeUJe1cGb4O97gJoTPUPjiON... |         41        |         30        |        99       |\n",
       "| +0W3Q9FSw8TLgoNke9JFl6dUeo... |         41        |         30        |        99       |\n",
       "| +0aofSeKQ/F2bhtAGW/zrdrw+l... |         41        |         30        |        99       |\n",
       "| +0c0aay0C6GHocNyfqE+46Ih4d... |         41        |         30        |       149       |\n",
       "+-------------------------------+-------------------+-------------------+-----------------+\n",
       "+--------------------+---------------+------------------+------------------------+\n",
       "| actual_amount_paid | is_auto_renew | transaction_date | membership_expire_date |\n",
       "+--------------------+---------------+------------------+------------------------+\n",
       "|        298         |       0       |     20170131     |        20170504        |\n",
       "|        149         |       1       |     20150809     |        20190412        |\n",
       "|        180         |       1       |     20170303     |        20170422        |\n",
       "|        180         |       1       |     20170329     |        20170331        |\n",
       "|         99         |       1       |     20170323     |        20170423        |\n",
       "|        149         |       1       |     20151112     |        20180613        |\n",
       "|         99         |       1       |     20170313     |        20170413        |\n",
       "|         99         |       1       |     20170318     |        20170418        |\n",
       "|         99         |       1       |     20170316     |        20170416        |\n",
       "|        149         |       1       |     20170307     |        20170407        |\n",
       "+--------------------+---------------+------------------+------------------------+\n",
       "+-----------+\n",
       "| is_cancel |\n",
       "+-----------+\n",
       "|     0     |\n",
       "|     0     |\n",
       "|     0     |\n",
       "|     1     |\n",
       "|     0     |\n",
       "|     0     |\n",
       "|     0     |\n",
       "|     0     |\n",
       "|     0     |\n",
       "|     0     |\n",
       "+-----------+\n",
       "[1431009 rows x 9 columns]\n",
       "Note: Only the head of the SFrame is printed.\n",
       "You can use print_rows(num_rows=m, num_columns=n) to print more rows and columns.>"
      ]
     },
     "execution_count": 17,
     "metadata": {},
     "output_type": "execute_result"
    }
   ],
   "source": [
    "transactions_v2.dtype"
   ]
  },
  {
   "cell_type": "code",
   "execution_count": 18,
   "metadata": {
    "collapsed": true
   },
   "outputs": [],
   "source": [
    "transactions_v2.save(DIR + 'transactions_v2_sframe')"
   ]
  },
  {
   "cell_type": "markdown",
   "metadata": {},
   "source": [
    "#### 4. Dataset - User_logs:"
   ]
  },
  {
   "cell_type": "code",
   "execution_count": 19,
   "metadata": {
    "collapsed": false
   },
   "outputs": [
    {
     "data": {
      "text/html": [
       "<pre>Finished parsing file /Volumes/LEON/MDS _UDD/kkbox-churn-prediction-challenge/user_logs.csv</pre>"
      ],
      "text/plain": [
       "Finished parsing file /Volumes/LEON/MDS _UDD/kkbox-churn-prediction-challenge/user_logs.csv"
      ]
     },
     "metadata": {},
     "output_type": "display_data"
    },
    {
     "data": {
      "text/html": [
       "<pre>Parsing completed. Parsed 100 lines in 2.66757 secs.</pre>"
      ],
      "text/plain": [
       "Parsing completed. Parsed 100 lines in 2.66757 secs."
      ]
     },
     "metadata": {},
     "output_type": "display_data"
    },
    {
     "name": "stdout",
     "output_type": "stream",
     "text": [
      "------------------------------------------------------\n",
      "Inferred types from first 100 line(s) of file as \n",
      "column_type_hints=[str,int,int,int,int,int,int,int,float]\n",
      "If parsing fails due to incorrect types, you can correct\n",
      "the inferred type list above and pass it to read_csv in\n",
      "the column_type_hints argument\n",
      "------------------------------------------------------\n"
     ]
    },
    {
     "data": {
      "text/html": [
       "<pre>Read 673718 lines. Lines per second: 219684</pre>"
      ],
      "text/plain": [
       "Read 673718 lines. Lines per second: 219684"
      ]
     },
     "metadata": {},
     "output_type": "display_data"
    },
    {
     "data": {
      "text/html": [
       "<pre>Read 2694848 lines. Lines per second: 309307</pre>"
      ],
      "text/plain": [
       "Read 2694848 lines. Lines per second: 309307"
      ]
     },
     "metadata": {},
     "output_type": "display_data"
    },
    {
     "data": {
      "text/html": [
       "<pre>Read 4715951 lines. Lines per second: 326478</pre>"
      ],
      "text/plain": [
       "Read 4715951 lines. Lines per second: 326478"
      ]
     },
     "metadata": {},
     "output_type": "display_data"
    },
    {
     "data": {
      "text/html": [
       "<pre>Read 6737075 lines. Lines per second: 334384</pre>"
      ],
      "text/plain": [
       "Read 6737075 lines. Lines per second: 334384"
      ]
     },
     "metadata": {},
     "output_type": "display_data"
    },
    {
     "data": {
      "text/html": [
       "<pre>Read 8758264 lines. Lines per second: 342752</pre>"
      ],
      "text/plain": [
       "Read 8758264 lines. Lines per second: 342752"
      ]
     },
     "metadata": {},
     "output_type": "display_data"
    },
    {
     "data": {
      "text/html": [
       "<pre>Read 10779364 lines. Lines per second: 347773</pre>"
      ],
      "text/plain": [
       "Read 10779364 lines. Lines per second: 347773"
      ]
     },
     "metadata": {},
     "output_type": "display_data"
    },
    {
     "data": {
      "text/html": [
       "<pre>Read 12800543 lines. Lines per second: 347298</pre>"
      ],
      "text/plain": [
       "Read 12800543 lines. Lines per second: 347298"
      ]
     },
     "metadata": {},
     "output_type": "display_data"
    },
    {
     "data": {
      "text/html": [
       "<pre>Read 14821687 lines. Lines per second: 349749</pre>"
      ],
      "text/plain": [
       "Read 14821687 lines. Lines per second: 349749"
      ]
     },
     "metadata": {},
     "output_type": "display_data"
    },
    {
     "data": {
      "text/html": [
       "<pre>Read 16842790 lines. Lines per second: 352145</pre>"
      ],
      "text/plain": [
       "Read 16842790 lines. Lines per second: 352145"
      ]
     },
     "metadata": {},
     "output_type": "display_data"
    },
    {
     "data": {
      "text/html": [
       "<pre>Read 18863983 lines. Lines per second: 354037</pre>"
      ],
      "text/plain": [
       "Read 18863983 lines. Lines per second: 354037"
      ]
     },
     "metadata": {},
     "output_type": "display_data"
    },
    {
     "data": {
      "text/html": [
       "<pre>Read 20885110 lines. Lines per second: 355373</pre>"
      ],
      "text/plain": [
       "Read 20885110 lines. Lines per second: 355373"
      ]
     },
     "metadata": {},
     "output_type": "display_data"
    },
    {
     "data": {
      "text/html": [
       "<pre>Read 22906275 lines. Lines per second: 356930</pre>"
      ],
      "text/plain": [
       "Read 22906275 lines. Lines per second: 356930"
      ]
     },
     "metadata": {},
     "output_type": "display_data"
    },
    {
     "data": {
      "text/html": [
       "<pre>Read 24927404 lines. Lines per second: 358161</pre>"
      ],
      "text/plain": [
       "Read 24927404 lines. Lines per second: 358161"
      ]
     },
     "metadata": {},
     "output_type": "display_data"
    },
    {
     "data": {
      "text/html": [
       "<pre>Read 26948593 lines. Lines per second: 357093</pre>"
      ],
      "text/plain": [
       "Read 26948593 lines. Lines per second: 357093"
      ]
     },
     "metadata": {},
     "output_type": "display_data"
    },
    {
     "data": {
      "text/html": [
       "<pre>Read 28969712 lines. Lines per second: 357586</pre>"
      ],
      "text/plain": [
       "Read 28969712 lines. Lines per second: 357586"
      ]
     },
     "metadata": {},
     "output_type": "display_data"
    },
    {
     "data": {
      "text/html": [
       "<pre>Read 30990810 lines. Lines per second: 357387</pre>"
      ],
      "text/plain": [
       "Read 30990810 lines. Lines per second: 357387"
      ]
     },
     "metadata": {},
     "output_type": "display_data"
    },
    {
     "data": {
      "text/html": [
       "<pre>Read 33012026 lines. Lines per second: 357694</pre>"
      ],
      "text/plain": [
       "Read 33012026 lines. Lines per second: 357694"
      ]
     },
     "metadata": {},
     "output_type": "display_data"
    },
    {
     "data": {
      "text/html": [
       "<pre>Read 35033189 lines. Lines per second: 358406</pre>"
      ],
      "text/plain": [
       "Read 35033189 lines. Lines per second: 358406"
      ]
     },
     "metadata": {},
     "output_type": "display_data"
    },
    {
     "data": {
      "text/html": [
       "<pre>Read 37054345 lines. Lines per second: 354403</pre>"
      ],
      "text/plain": [
       "Read 37054345 lines. Lines per second: 354403"
      ]
     },
     "metadata": {},
     "output_type": "display_data"
    },
    {
     "data": {
      "text/html": [
       "<pre>Read 39075407 lines. Lines per second: 354042</pre>"
      ],
      "text/plain": [
       "Read 39075407 lines. Lines per second: 354042"
      ]
     },
     "metadata": {},
     "output_type": "display_data"
    },
    {
     "data": {
      "text/html": [
       "<pre>Read 41096548 lines. Lines per second: 354363</pre>"
      ],
      "text/plain": [
       "Read 41096548 lines. Lines per second: 354363"
      ]
     },
     "metadata": {},
     "output_type": "display_data"
    },
    {
     "data": {
      "text/html": [
       "<pre>Read 43117716 lines. Lines per second: 354834</pre>"
      ],
      "text/plain": [
       "Read 43117716 lines. Lines per second: 354834"
      ]
     },
     "metadata": {},
     "output_type": "display_data"
    },
    {
     "data": {
      "text/html": [
       "<pre>Read 45138831 lines. Lines per second: 355188</pre>"
      ],
      "text/plain": [
       "Read 45138831 lines. Lines per second: 355188"
      ]
     },
     "metadata": {},
     "output_type": "display_data"
    },
    {
     "data": {
      "text/html": [
       "<pre>Read 47159905 lines. Lines per second: 355824</pre>"
      ],
      "text/plain": [
       "Read 47159905 lines. Lines per second: 355824"
      ]
     },
     "metadata": {},
     "output_type": "display_data"
    },
    {
     "data": {
      "text/html": [
       "<pre>Read 49181053 lines. Lines per second: 356460</pre>"
      ],
      "text/plain": [
       "Read 49181053 lines. Lines per second: 356460"
      ]
     },
     "metadata": {},
     "output_type": "display_data"
    },
    {
     "data": {
      "text/html": [
       "<pre>Read 51202163 lines. Lines per second: 356777</pre>"
      ],
      "text/plain": [
       "Read 51202163 lines. Lines per second: 356777"
      ]
     },
     "metadata": {},
     "output_type": "display_data"
    },
    {
     "data": {
      "text/html": [
       "<pre>Read 53223320 lines. Lines per second: 356046</pre>"
      ],
      "text/plain": [
       "Read 53223320 lines. Lines per second: 356046"
      ]
     },
     "metadata": {},
     "output_type": "display_data"
    },
    {
     "data": {
      "text/html": [
       "<pre>Read 55244513 lines. Lines per second: 355990</pre>"
      ],
      "text/plain": [
       "Read 55244513 lines. Lines per second: 355990"
      ]
     },
     "metadata": {},
     "output_type": "display_data"
    },
    {
     "data": {
      "text/html": [
       "<pre>Read 57265679 lines. Lines per second: 355560</pre>"
      ],
      "text/plain": [
       "Read 57265679 lines. Lines per second: 355560"
      ]
     },
     "metadata": {},
     "output_type": "display_data"
    },
    {
     "data": {
      "text/html": [
       "<pre>Read 59286795 lines. Lines per second: 355382</pre>"
      ],
      "text/plain": [
       "Read 59286795 lines. Lines per second: 355382"
      ]
     },
     "metadata": {},
     "output_type": "display_data"
    },
    {
     "data": {
      "text/html": [
       "<pre>Read 61307985 lines. Lines per second: 355489</pre>"
      ],
      "text/plain": [
       "Read 61307985 lines. Lines per second: 355489"
      ]
     },
     "metadata": {},
     "output_type": "display_data"
    },
    {
     "data": {
      "text/html": [
       "<pre>Read 63329196 lines. Lines per second: 355942</pre>"
      ],
      "text/plain": [
       "Read 63329196 lines. Lines per second: 355942"
      ]
     },
     "metadata": {},
     "output_type": "display_data"
    },
    {
     "data": {
      "text/html": [
       "<pre>Read 65350374 lines. Lines per second: 356306</pre>"
      ],
      "text/plain": [
       "Read 65350374 lines. Lines per second: 356306"
      ]
     },
     "metadata": {},
     "output_type": "display_data"
    },
    {
     "data": {
      "text/html": [
       "<pre>Read 67371596 lines. Lines per second: 356182</pre>"
      ],
      "text/plain": [
       "Read 67371596 lines. Lines per second: 356182"
      ]
     },
     "metadata": {},
     "output_type": "display_data"
    },
    {
     "data": {
      "text/html": [
       "<pre>Read 69392641 lines. Lines per second: 356240</pre>"
      ],
      "text/plain": [
       "Read 69392641 lines. Lines per second: 356240"
      ]
     },
     "metadata": {},
     "output_type": "display_data"
    },
    {
     "data": {
      "text/html": [
       "<pre>Read 71413749 lines. Lines per second: 356655</pre>"
      ],
      "text/plain": [
       "Read 71413749 lines. Lines per second: 356655"
      ]
     },
     "metadata": {},
     "output_type": "display_data"
    },
    {
     "data": {
      "text/html": [
       "<pre>Read 73434938 lines. Lines per second: 356728</pre>"
      ],
      "text/plain": [
       "Read 73434938 lines. Lines per second: 356728"
      ]
     },
     "metadata": {},
     "output_type": "display_data"
    },
    {
     "data": {
      "text/html": [
       "<pre>Read 75456042 lines. Lines per second: 355971</pre>"
      ],
      "text/plain": [
       "Read 75456042 lines. Lines per second: 355971"
      ]
     },
     "metadata": {},
     "output_type": "display_data"
    },
    {
     "data": {
      "text/html": [
       "<pre>Read 77477140 lines. Lines per second: 355853</pre>"
      ],
      "text/plain": [
       "Read 77477140 lines. Lines per second: 355853"
      ]
     },
     "metadata": {},
     "output_type": "display_data"
    },
    {
     "data": {
      "text/html": [
       "<pre>Read 79498285 lines. Lines per second: 355935</pre>"
      ],
      "text/plain": [
       "Read 79498285 lines. Lines per second: 355935"
      ]
     },
     "metadata": {},
     "output_type": "display_data"
    },
    {
     "data": {
      "text/html": [
       "<pre>Read 81519457 lines. Lines per second: 355558</pre>"
      ],
      "text/plain": [
       "Read 81519457 lines. Lines per second: 355558"
      ]
     },
     "metadata": {},
     "output_type": "display_data"
    },
    {
     "data": {
      "text/html": [
       "<pre>Read 83540620 lines. Lines per second: 355519</pre>"
      ],
      "text/plain": [
       "Read 83540620 lines. Lines per second: 355519"
      ]
     },
     "metadata": {},
     "output_type": "display_data"
    },
    {
     "data": {
      "text/html": [
       "<pre>Read 85561738 lines. Lines per second: 355490</pre>"
      ],
      "text/plain": [
       "Read 85561738 lines. Lines per second: 355490"
      ]
     },
     "metadata": {},
     "output_type": "display_data"
    },
    {
     "data": {
      "text/html": [
       "<pre>Read 87582839 lines. Lines per second: 355340</pre>"
      ],
      "text/plain": [
       "Read 87582839 lines. Lines per second: 355340"
      ]
     },
     "metadata": {},
     "output_type": "display_data"
    },
    {
     "data": {
      "text/html": [
       "<pre>Read 89604032 lines. Lines per second: 355324</pre>"
      ],
      "text/plain": [
       "Read 89604032 lines. Lines per second: 355324"
      ]
     },
     "metadata": {},
     "output_type": "display_data"
    },
    {
     "data": {
      "text/html": [
       "<pre>Read 91625114 lines. Lines per second: 355640</pre>"
      ],
      "text/plain": [
       "Read 91625114 lines. Lines per second: 355640"
      ]
     },
     "metadata": {},
     "output_type": "display_data"
    },
    {
     "data": {
      "text/html": [
       "<pre>Read 93646178 lines. Lines per second: 355897</pre>"
      ],
      "text/plain": [
       "Read 93646178 lines. Lines per second: 355897"
      ]
     },
     "metadata": {},
     "output_type": "display_data"
    },
    {
     "data": {
      "text/html": [
       "<pre>Read 95667327 lines. Lines per second: 356234</pre>"
      ],
      "text/plain": [
       "Read 95667327 lines. Lines per second: 356234"
      ]
     },
     "metadata": {},
     "output_type": "display_data"
    },
    {
     "data": {
      "text/html": [
       "<pre>Read 97688489 lines. Lines per second: 356487</pre>"
      ],
      "text/plain": [
       "Read 97688489 lines. Lines per second: 356487"
      ]
     },
     "metadata": {},
     "output_type": "display_data"
    },
    {
     "data": {
      "text/html": [
       "<pre>Read 99709547 lines. Lines per second: 356725</pre>"
      ],
      "text/plain": [
       "Read 99709547 lines. Lines per second: 356725"
      ]
     },
     "metadata": {},
     "output_type": "display_data"
    },
    {
     "data": {
      "text/html": [
       "<pre>Read 101730711 lines. Lines per second: 356935</pre>"
      ],
      "text/plain": [
       "Read 101730711 lines. Lines per second: 356935"
      ]
     },
     "metadata": {},
     "output_type": "display_data"
    },
    {
     "data": {
      "text/html": [
       "<pre>Read 103751796 lines. Lines per second: 356848</pre>"
      ],
      "text/plain": [
       "Read 103751796 lines. Lines per second: 356848"
      ]
     },
     "metadata": {},
     "output_type": "display_data"
    },
    {
     "data": {
      "text/html": [
       "<pre>Read 105772864 lines. Lines per second: 356798</pre>"
      ],
      "text/plain": [
       "Read 105772864 lines. Lines per second: 356798"
      ]
     },
     "metadata": {},
     "output_type": "display_data"
    },
    {
     "data": {
      "text/html": [
       "<pre>Read 107794068 lines. Lines per second: 356750</pre>"
      ],
      "text/plain": [
       "Read 107794068 lines. Lines per second: 356750"
      ]
     },
     "metadata": {},
     "output_type": "display_data"
    },
    {
     "data": {
      "text/html": [
       "<pre>Read 109815224 lines. Lines per second: 356735</pre>"
      ],
      "text/plain": [
       "Read 109815224 lines. Lines per second: 356735"
      ]
     },
     "metadata": {},
     "output_type": "display_data"
    },
    {
     "data": {
      "text/html": [
       "<pre>Read 111836337 lines. Lines per second: 356826</pre>"
      ],
      "text/plain": [
       "Read 111836337 lines. Lines per second: 356826"
      ]
     },
     "metadata": {},
     "output_type": "display_data"
    },
    {
     "data": {
      "text/html": [
       "<pre>Read 113857444 lines. Lines per second: 357016</pre>"
      ],
      "text/plain": [
       "Read 113857444 lines. Lines per second: 357016"
      ]
     },
     "metadata": {},
     "output_type": "display_data"
    },
    {
     "data": {
      "text/html": [
       "<pre>Read 115878580 lines. Lines per second: 356791</pre>"
      ],
      "text/plain": [
       "Read 115878580 lines. Lines per second: 356791"
      ]
     },
     "metadata": {},
     "output_type": "display_data"
    },
    {
     "data": {
      "text/html": [
       "<pre>Read 117899676 lines. Lines per second: 356826</pre>"
      ],
      "text/plain": [
       "Read 117899676 lines. Lines per second: 356826"
      ]
     },
     "metadata": {},
     "output_type": "display_data"
    },
    {
     "data": {
      "text/html": [
       "<pre>Read 119920852 lines. Lines per second: 356592</pre>"
      ],
      "text/plain": [
       "Read 119920852 lines. Lines per second: 356592"
      ]
     },
     "metadata": {},
     "output_type": "display_data"
    },
    {
     "data": {
      "text/html": [
       "<pre>Read 121941984 lines. Lines per second: 356181</pre>"
      ],
      "text/plain": [
       "Read 121941984 lines. Lines per second: 356181"
      ]
     },
     "metadata": {},
     "output_type": "display_data"
    },
    {
     "data": {
      "text/html": [
       "<pre>Read 123963039 lines. Lines per second: 355552</pre>"
      ],
      "text/plain": [
       "Read 123963039 lines. Lines per second: 355552"
      ]
     },
     "metadata": {},
     "output_type": "display_data"
    },
    {
     "data": {
      "text/html": [
       "<pre>Read 125984091 lines. Lines per second: 355174</pre>"
      ],
      "text/plain": [
       "Read 125984091 lines. Lines per second: 355174"
      ]
     },
     "metadata": {},
     "output_type": "display_data"
    },
    {
     "data": {
      "text/html": [
       "<pre>Read 128005181 lines. Lines per second: 354614</pre>"
      ],
      "text/plain": [
       "Read 128005181 lines. Lines per second: 354614"
      ]
     },
     "metadata": {},
     "output_type": "display_data"
    },
    {
     "data": {
      "text/html": [
       "<pre>Read 130026403 lines. Lines per second: 354804</pre>"
      ],
      "text/plain": [
       "Read 130026403 lines. Lines per second: 354804"
      ]
     },
     "metadata": {},
     "output_type": "display_data"
    },
    {
     "data": {
      "text/html": [
       "<pre>Read 132047539 lines. Lines per second: 355022</pre>"
      ],
      "text/plain": [
       "Read 132047539 lines. Lines per second: 355022"
      ]
     },
     "metadata": {},
     "output_type": "display_data"
    },
    {
     "data": {
      "text/html": [
       "<pre>Read 134068657 lines. Lines per second: 354997</pre>"
      ],
      "text/plain": [
       "Read 134068657 lines. Lines per second: 354997"
      ]
     },
     "metadata": {},
     "output_type": "display_data"
    },
    {
     "data": {
      "text/html": [
       "<pre>Read 136089738 lines. Lines per second: 354772</pre>"
      ],
      "text/plain": [
       "Read 136089738 lines. Lines per second: 354772"
      ]
     },
     "metadata": {},
     "output_type": "display_data"
    },
    {
     "data": {
      "text/html": [
       "<pre>Read 138110844 lines. Lines per second: 354794</pre>"
      ],
      "text/plain": [
       "Read 138110844 lines. Lines per second: 354794"
      ]
     },
     "metadata": {},
     "output_type": "display_data"
    },
    {
     "data": {
      "text/html": [
       "<pre>Read 140131978 lines. Lines per second: 354905</pre>"
      ],
      "text/plain": [
       "Read 140131978 lines. Lines per second: 354905"
      ]
     },
     "metadata": {},
     "output_type": "display_data"
    },
    {
     "data": {
      "text/html": [
       "<pre>Read 142153130 lines. Lines per second: 355115</pre>"
      ],
      "text/plain": [
       "Read 142153130 lines. Lines per second: 355115"
      ]
     },
     "metadata": {},
     "output_type": "display_data"
    },
    {
     "data": {
      "text/html": [
       "<pre>Read 144174196 lines. Lines per second: 354936</pre>"
      ],
      "text/plain": [
       "Read 144174196 lines. Lines per second: 354936"
      ]
     },
     "metadata": {},
     "output_type": "display_data"
    },
    {
     "data": {
      "text/html": [
       "<pre>Read 146195382 lines. Lines per second: 354911</pre>"
      ],
      "text/plain": [
       "Read 146195382 lines. Lines per second: 354911"
      ]
     },
     "metadata": {},
     "output_type": "display_data"
    },
    {
     "data": {
      "text/html": [
       "<pre>Read 148216563 lines. Lines per second: 355116</pre>"
      ],
      "text/plain": [
       "Read 148216563 lines. Lines per second: 355116"
      ]
     },
     "metadata": {},
     "output_type": "display_data"
    },
    {
     "data": {
      "text/html": [
       "<pre>Read 150237683 lines. Lines per second: 355103</pre>"
      ],
      "text/plain": [
       "Read 150237683 lines. Lines per second: 355103"
      ]
     },
     "metadata": {},
     "output_type": "display_data"
    },
    {
     "data": {
      "text/html": [
       "<pre>Read 152258870 lines. Lines per second: 355287</pre>"
      ],
      "text/plain": [
       "Read 152258870 lines. Lines per second: 355287"
      ]
     },
     "metadata": {},
     "output_type": "display_data"
    },
    {
     "data": {
      "text/html": [
       "<pre>Read 154279921 lines. Lines per second: 355474</pre>"
      ],
      "text/plain": [
       "Read 154279921 lines. Lines per second: 355474"
      ]
     },
     "metadata": {},
     "output_type": "display_data"
    },
    {
     "data": {
      "text/html": [
       "<pre>Read 156301100 lines. Lines per second: 355484</pre>"
      ],
      "text/plain": [
       "Read 156301100 lines. Lines per second: 355484"
      ]
     },
     "metadata": {},
     "output_type": "display_data"
    },
    {
     "data": {
      "text/html": [
       "<pre>Read 158322160 lines. Lines per second: 355540</pre>"
      ],
      "text/plain": [
       "Read 158322160 lines. Lines per second: 355540"
      ]
     },
     "metadata": {},
     "output_type": "display_data"
    },
    {
     "data": {
      "text/html": [
       "<pre>Read 160343318 lines. Lines per second: 355418</pre>"
      ],
      "text/plain": [
       "Read 160343318 lines. Lines per second: 355418"
      ]
     },
     "metadata": {},
     "output_type": "display_data"
    },
    {
     "data": {
      "text/html": [
       "<pre>Read 162364478 lines. Lines per second: 355443</pre>"
      ],
      "text/plain": [
       "Read 162364478 lines. Lines per second: 355443"
      ]
     },
     "metadata": {},
     "output_type": "display_data"
    },
    {
     "data": {
      "text/html": [
       "<pre>Read 164385669 lines. Lines per second: 355211</pre>"
      ],
      "text/plain": [
       "Read 164385669 lines. Lines per second: 355211"
      ]
     },
     "metadata": {},
     "output_type": "display_data"
    },
    {
     "data": {
      "text/html": [
       "<pre>Read 166406873 lines. Lines per second: 355121</pre>"
      ],
      "text/plain": [
       "Read 166406873 lines. Lines per second: 355121"
      ]
     },
     "metadata": {},
     "output_type": "display_data"
    },
    {
     "data": {
      "text/html": [
       "<pre>Read 168427984 lines. Lines per second: 355073</pre>"
      ],
      "text/plain": [
       "Read 168427984 lines. Lines per second: 355073"
      ]
     },
     "metadata": {},
     "output_type": "display_data"
    },
    {
     "data": {
      "text/html": [
       "<pre>Read 170449013 lines. Lines per second: 355107</pre>"
      ],
      "text/plain": [
       "Read 170449013 lines. Lines per second: 355107"
      ]
     },
     "metadata": {},
     "output_type": "display_data"
    },
    {
     "data": {
      "text/html": [
       "<pre>Read 172470218 lines. Lines per second: 355093</pre>"
      ],
      "text/plain": [
       "Read 172470218 lines. Lines per second: 355093"
      ]
     },
     "metadata": {},
     "output_type": "display_data"
    },
    {
     "data": {
      "text/html": [
       "<pre>Read 174491387 lines. Lines per second: 355097</pre>"
      ],
      "text/plain": [
       "Read 174491387 lines. Lines per second: 355097"
      ]
     },
     "metadata": {},
     "output_type": "display_data"
    },
    {
     "data": {
      "text/html": [
       "<pre>Read 176512457 lines. Lines per second: 355000</pre>"
      ],
      "text/plain": [
       "Read 176512457 lines. Lines per second: 355000"
      ]
     },
     "metadata": {},
     "output_type": "display_data"
    },
    {
     "data": {
      "text/html": [
       "<pre>Read 178533618 lines. Lines per second: 354782</pre>"
      ],
      "text/plain": [
       "Read 178533618 lines. Lines per second: 354782"
      ]
     },
     "metadata": {},
     "output_type": "display_data"
    },
    {
     "data": {
      "text/html": [
       "<pre>Read 180554764 lines. Lines per second: 354707</pre>"
      ],
      "text/plain": [
       "Read 180554764 lines. Lines per second: 354707"
      ]
     },
     "metadata": {},
     "output_type": "display_data"
    },
    {
     "data": {
      "text/html": [
       "<pre>Read 182575929 lines. Lines per second: 354737</pre>"
      ],
      "text/plain": [
       "Read 182575929 lines. Lines per second: 354737"
      ]
     },
     "metadata": {},
     "output_type": "display_data"
    },
    {
     "data": {
      "text/html": [
       "<pre>Read 184597076 lines. Lines per second: 354677</pre>"
      ],
      "text/plain": [
       "Read 184597076 lines. Lines per second: 354677"
      ]
     },
     "metadata": {},
     "output_type": "display_data"
    },
    {
     "data": {
      "text/html": [
       "<pre>Read 186618166 lines. Lines per second: 354748</pre>"
      ],
      "text/plain": [
       "Read 186618166 lines. Lines per second: 354748"
      ]
     },
     "metadata": {},
     "output_type": "display_data"
    },
    {
     "data": {
      "text/html": [
       "<pre>Read 188639294 lines. Lines per second: 354779</pre>"
      ],
      "text/plain": [
       "Read 188639294 lines. Lines per second: 354779"
      ]
     },
     "metadata": {},
     "output_type": "display_data"
    },
    {
     "data": {
      "text/html": [
       "<pre>Read 190660415 lines. Lines per second: 354913</pre>"
      ],
      "text/plain": [
       "Read 190660415 lines. Lines per second: 354913"
      ]
     },
     "metadata": {},
     "output_type": "display_data"
    },
    {
     "data": {
      "text/html": [
       "<pre>Read 192681481 lines. Lines per second: 354753</pre>"
      ],
      "text/plain": [
       "Read 192681481 lines. Lines per second: 354753"
      ]
     },
     "metadata": {},
     "output_type": "display_data"
    },
    {
     "data": {
      "text/html": [
       "<pre>Read 194702650 lines. Lines per second: 354748</pre>"
      ],
      "text/plain": [
       "Read 194702650 lines. Lines per second: 354748"
      ]
     },
     "metadata": {},
     "output_type": "display_data"
    },
    {
     "data": {
      "text/html": [
       "<pre>Read 196723780 lines. Lines per second: 354736</pre>"
      ],
      "text/plain": [
       "Read 196723780 lines. Lines per second: 354736"
      ]
     },
     "metadata": {},
     "output_type": "display_data"
    },
    {
     "data": {
      "text/html": [
       "<pre>Read 198744985 lines. Lines per second: 354651</pre>"
      ],
      "text/plain": [
       "Read 198744985 lines. Lines per second: 354651"
      ]
     },
     "metadata": {},
     "output_type": "display_data"
    },
    {
     "data": {
      "text/html": [
       "<pre>Read 200766057 lines. Lines per second: 354739</pre>"
      ],
      "text/plain": [
       "Read 200766057 lines. Lines per second: 354739"
      ]
     },
     "metadata": {},
     "output_type": "display_data"
    },
    {
     "data": {
      "text/html": [
       "<pre>Read 202787135 lines. Lines per second: 354731</pre>"
      ],
      "text/plain": [
       "Read 202787135 lines. Lines per second: 354731"
      ]
     },
     "metadata": {},
     "output_type": "display_data"
    },
    {
     "data": {
      "text/html": [
       "<pre>Read 204808326 lines. Lines per second: 354782</pre>"
      ],
      "text/plain": [
       "Read 204808326 lines. Lines per second: 354782"
      ]
     },
     "metadata": {},
     "output_type": "display_data"
    },
    {
     "data": {
      "text/html": [
       "<pre>Read 206829481 lines. Lines per second: 354591</pre>"
      ],
      "text/plain": [
       "Read 206829481 lines. Lines per second: 354591"
      ]
     },
     "metadata": {},
     "output_type": "display_data"
    },
    {
     "data": {
      "text/html": [
       "<pre>Read 208850523 lines. Lines per second: 354691</pre>"
      ],
      "text/plain": [
       "Read 208850523 lines. Lines per second: 354691"
      ]
     },
     "metadata": {},
     "output_type": "display_data"
    },
    {
     "data": {
      "text/html": [
       "<pre>Read 210871601 lines. Lines per second: 354728</pre>"
      ],
      "text/plain": [
       "Read 210871601 lines. Lines per second: 354728"
      ]
     },
     "metadata": {},
     "output_type": "display_data"
    },
    {
     "data": {
      "text/html": [
       "<pre>Read 212892653 lines. Lines per second: 354725</pre>"
      ],
      "text/plain": [
       "Read 212892653 lines. Lines per second: 354725"
      ]
     },
     "metadata": {},
     "output_type": "display_data"
    },
    {
     "data": {
      "text/html": [
       "<pre>Read 214913823 lines. Lines per second: 354840</pre>"
      ],
      "text/plain": [
       "Read 214913823 lines. Lines per second: 354840"
      ]
     },
     "metadata": {},
     "output_type": "display_data"
    },
    {
     "data": {
      "text/html": [
       "<pre>Read 216934970 lines. Lines per second: 354955</pre>"
      ],
      "text/plain": [
       "Read 216934970 lines. Lines per second: 354955"
      ]
     },
     "metadata": {},
     "output_type": "display_data"
    },
    {
     "data": {
      "text/html": [
       "<pre>Read 218956040 lines. Lines per second: 354923</pre>"
      ],
      "text/plain": [
       "Read 218956040 lines. Lines per second: 354923"
      ]
     },
     "metadata": {},
     "output_type": "display_data"
    },
    {
     "data": {
      "text/html": [
       "<pre>Read 220977121 lines. Lines per second: 354881</pre>"
      ],
      "text/plain": [
       "Read 220977121 lines. Lines per second: 354881"
      ]
     },
     "metadata": {},
     "output_type": "display_data"
    },
    {
     "data": {
      "text/html": [
       "<pre>Read 222998156 lines. Lines per second: 354807</pre>"
      ],
      "text/plain": [
       "Read 222998156 lines. Lines per second: 354807"
      ]
     },
     "metadata": {},
     "output_type": "display_data"
    },
    {
     "data": {
      "text/html": [
       "<pre>Read 225019341 lines. Lines per second: 354713</pre>"
      ],
      "text/plain": [
       "Read 225019341 lines. Lines per second: 354713"
      ]
     },
     "metadata": {},
     "output_type": "display_data"
    },
    {
     "data": {
      "text/html": [
       "<pre>Read 227040523 lines. Lines per second: 354764</pre>"
      ],
      "text/plain": [
       "Read 227040523 lines. Lines per second: 354764"
      ]
     },
     "metadata": {},
     "output_type": "display_data"
    },
    {
     "data": {
      "text/html": [
       "<pre>Read 229061560 lines. Lines per second: 354775</pre>"
      ],
      "text/plain": [
       "Read 229061560 lines. Lines per second: 354775"
      ]
     },
     "metadata": {},
     "output_type": "display_data"
    },
    {
     "data": {
      "text/html": [
       "<pre>Read 231082679 lines. Lines per second: 354772</pre>"
      ],
      "text/plain": [
       "Read 231082679 lines. Lines per second: 354772"
      ]
     },
     "metadata": {},
     "output_type": "display_data"
    },
    {
     "data": {
      "text/html": [
       "<pre>Read 233103742 lines. Lines per second: 354831</pre>"
      ],
      "text/plain": [
       "Read 233103742 lines. Lines per second: 354831"
      ]
     },
     "metadata": {},
     "output_type": "display_data"
    },
    {
     "data": {
      "text/html": [
       "<pre>Read 235124980 lines. Lines per second: 354916</pre>"
      ],
      "text/plain": [
       "Read 235124980 lines. Lines per second: 354916"
      ]
     },
     "metadata": {},
     "output_type": "display_data"
    },
    {
     "data": {
      "text/html": [
       "<pre>Read 237146146 lines. Lines per second: 355052</pre>"
      ],
      "text/plain": [
       "Read 237146146 lines. Lines per second: 355052"
      ]
     },
     "metadata": {},
     "output_type": "display_data"
    },
    {
     "data": {
      "text/html": [
       "<pre>Read 239167206 lines. Lines per second: 355168</pre>"
      ],
      "text/plain": [
       "Read 239167206 lines. Lines per second: 355168"
      ]
     },
     "metadata": {},
     "output_type": "display_data"
    },
    {
     "data": {
      "text/html": [
       "<pre>Read 241188293 lines. Lines per second: 355266</pre>"
      ],
      "text/plain": [
       "Read 241188293 lines. Lines per second: 355266"
      ]
     },
     "metadata": {},
     "output_type": "display_data"
    },
    {
     "data": {
      "text/html": [
       "<pre>Read 243209452 lines. Lines per second: 355357</pre>"
      ],
      "text/plain": [
       "Read 243209452 lines. Lines per second: 355357"
      ]
     },
     "metadata": {},
     "output_type": "display_data"
    },
    {
     "data": {
      "text/html": [
       "<pre>Read 245230525 lines. Lines per second: 355475</pre>"
      ],
      "text/plain": [
       "Read 245230525 lines. Lines per second: 355475"
      ]
     },
     "metadata": {},
     "output_type": "display_data"
    },
    {
     "data": {
      "text/html": [
       "<pre>Read 247251632 lines. Lines per second: 355395</pre>"
      ],
      "text/plain": [
       "Read 247251632 lines. Lines per second: 355395"
      ]
     },
     "metadata": {},
     "output_type": "display_data"
    },
    {
     "data": {
      "text/html": [
       "<pre>Read 249272755 lines. Lines per second: 355290</pre>"
      ],
      "text/plain": [
       "Read 249272755 lines. Lines per second: 355290"
      ]
     },
     "metadata": {},
     "output_type": "display_data"
    },
    {
     "data": {
      "text/html": [
       "<pre>Read 251293892 lines. Lines per second: 355007</pre>"
      ],
      "text/plain": [
       "Read 251293892 lines. Lines per second: 355007"
      ]
     },
     "metadata": {},
     "output_type": "display_data"
    },
    {
     "data": {
      "text/html": [
       "<pre>Read 253315056 lines. Lines per second: 354909</pre>"
      ],
      "text/plain": [
       "Read 253315056 lines. Lines per second: 354909"
      ]
     },
     "metadata": {},
     "output_type": "display_data"
    },
    {
     "data": {
      "text/html": [
       "<pre>Read 255336157 lines. Lines per second: 354885</pre>"
      ],
      "text/plain": [
       "Read 255336157 lines. Lines per second: 354885"
      ]
     },
     "metadata": {},
     "output_type": "display_data"
    },
    {
     "data": {
      "text/html": [
       "<pre>Read 257357262 lines. Lines per second: 354260</pre>"
      ],
      "text/plain": [
       "Read 257357262 lines. Lines per second: 354260"
      ]
     },
     "metadata": {},
     "output_type": "display_data"
    },
    {
     "data": {
      "text/html": [
       "<pre>Read 258704643 lines. Lines per second: 353568</pre>"
      ],
      "text/plain": [
       "Read 258704643 lines. Lines per second: 353568"
      ]
     },
     "metadata": {},
     "output_type": "display_data"
    },
    {
     "data": {
      "text/html": [
       "<pre>Read 260725819 lines. Lines per second: 353418</pre>"
      ],
      "text/plain": [
       "Read 260725819 lines. Lines per second: 353418"
      ]
     },
     "metadata": {},
     "output_type": "display_data"
    },
    {
     "data": {
      "text/html": [
       "<pre>Read 262746965 lines. Lines per second: 353418</pre>"
      ],
      "text/plain": [
       "Read 262746965 lines. Lines per second: 353418"
      ]
     },
     "metadata": {},
     "output_type": "display_data"
    },
    {
     "data": {
      "text/html": [
       "<pre>Read 264768063 lines. Lines per second: 353462</pre>"
      ],
      "text/plain": [
       "Read 264768063 lines. Lines per second: 353462"
      ]
     },
     "metadata": {},
     "output_type": "display_data"
    },
    {
     "data": {
      "text/html": [
       "<pre>Read 266789147 lines. Lines per second: 353551</pre>"
      ],
      "text/plain": [
       "Read 266789147 lines. Lines per second: 353551"
      ]
     },
     "metadata": {},
     "output_type": "display_data"
    },
    {
     "data": {
      "text/html": [
       "<pre>Read 268810270 lines. Lines per second: 353601</pre>"
      ],
      "text/plain": [
       "Read 268810270 lines. Lines per second: 353601"
      ]
     },
     "metadata": {},
     "output_type": "display_data"
    },
    {
     "data": {
      "text/html": [
       "<pre>Read 270831316 lines. Lines per second: 353700</pre>"
      ],
      "text/plain": [
       "Read 270831316 lines. Lines per second: 353700"
      ]
     },
     "metadata": {},
     "output_type": "display_data"
    },
    {
     "data": {
      "text/html": [
       "<pre>Read 272852516 lines. Lines per second: 353790</pre>"
      ],
      "text/plain": [
       "Read 272852516 lines. Lines per second: 353790"
      ]
     },
     "metadata": {},
     "output_type": "display_data"
    },
    {
     "data": {
      "text/html": [
       "<pre>Read 274873611 lines. Lines per second: 353815</pre>"
      ],
      "text/plain": [
       "Read 274873611 lines. Lines per second: 353815"
      ]
     },
     "metadata": {},
     "output_type": "display_data"
    },
    {
     "data": {
      "text/html": [
       "<pre>Read 276894830 lines. Lines per second: 353646</pre>"
      ],
      "text/plain": [
       "Read 276894830 lines. Lines per second: 353646"
      ]
     },
     "metadata": {},
     "output_type": "display_data"
    },
    {
     "data": {
      "text/html": [
       "<pre>Read 278915943 lines. Lines per second: 353631</pre>"
      ],
      "text/plain": [
       "Read 278915943 lines. Lines per second: 353631"
      ]
     },
     "metadata": {},
     "output_type": "display_data"
    },
    {
     "data": {
      "text/html": [
       "<pre>Read 280937068 lines. Lines per second: 353513</pre>"
      ],
      "text/plain": [
       "Read 280937068 lines. Lines per second: 353513"
      ]
     },
     "metadata": {},
     "output_type": "display_data"
    },
    {
     "data": {
      "text/html": [
       "<pre>Read 282958206 lines. Lines per second: 353474</pre>"
      ],
      "text/plain": [
       "Read 282958206 lines. Lines per second: 353474"
      ]
     },
     "metadata": {},
     "output_type": "display_data"
    },
    {
     "data": {
      "text/html": [
       "<pre>Read 284979330 lines. Lines per second: 353463</pre>"
      ],
      "text/plain": [
       "Read 284979330 lines. Lines per second: 353463"
      ]
     },
     "metadata": {},
     "output_type": "display_data"
    },
    {
     "data": {
      "text/html": [
       "<pre>Read 287000518 lines. Lines per second: 353500</pre>"
      ],
      "text/plain": [
       "Read 287000518 lines. Lines per second: 353500"
      ]
     },
     "metadata": {},
     "output_type": "display_data"
    },
    {
     "data": {
      "text/html": [
       "<pre>Read 289021648 lines. Lines per second: 353182</pre>"
      ],
      "text/plain": [
       "Read 289021648 lines. Lines per second: 353182"
      ]
     },
     "metadata": {},
     "output_type": "display_data"
    },
    {
     "data": {
      "text/html": [
       "<pre>Read 291042788 lines. Lines per second: 353026</pre>"
      ],
      "text/plain": [
       "Read 291042788 lines. Lines per second: 353026"
      ]
     },
     "metadata": {},
     "output_type": "display_data"
    },
    {
     "data": {
      "text/html": [
       "<pre>Read 293063974 lines. Lines per second: 353020</pre>"
      ],
      "text/plain": [
       "Read 293063974 lines. Lines per second: 353020"
      ]
     },
     "metadata": {},
     "output_type": "display_data"
    },
    {
     "data": {
      "text/html": [
       "<pre>Read 295085180 lines. Lines per second: 353064</pre>"
      ],
      "text/plain": [
       "Read 295085180 lines. Lines per second: 353064"
      ]
     },
     "metadata": {},
     "output_type": "display_data"
    },
    {
     "data": {
      "text/html": [
       "<pre>Read 297106288 lines. Lines per second: 352988</pre>"
      ],
      "text/plain": [
       "Read 297106288 lines. Lines per second: 352988"
      ]
     },
     "metadata": {},
     "output_type": "display_data"
    },
    {
     "data": {
      "text/html": [
       "<pre>Read 299127449 lines. Lines per second: 353034</pre>"
      ],
      "text/plain": [
       "Read 299127449 lines. Lines per second: 353034"
      ]
     },
     "metadata": {},
     "output_type": "display_data"
    },
    {
     "data": {
      "text/html": [
       "<pre>Read 301148612 lines. Lines per second: 353144</pre>"
      ],
      "text/plain": [
       "Read 301148612 lines. Lines per second: 353144"
      ]
     },
     "metadata": {},
     "output_type": "display_data"
    },
    {
     "data": {
      "text/html": [
       "<pre>Read 303169750 lines. Lines per second: 353130</pre>"
      ],
      "text/plain": [
       "Read 303169750 lines. Lines per second: 353130"
      ]
     },
     "metadata": {},
     "output_type": "display_data"
    },
    {
     "data": {
      "text/html": [
       "<pre>Read 305190905 lines. Lines per second: 353049</pre>"
      ],
      "text/plain": [
       "Read 305190905 lines. Lines per second: 353049"
      ]
     },
     "metadata": {},
     "output_type": "display_data"
    },
    {
     "data": {
      "text/html": [
       "<pre>Read 307212111 lines. Lines per second: 353052</pre>"
      ],
      "text/plain": [
       "Read 307212111 lines. Lines per second: 353052"
      ]
     },
     "metadata": {},
     "output_type": "display_data"
    },
    {
     "data": {
      "text/html": [
       "<pre>Read 309233283 lines. Lines per second: 353109</pre>"
      ],
      "text/plain": [
       "Read 309233283 lines. Lines per second: 353109"
      ]
     },
     "metadata": {},
     "output_type": "display_data"
    },
    {
     "data": {
      "text/html": [
       "<pre>Read 311254416 lines. Lines per second: 353131</pre>"
      ],
      "text/plain": [
       "Read 311254416 lines. Lines per second: 353131"
      ]
     },
     "metadata": {},
     "output_type": "display_data"
    },
    {
     "data": {
      "text/html": [
       "<pre>Read 313275507 lines. Lines per second: 353065</pre>"
      ],
      "text/plain": [
       "Read 313275507 lines. Lines per second: 353065"
      ]
     },
     "metadata": {},
     "output_type": "display_data"
    },
    {
     "data": {
      "text/html": [
       "<pre>Read 315296760 lines. Lines per second: 353088</pre>"
      ],
      "text/plain": [
       "Read 315296760 lines. Lines per second: 353088"
      ]
     },
     "metadata": {},
     "output_type": "display_data"
    },
    {
     "data": {
      "text/html": [
       "<pre>Read 317317909 lines. Lines per second: 353160</pre>"
      ],
      "text/plain": [
       "Read 317317909 lines. Lines per second: 353160"
      ]
     },
     "metadata": {},
     "output_type": "display_data"
    },
    {
     "data": {
      "text/html": [
       "<pre>Read 319338985 lines. Lines per second: 353189</pre>"
      ],
      "text/plain": [
       "Read 319338985 lines. Lines per second: 353189"
      ]
     },
     "metadata": {},
     "output_type": "display_data"
    },
    {
     "data": {
      "text/html": [
       "<pre>Read 321360049 lines. Lines per second: 353093</pre>"
      ],
      "text/plain": [
       "Read 321360049 lines. Lines per second: 353093"
      ]
     },
     "metadata": {},
     "output_type": "display_data"
    },
    {
     "data": {
      "text/html": [
       "<pre>Read 323381254 lines. Lines per second: 353088</pre>"
      ],
      "text/plain": [
       "Read 323381254 lines. Lines per second: 353088"
      ]
     },
     "metadata": {},
     "output_type": "display_data"
    },
    {
     "data": {
      "text/html": [
       "<pre>Read 325402392 lines. Lines per second: 353053</pre>"
      ],
      "text/plain": [
       "Read 325402392 lines. Lines per second: 353053"
      ]
     },
     "metadata": {},
     "output_type": "display_data"
    },
    {
     "data": {
      "text/html": [
       "<pre>Read 327423520 lines. Lines per second: 353011</pre>"
      ],
      "text/plain": [
       "Read 327423520 lines. Lines per second: 353011"
      ]
     },
     "metadata": {},
     "output_type": "display_data"
    },
    {
     "data": {
      "text/html": [
       "<pre>Read 329444618 lines. Lines per second: 353016</pre>"
      ],
      "text/plain": [
       "Read 329444618 lines. Lines per second: 353016"
      ]
     },
     "metadata": {},
     "output_type": "display_data"
    },
    {
     "data": {
      "text/html": [
       "<pre>Read 331465787 lines. Lines per second: 353017</pre>"
      ],
      "text/plain": [
       "Read 331465787 lines. Lines per second: 353017"
      ]
     },
     "metadata": {},
     "output_type": "display_data"
    },
    {
     "data": {
      "text/html": [
       "<pre>Read 333487026 lines. Lines per second: 353056</pre>"
      ],
      "text/plain": [
       "Read 333487026 lines. Lines per second: 353056"
      ]
     },
     "metadata": {},
     "output_type": "display_data"
    },
    {
     "data": {
      "text/html": [
       "<pre>Read 335508150 lines. Lines per second: 353037</pre>"
      ],
      "text/plain": [
       "Read 335508150 lines. Lines per second: 353037"
      ]
     },
     "metadata": {},
     "output_type": "display_data"
    },
    {
     "data": {
      "text/html": [
       "<pre>Read 337529222 lines. Lines per second: 353044</pre>"
      ],
      "text/plain": [
       "Read 337529222 lines. Lines per second: 353044"
      ]
     },
     "metadata": {},
     "output_type": "display_data"
    },
    {
     "data": {
      "text/html": [
       "<pre>Read 339550340 lines. Lines per second: 353048</pre>"
      ],
      "text/plain": [
       "Read 339550340 lines. Lines per second: 353048"
      ]
     },
     "metadata": {},
     "output_type": "display_data"
    },
    {
     "data": {
      "text/html": [
       "<pre>Read 341571404 lines. Lines per second: 353019</pre>"
      ],
      "text/plain": [
       "Read 341571404 lines. Lines per second: 353019"
      ]
     },
     "metadata": {},
     "output_type": "display_data"
    },
    {
     "data": {
      "text/html": [
       "<pre>Read 343592636 lines. Lines per second: 353058</pre>"
      ],
      "text/plain": [
       "Read 343592636 lines. Lines per second: 353058"
      ]
     },
     "metadata": {},
     "output_type": "display_data"
    },
    {
     "data": {
      "text/html": [
       "<pre>Read 345613753 lines. Lines per second: 353124</pre>"
      ],
      "text/plain": [
       "Read 345613753 lines. Lines per second: 353124"
      ]
     },
     "metadata": {},
     "output_type": "display_data"
    },
    {
     "data": {
      "text/html": [
       "<pre>Read 347634919 lines. Lines per second: 353090</pre>"
      ],
      "text/plain": [
       "Read 347634919 lines. Lines per second: 353090"
      ]
     },
     "metadata": {},
     "output_type": "display_data"
    },
    {
     "data": {
      "text/html": [
       "<pre>Read 349656154 lines. Lines per second: 353044</pre>"
      ],
      "text/plain": [
       "Read 349656154 lines. Lines per second: 353044"
      ]
     },
     "metadata": {},
     "output_type": "display_data"
    },
    {
     "data": {
      "text/html": [
       "<pre>Read 351677206 lines. Lines per second: 353119</pre>"
      ],
      "text/plain": [
       "Read 351677206 lines. Lines per second: 353119"
      ]
     },
     "metadata": {},
     "output_type": "display_data"
    },
    {
     "data": {
      "text/html": [
       "<pre>Read 353698322 lines. Lines per second: 353190</pre>"
      ],
      "text/plain": [
       "Read 353698322 lines. Lines per second: 353190"
      ]
     },
     "metadata": {},
     "output_type": "display_data"
    },
    {
     "data": {
      "text/html": [
       "<pre>Read 355719536 lines. Lines per second: 353263</pre>"
      ],
      "text/plain": [
       "Read 355719536 lines. Lines per second: 353263"
      ]
     },
     "metadata": {},
     "output_type": "display_data"
    },
    {
     "data": {
      "text/html": [
       "<pre>Read 357740630 lines. Lines per second: 353326</pre>"
      ],
      "text/plain": [
       "Read 357740630 lines. Lines per second: 353326"
      ]
     },
     "metadata": {},
     "output_type": "display_data"
    },
    {
     "data": {
      "text/html": [
       "<pre>Read 359761718 lines. Lines per second: 353363</pre>"
      ],
      "text/plain": [
       "Read 359761718 lines. Lines per second: 353363"
      ]
     },
     "metadata": {},
     "output_type": "display_data"
    },
    {
     "data": {
      "text/html": [
       "<pre>Read 361782783 lines. Lines per second: 353412</pre>"
      ],
      "text/plain": [
       "Read 361782783 lines. Lines per second: 353412"
      ]
     },
     "metadata": {},
     "output_type": "display_data"
    },
    {
     "data": {
      "text/html": [
       "<pre>Read 363803940 lines. Lines per second: 353386</pre>"
      ],
      "text/plain": [
       "Read 363803940 lines. Lines per second: 353386"
      ]
     },
     "metadata": {},
     "output_type": "display_data"
    },
    {
     "data": {
      "text/html": [
       "<pre>Read 365825091 lines. Lines per second: 353213</pre>"
      ],
      "text/plain": [
       "Read 365825091 lines. Lines per second: 353213"
      ]
     },
     "metadata": {},
     "output_type": "display_data"
    },
    {
     "data": {
      "text/html": [
       "<pre>Read 367846180 lines. Lines per second: 353178</pre>"
      ],
      "text/plain": [
       "Read 367846180 lines. Lines per second: 353178"
      ]
     },
     "metadata": {},
     "output_type": "display_data"
    },
    {
     "data": {
      "text/html": [
       "<pre>Read 369867296 lines. Lines per second: 352825</pre>"
      ],
      "text/plain": [
       "Read 369867296 lines. Lines per second: 352825"
      ]
     },
     "metadata": {},
     "output_type": "display_data"
    },
    {
     "data": {
      "text/html": [
       "<pre>Read 371888435 lines. Lines per second: 352847</pre>"
      ],
      "text/plain": [
       "Read 371888435 lines. Lines per second: 352847"
      ]
     },
     "metadata": {},
     "output_type": "display_data"
    },
    {
     "data": {
      "text/html": [
       "<pre>Read 373909537 lines. Lines per second: 352863</pre>"
      ],
      "text/plain": [
       "Read 373909537 lines. Lines per second: 352863"
      ]
     },
     "metadata": {},
     "output_type": "display_data"
    },
    {
     "data": {
      "text/html": [
       "<pre>Read 375930720 lines. Lines per second: 352878</pre>"
      ],
      "text/plain": [
       "Read 375930720 lines. Lines per second: 352878"
      ]
     },
     "metadata": {},
     "output_type": "display_data"
    },
    {
     "data": {
      "text/html": [
       "<pre>Read 377951787 lines. Lines per second: 352940</pre>"
      ],
      "text/plain": [
       "Read 377951787 lines. Lines per second: 352940"
      ]
     },
     "metadata": {},
     "output_type": "display_data"
    },
    {
     "data": {
      "text/html": [
       "<pre>Read 379972921 lines. Lines per second: 352831</pre>"
      ],
      "text/plain": [
       "Read 379972921 lines. Lines per second: 352831"
      ]
     },
     "metadata": {},
     "output_type": "display_data"
    },
    {
     "data": {
      "text/html": [
       "<pre>Read 381994084 lines. Lines per second: 352774</pre>"
      ],
      "text/plain": [
       "Read 381994084 lines. Lines per second: 352774"
      ]
     },
     "metadata": {},
     "output_type": "display_data"
    },
    {
     "data": {
      "text/html": [
       "<pre>Read 384015286 lines. Lines per second: 352783</pre>"
      ],
      "text/plain": [
       "Read 384015286 lines. Lines per second: 352783"
      ]
     },
     "metadata": {},
     "output_type": "display_data"
    },
    {
     "data": {
      "text/html": [
       "<pre>Read 386036438 lines. Lines per second: 352813</pre>"
      ],
      "text/plain": [
       "Read 386036438 lines. Lines per second: 352813"
      ]
     },
     "metadata": {},
     "output_type": "display_data"
    },
    {
     "data": {
      "text/html": [
       "<pre>Read 388057548 lines. Lines per second: 352745</pre>"
      ],
      "text/plain": [
       "Read 388057548 lines. Lines per second: 352745"
      ]
     },
     "metadata": {},
     "output_type": "display_data"
    },
    {
     "data": {
      "text/html": [
       "<pre>Read 390078742 lines. Lines per second: 352791</pre>"
      ],
      "text/plain": [
       "Read 390078742 lines. Lines per second: 352791"
      ]
     },
     "metadata": {},
     "output_type": "display_data"
    },
    {
     "data": {
      "text/html": [
       "<pre>Finished parsing file /Volumes/LEON/MDS _UDD/kkbox-churn-prediction-challenge/user_logs.csv</pre>"
      ],
      "text/plain": [
       "Finished parsing file /Volumes/LEON/MDS _UDD/kkbox-churn-prediction-challenge/user_logs.csv"
      ]
     },
     "metadata": {},
     "output_type": "display_data"
    },
    {
     "data": {
      "text/html": [
       "<pre>Parsing completed. Parsed 392106543 lines in 1110.33 secs.</pre>"
      ],
      "text/plain": [
       "Parsing completed. Parsed 392106543 lines in 1110.33 secs."
      ]
     },
     "metadata": {},
     "output_type": "display_data"
    }
   ],
   "source": [
    "user_logs = gl.SFrame.read_csv(DIR + 'user_logs.csv')"
   ]
  },
  {
   "cell_type": "code",
   "execution_count": 20,
   "metadata": {
    "collapsed": false
   },
   "outputs": [
    {
     "data": {
      "text/plain": [
       "<bound method SFrame.dtype of Columns:\n",
       "\tmsno\tstr\n",
       "\tdate\tint\n",
       "\tnum_25\tint\n",
       "\tnum_50\tint\n",
       "\tnum_75\tint\n",
       "\tnum_985\tint\n",
       "\tnum_100\tint\n",
       "\tnum_unq\tint\n",
       "\ttotal_secs\tfloat\n",
       "\n",
       "Rows: 392106543\n",
       "\n",
       "Data:\n",
       "+-------------------------------+----------+--------+--------+--------+---------+\n",
       "|              msno             |   date   | num_25 | num_50 | num_75 | num_985 |\n",
       "+-------------------------------+----------+--------+--------+--------+---------+\n",
       "| rxIP2f2aN0rYNp+toI0Obt/N/F... | 20150513 |   0    |   0    |   0    |    0    |\n",
       "| rxIP2f2aN0rYNp+toI0Obt/N/F... | 20150709 |   9    |   1    |   0    |    0    |\n",
       "| yxiEWwE9VR5utpUecLxVdQ5B7N... | 20150105 |   3    |   3    |   0    |    0    |\n",
       "| yxiEWwE9VR5utpUecLxVdQ5B7N... | 20150306 |   1    |   0    |   1    |    1    |\n",
       "| yxiEWwE9VR5utpUecLxVdQ5B7N... | 20150501 |   3    |   0    |   0    |    0    |\n",
       "| yxiEWwE9VR5utpUecLxVdQ5B7N... | 20150702 |   4    |   0    |   1    |    1    |\n",
       "| yxiEWwE9VR5utpUecLxVdQ5B7N... | 20150830 |   3    |   1    |   0    |    0    |\n",
       "| yxiEWwE9VR5utpUecLxVdQ5B7N... | 20151107 |   1    |   0    |   0    |    0    |\n",
       "| yxiEWwE9VR5utpUecLxVdQ5B7N... | 20160110 |   2    |   0    |   1    |    0    |\n",
       "| yxiEWwE9VR5utpUecLxVdQ5B7N... | 20160316 |   9    |   3    |   4    |    1    |\n",
       "+-------------------------------+----------+--------+--------+--------+---------+\n",
       "+---------+---------+------------+\n",
       "| num_100 | num_unq | total_secs |\n",
       "+---------+---------+------------+\n",
       "|    1    |    1    |  280.335   |\n",
       "|    7    |    11   |  1658.948  |\n",
       "|    68   |    36   | 17364.956  |\n",
       "|    97   |    27   | 24667.317  |\n",
       "|    38   |    38   |  9649.029  |\n",
       "|    33   |    10   |  10021.52  |\n",
       "|    4    |    7    |  1119.555  |\n",
       "|    4    |    5    |  938.022   |\n",
       "|    11   |    6    |  3004.068  |\n",
       "|    67   |    50   | 18257.661  |\n",
       "+---------+---------+------------+\n",
       "[392106543 rows x 9 columns]\n",
       "Note: Only the head of the SFrame is printed.\n",
       "You can use print_rows(num_rows=m, num_columns=n) to print more rows and columns.>"
      ]
     },
     "execution_count": 20,
     "metadata": {},
     "output_type": "execute_result"
    }
   ],
   "source": [
    "user_logs.dtype"
   ]
  },
  {
   "cell_type": "code",
   "execution_count": 21,
   "metadata": {
    "collapsed": true
   },
   "outputs": [],
   "source": [
    "user_logs.save(DIR + 'user_logs_sframe')"
   ]
  },
  {
   "cell_type": "code",
   "execution_count": 22,
   "metadata": {
    "collapsed": false
   },
   "outputs": [
    {
     "data": {
      "text/html": [
       "<pre>Finished parsing file /Volumes/LEON/MDS _UDD/kkbox-churn-prediction-challenge/data/churn_comp_refresh/user_logs_v2.csv</pre>"
      ],
      "text/plain": [
       "Finished parsing file /Volumes/LEON/MDS _UDD/kkbox-churn-prediction-challenge/data/churn_comp_refresh/user_logs_v2.csv"
      ]
     },
     "metadata": {},
     "output_type": "display_data"
    },
    {
     "data": {
      "text/html": [
       "<pre>Parsing completed. Parsed 100 lines in 2.41125 secs.</pre>"
      ],
      "text/plain": [
       "Parsing completed. Parsed 100 lines in 2.41125 secs."
      ]
     },
     "metadata": {},
     "output_type": "display_data"
    },
    {
     "name": "stdout",
     "output_type": "stream",
     "text": [
      "------------------------------------------------------\n",
      "Inferred types from first 100 line(s) of file as \n",
      "column_type_hints=[str,int,int,int,int,int,int,int,float]\n",
      "If parsing fails due to incorrect types, you can correct\n",
      "the inferred type list above and pass it to read_csv in\n",
      "the column_type_hints argument\n",
      "------------------------------------------------------\n"
     ]
    },
    {
     "data": {
      "text/html": [
       "<pre>Read 673727 lines. Lines per second: 254132</pre>"
      ],
      "text/plain": [
       "Read 673727 lines. Lines per second: 254132"
      ]
     },
     "metadata": {},
     "output_type": "display_data"
    },
    {
     "data": {
      "text/html": [
       "<pre>Read 2695138 lines. Lines per second: 336645</pre>"
      ],
      "text/plain": [
       "Read 2695138 lines. Lines per second: 336645"
      ]
     },
     "metadata": {},
     "output_type": "display_data"
    },
    {
     "data": {
      "text/html": [
       "<pre>Read 4716490 lines. Lines per second: 310861</pre>"
      ],
      "text/plain": [
       "Read 4716490 lines. Lines per second: 310861"
      ]
     },
     "metadata": {},
     "output_type": "display_data"
    },
    {
     "data": {
      "text/html": [
       "<pre>Read 6737845 lines. Lines per second: 326941</pre>"
      ],
      "text/plain": [
       "Read 6737845 lines. Lines per second: 326941"
      ]
     },
     "metadata": {},
     "output_type": "display_data"
    },
    {
     "data": {
      "text/html": [
       "<pre>Read 8759193 lines. Lines per second: 336184</pre>"
      ],
      "text/plain": [
       "Read 8759193 lines. Lines per second: 336184"
      ]
     },
     "metadata": {},
     "output_type": "display_data"
    },
    {
     "data": {
      "text/html": [
       "<pre>Read 10780589 lines. Lines per second: 343733</pre>"
      ],
      "text/plain": [
       "Read 10780589 lines. Lines per second: 343733"
      ]
     },
     "metadata": {},
     "output_type": "display_data"
    },
    {
     "data": {
      "text/html": [
       "<pre>Read 12801920 lines. Lines per second: 349298</pre>"
      ],
      "text/plain": [
       "Read 12801920 lines. Lines per second: 349298"
      ]
     },
     "metadata": {},
     "output_type": "display_data"
    },
    {
     "data": {
      "text/html": [
       "<pre>Read 14823236 lines. Lines per second: 353398</pre>"
      ],
      "text/plain": [
       "Read 14823236 lines. Lines per second: 353398"
      ]
     },
     "metadata": {},
     "output_type": "display_data"
    },
    {
     "data": {
      "text/html": [
       "<pre>Read 16844582 lines. Lines per second: 356386</pre>"
      ],
      "text/plain": [
       "Read 16844582 lines. Lines per second: 356386"
      ]
     },
     "metadata": {},
     "output_type": "display_data"
    },
    {
     "data": {
      "text/html": [
       "<pre>Finished parsing file /Volumes/LEON/MDS _UDD/kkbox-churn-prediction-challenge/data/churn_comp_refresh/user_logs_v2.csv</pre>"
      ],
      "text/plain": [
       "Finished parsing file /Volumes/LEON/MDS _UDD/kkbox-churn-prediction-challenge/data/churn_comp_refresh/user_logs_v2.csv"
      ]
     },
     "metadata": {},
     "output_type": "display_data"
    },
    {
     "data": {
      "text/html": [
       "<pre>Parsing completed. Parsed 18396362 lines in 50.2867 secs.</pre>"
      ],
      "text/plain": [
       "Parsing completed. Parsed 18396362 lines in 50.2867 secs."
      ]
     },
     "metadata": {},
     "output_type": "display_data"
    }
   ],
   "source": [
    "user_logs_v2 = gl.SFrame.read_csv(DIR + UPDATE + 'user_logs_v2.csv')"
   ]
  },
  {
   "cell_type": "code",
   "execution_count": 23,
   "metadata": {
    "collapsed": false
   },
   "outputs": [
    {
     "data": {
      "text/plain": [
       "<bound method SFrame.dtype of Columns:\n",
       "\tmsno\tstr\n",
       "\tdate\tint\n",
       "\tnum_25\tint\n",
       "\tnum_50\tint\n",
       "\tnum_75\tint\n",
       "\tnum_985\tint\n",
       "\tnum_100\tint\n",
       "\tnum_unq\tint\n",
       "\ttotal_secs\tfloat\n",
       "\n",
       "Rows: 18396362\n",
       "\n",
       "Data:\n",
       "+-------------------------------+----------+--------+--------+--------+---------+\n",
       "|              msno             |   date   | num_25 | num_50 | num_75 | num_985 |\n",
       "+-------------------------------+----------+--------+--------+--------+---------+\n",
       "| u9E91QDTvHLq6NXjEaWv8u4QIq... | 20170331 |   8    |   4    |   0    |    1    |\n",
       "| nTeWW/eOZA/UHKdD5L7DEqKKFT... | 20170330 |   2    |   2    |   1    |    0    |\n",
       "| 2UqkWXwZbIjs03dHLU9KHJNNEv... | 20170331 |   52   |   3    |   5    |    3    |\n",
       "| ycwLc+m2O0a85jSLALtr941AaZ... | 20170331 |  176   |   4    |   2    |    2    |\n",
       "| EGcbTofOSOkMmQyN1NMLxHEXJ1... | 20170331 |   2    |   1    |   0    |    1    |\n",
       "| qR/ndQ5B+1cY+c9ihwLoiz+RFi... | 20170331 |   3    |   0    |   0    |    0    |\n",
       "| N6ch5ArfJixq9mvARJv9ip1D11... | 20170330 |   9    |   1    |   0    |    0    |\n",
       "| JEjl2W1ivEI6epeobW3n5rDg/r... | 20170331 |  181   |   68   |   5    |    3    |\n",
       "| lPK4IYIFdfTT6pq7x2dSV1Vy9j... | 20170331 |   3    |   0    |   1    |    1    |\n",
       "| cDgnvwQwCwru2m3zcSuK5oTr6p... | 20170331 |   5    |   4    |   1    |    1    |\n",
       "+-------------------------------+----------+--------+--------+--------+---------+\n",
       "+---------+---------+------------+\n",
       "| num_100 | num_unq | total_secs |\n",
       "+---------+---------+------------+\n",
       "|    21   |    18   |  6309.273  |\n",
       "|    9    |    11   |  2390.699  |\n",
       "|    84   |   110   | 23203.337  |\n",
       "|    19   |   191   |  7100.454  |\n",
       "|   112   |    93   | 28401.558  |\n",
       "|    39   |    41   |  9786.842  |\n",
       "|    18   |    26   |  4920.255  |\n",
       "|    54   |   291   | 22433.105  |\n",
       "|   181   |   150   | 46240.281  |\n",
       "|    30   |    31   |  7881.618  |\n",
       "+---------+---------+------------+\n",
       "[18396362 rows x 9 columns]\n",
       "Note: Only the head of the SFrame is printed.\n",
       "You can use print_rows(num_rows=m, num_columns=n) to print more rows and columns.>"
      ]
     },
     "execution_count": 23,
     "metadata": {},
     "output_type": "execute_result"
    }
   ],
   "source": [
    "user_logs_v2.dtype"
   ]
  },
  {
   "cell_type": "code",
   "execution_count": 24,
   "metadata": {
    "collapsed": true
   },
   "outputs": [],
   "source": [
    "user_logs_v2.save(DIR + 'user_logs_v2_sframe')"
   ]
  },
  {
   "cell_type": "markdown",
   "metadata": {},
   "source": [
    "#### 5. Dataset - samples"
   ]
  },
  {
   "cell_type": "code",
   "execution_count": 26,
   "metadata": {
    "collapsed": false
   },
   "outputs": [
    {
     "data": {
      "text/html": [
       "<pre>Finished parsing file /Volumes/LEON/MDS _UDD/kkbox-churn-prediction-challenge/sample_submission_zero.csv</pre>"
      ],
      "text/plain": [
       "Finished parsing file /Volumes/LEON/MDS _UDD/kkbox-churn-prediction-challenge/sample_submission_zero.csv"
      ]
     },
     "metadata": {},
     "output_type": "display_data"
    },
    {
     "data": {
      "text/html": [
       "<pre>Parsing completed. Parsed 100 lines in 2.13867 secs.</pre>"
      ],
      "text/plain": [
       "Parsing completed. Parsed 100 lines in 2.13867 secs."
      ]
     },
     "metadata": {},
     "output_type": "display_data"
    },
    {
     "name": "stdout",
     "output_type": "stream",
     "text": [
      "------------------------------------------------------\n",
      "Inferred types from first 100 line(s) of file as \n",
      "column_type_hints=[str,int]\n",
      "If parsing fails due to incorrect types, you can correct\n",
      "the inferred type list above and pass it to read_csv in\n",
      "the column_type_hints argument\n",
      "------------------------------------------------------\n"
     ]
    },
    {
     "data": {
      "text/html": [
       "<pre>Finished parsing file /Volumes/LEON/MDS _UDD/kkbox-churn-prediction-challenge/sample_submission_zero.csv</pre>"
      ],
      "text/plain": [
       "Finished parsing file /Volumes/LEON/MDS _UDD/kkbox-churn-prediction-challenge/sample_submission_zero.csv"
      ]
     },
     "metadata": {},
     "output_type": "display_data"
    },
    {
     "data": {
      "text/html": [
       "<pre>Parsing completed. Parsed 970960 lines in 1.02488 secs.</pre>"
      ],
      "text/plain": [
       "Parsing completed. Parsed 970960 lines in 1.02488 secs."
      ]
     },
     "metadata": {},
     "output_type": "display_data"
    }
   ],
   "source": [
    "sample_submission_zero = gl.SFrame.read_csv(DIR + 'sample_submission_zero.csv')"
   ]
  },
  {
   "cell_type": "code",
   "execution_count": 27,
   "metadata": {
    "collapsed": false
   },
   "outputs": [
    {
     "data": {
      "text/plain": [
       "<bound method SFrame.dtype of Columns:\n",
       "\tmsno\tstr\n",
       "\tis_churn\tint\n",
       "\n",
       "Rows: 970960\n",
       "\n",
       "Data:\n",
       "+-------------------------------+----------+\n",
       "|              msno             | is_churn |\n",
       "+-------------------------------+----------+\n",
       "| ugx0CjOMzazClkFzU2xasmDZao... |    0     |\n",
       "| f/NmvEzHfhINFEYZTR05prUdr+... |    0     |\n",
       "| zLo9f73nGGT1p21ltZC3ChiRnA... |    0     |\n",
       "| 8iF/+8HY8lJKFrTc7iR9ZYGCG2... |    0     |\n",
       "| K6fja4+jmoZ5xG6BypqX80Uw/X... |    0     |\n",
       "| ibIHVYBqxGwrSExE63/omeDD99... |    0     |\n",
       "| kVmM8X4iBPCOfK/m1l3KR7LjFo... |    0     |\n",
       "| moRTKhKIDvb+C8ZHOgmaF4dXML... |    0     |\n",
       "| dW/tPZMDh2Oz/ksduEctJbsz0M... |    0     |\n",
       "| otEcMhAX3mU4gumUSogqgteN3o... |    0     |\n",
       "+-------------------------------+----------+\n",
       "[970960 rows x 2 columns]\n",
       "Note: Only the head of the SFrame is printed.\n",
       "You can use print_rows(num_rows=m, num_columns=n) to print more rows and columns.>"
      ]
     },
     "execution_count": 27,
     "metadata": {},
     "output_type": "execute_result"
    }
   ],
   "source": [
    "sample_submission_zero.dtype"
   ]
  },
  {
   "cell_type": "code",
   "execution_count": 28,
   "metadata": {
    "collapsed": true
   },
   "outputs": [],
   "source": [
    "sample_submission_zero.save(DIR + 'sample_submission_zero_sframe')"
   ]
  },
  {
   "cell_type": "code",
   "execution_count": 29,
   "metadata": {
    "collapsed": false
   },
   "outputs": [
    {
     "data": {
      "text/html": [
       "<pre>Finished parsing file /Volumes/LEON/MDS _UDD/kkbox-churn-prediction-challenge/data/churn_comp_refresh/sample_submission_v2.csv</pre>"
      ],
      "text/plain": [
       "Finished parsing file /Volumes/LEON/MDS _UDD/kkbox-churn-prediction-challenge/data/churn_comp_refresh/sample_submission_v2.csv"
      ]
     },
     "metadata": {},
     "output_type": "display_data"
    },
    {
     "data": {
      "text/html": [
       "<pre>Parsing completed. Parsed 100 lines in 1.99618 secs.</pre>"
      ],
      "text/plain": [
       "Parsing completed. Parsed 100 lines in 1.99618 secs."
      ]
     },
     "metadata": {},
     "output_type": "display_data"
    },
    {
     "name": "stdout",
     "output_type": "stream",
     "text": [
      "------------------------------------------------------\n",
      "Inferred types from first 100 line(s) of file as \n",
      "column_type_hints=[str,int]\n",
      "If parsing fails due to incorrect types, you can correct\n",
      "the inferred type list above and pass it to read_csv in\n",
      "the column_type_hints argument\n",
      "------------------------------------------------------\n"
     ]
    },
    {
     "data": {
      "text/html": [
       "<pre>Finished parsing file /Volumes/LEON/MDS _UDD/kkbox-churn-prediction-challenge/data/churn_comp_refresh/sample_submission_v2.csv</pre>"
      ],
      "text/plain": [
       "Finished parsing file /Volumes/LEON/MDS _UDD/kkbox-churn-prediction-challenge/data/churn_comp_refresh/sample_submission_v2.csv"
      ]
     },
     "metadata": {},
     "output_type": "display_data"
    },
    {
     "data": {
      "text/html": [
       "<pre>Parsing completed. Parsed 907471 lines in 1.03408 secs.</pre>"
      ],
      "text/plain": [
       "Parsing completed. Parsed 907471 lines in 1.03408 secs."
      ]
     },
     "metadata": {},
     "output_type": "display_data"
    }
   ],
   "source": [
    "sample_submission_v2 = gl.SFrame.read_csv(DIR + UPDATE + 'sample_submission_v2.csv')"
   ]
  },
  {
   "cell_type": "code",
   "execution_count": 30,
   "metadata": {
    "collapsed": false
   },
   "outputs": [
    {
     "data": {
      "text/plain": [
       "<bound method SFrame.dtype of Columns:\n",
       "\tmsno\tstr\n",
       "\tis_churn\tint\n",
       "\n",
       "Rows: 907471\n",
       "\n",
       "Data:\n",
       "+-------------------------------+----------+\n",
       "|              msno             | is_churn |\n",
       "+-------------------------------+----------+\n",
       "| 4n+fXlyJvfQnTeKXTWT507Ll4J... |    0     |\n",
       "| aNmbC1GvFUxQyQUidCVmfbQ0Ye... |    0     |\n",
       "| rFC9eSG/tMuzpre6cwcMLZHEYM... |    0     |\n",
       "| WZ59dLyrQcE7ft06MZ5dj40Bnl... |    0     |\n",
       "| aky/Iv8hMp1/V/yQHLtaVuEmmA... |    0     |\n",
       "| nu1jZ/flvSaXRg0U9Es+xmo2Kl... |    0     |\n",
       "| biDTtgK83fEWXJDaxzD1eh22di... |    0     |\n",
       "| k/8uwi/iM9LZmRAIWXLqpZY6EN... |    0     |\n",
       "| 18rQ/746SjA6nBx325UsyhfsDh... |    0     |\n",
       "| 2V13OCoWx6vqKr/ZzNmKFrmnC2... |    0     |\n",
       "+-------------------------------+----------+\n",
       "[907471 rows x 2 columns]\n",
       "Note: Only the head of the SFrame is printed.\n",
       "You can use print_rows(num_rows=m, num_columns=n) to print more rows and columns.>"
      ]
     },
     "execution_count": 30,
     "metadata": {},
     "output_type": "execute_result"
    }
   ],
   "source": [
    "sample_submission_v2.dtype"
   ]
  },
  {
   "cell_type": "code",
   "execution_count": 31,
   "metadata": {
    "collapsed": true
   },
   "outputs": [],
   "source": [
    "sample_submission_v2.save(DIR + 'sample_submission_v2_sframe')"
   ]
  },
  {
   "cell_type": "code",
   "execution_count": null,
   "metadata": {
    "collapsed": true
   },
   "outputs": [],
   "source": []
  }
 ],
 "metadata": {
  "kernelspec": {
   "display_name": "Python 2",
   "language": "python",
   "name": "python2"
  },
  "language_info": {
   "codemirror_mode": {
    "name": "ipython",
    "version": 2
   },
   "file_extension": ".py",
   "mimetype": "text/x-python",
   "name": "python",
   "nbconvert_exporter": "python",
   "pygments_lexer": "ipython2",
   "version": "2.7.11"
  }
 },
 "nbformat": 4,
 "nbformat_minor": 0
}
